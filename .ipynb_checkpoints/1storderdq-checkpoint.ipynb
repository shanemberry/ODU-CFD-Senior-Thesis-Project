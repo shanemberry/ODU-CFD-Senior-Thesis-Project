{
 "cells": [
  {
   "cell_type": "code",
   "execution_count": 14,
   "id": "860276cd-644d-4b99-879e-6736d47fb875",
   "metadata": {},
   "outputs": [],
   "source": [
    "import numpy as np\n",
    "import scipy.integrate as integrate\n",
    "import plotly.graph_objects as go\n",
    "\n",
    "def firstorderode(z, t):\n",
    "    k = 0.5\n",
    "    x = z\n",
    "    return k * x"
   ]
  },
  {
   "cell_type": "code",
   "execution_count": 15,
   "id": "0308826f-5e09-4fac-85a9-5defad0531c0",
   "metadata": {},
   "outputs": [],
   "source": [
    "t = np.linspace(0, 10, 200)\n",
    "x0 = 5\n",
    "z = integrate.odeint(firstorderode, x0, t)\n",
    "x = z.T"
   ]
  },
  {
   "cell_type": "code",
   "execution_count": 16,
   "id": "5e2ca50e-8576-4bc6-b234-6b912a535ba7",
   "metadata": {},
   "outputs": [
    {
     "data": {
      "application/vnd.plotly.v1+json": {
       "config": {
        "plotlyServerURL": "https://plot.ly"
       },
       "data": [
        {
         "type": "scatter",
         "x": [
          0,
          0.05025125628140704,
          0.10050251256281408,
          0.15075376884422112,
          0.20100502512562815,
          0.2512562814070352,
          0.30150753768844224,
          0.35175879396984927,
          0.4020100502512563,
          0.45226130653266333,
          0.5025125628140704,
          0.5527638190954774,
          0.6030150753768845,
          0.6532663316582915,
          0.7035175879396985,
          0.7537688442211056,
          0.8040201005025126,
          0.8542713567839196,
          0.9045226130653267,
          0.9547738693467337,
          1.0050251256281408,
          1.0552763819095479,
          1.105527638190955,
          1.155778894472362,
          1.206030150753769,
          1.256281407035176,
          1.306532663316583,
          1.35678391959799,
          1.407035175879397,
          1.4572864321608041,
          1.5075376884422111,
          1.5577889447236182,
          1.6080402010050252,
          1.6582914572864322,
          1.7085427135678393,
          1.7587939698492463,
          1.8090452261306533,
          1.8592964824120604,
          1.9095477386934674,
          1.9597989949748744,
          2.0100502512562817,
          2.0603015075376887,
          2.1105527638190957,
          2.1608040201005028,
          2.21105527638191,
          2.261306532663317,
          2.311557788944724,
          2.361809045226131,
          2.412060301507538,
          2.462311557788945,
          2.512562814070352,
          2.562814070351759,
          2.613065326633166,
          2.663316582914573,
          2.71356783919598,
          2.763819095477387,
          2.814070351758794,
          2.864321608040201,
          2.9145728643216082,
          2.9648241206030153,
          3.0150753768844223,
          3.0653266331658293,
          3.1155778894472363,
          3.1658291457286434,
          3.2160804020100504,
          3.2663316582914574,
          3.3165829145728645,
          3.3668341708542715,
          3.4170854271356785,
          3.4673366834170856,
          3.5175879396984926,
          3.5678391959798996,
          3.6180904522613067,
          3.6683417085427137,
          3.7185929648241207,
          3.7688442211055277,
          3.819095477386935,
          3.869346733668342,
          3.919597989949749,
          3.969849246231156,
          4.020100502512563,
          4.07035175879397,
          4.120603015075377,
          4.170854271356784,
          4.2211055276381915,
          4.2713567839195985,
          4.3216080402010055,
          4.371859296482413,
          4.42211055276382,
          4.472361809045227,
          4.522613065326634,
          4.572864321608041,
          4.623115577889448,
          4.673366834170855,
          4.723618090452262,
          4.773869346733669,
          4.824120603015076,
          4.874371859296483,
          4.92462311557789,
          4.974874371859297,
          5.025125628140704,
          5.075376884422111,
          5.125628140703518,
          5.175879396984925,
          5.226130653266332,
          5.276381909547739,
          5.326633165829146,
          5.376884422110553,
          5.42713567839196,
          5.477386934673367,
          5.527638190954774,
          5.577889447236181,
          5.628140703517588,
          5.678391959798995,
          5.728643216080402,
          5.778894472361809,
          5.8291457286432165,
          5.8793969849246235,
          5.9296482412060305,
          5.9798994974874375,
          6.030150753768845,
          6.080402010050252,
          6.130653266331659,
          6.180904522613066,
          6.231155778894473,
          6.28140703517588,
          6.331658291457287,
          6.381909547738694,
          6.432160804020101,
          6.482412060301508,
          6.532663316582915,
          6.582914572864322,
          6.633165829145729,
          6.683417085427136,
          6.733668341708543,
          6.78391959798995,
          6.834170854271357,
          6.884422110552764,
          6.934673366834171,
          6.984924623115578,
          7.035175879396985,
          7.085427135678392,
          7.135678391959799,
          7.185929648241206,
          7.236180904522613,
          7.28643216080402,
          7.336683417085427,
          7.386934673366834,
          7.437185929648241,
          7.4874371859296485,
          7.5376884422110555,
          7.5879396984924625,
          7.63819095477387,
          7.688442211055277,
          7.738693467336684,
          7.788944723618091,
          7.839195979899498,
          7.889447236180905,
          7.939698492462312,
          7.989949748743719,
          8.040201005025127,
          8.090452261306533,
          8.14070351758794,
          8.190954773869347,
          8.241206030150755,
          8.291457286432161,
          8.341708542713569,
          8.391959798994975,
          8.442211055276383,
          8.492462311557789,
          8.542713567839197,
          8.592964824120603,
          8.643216080402011,
          8.693467336683417,
          8.743718592964825,
          8.793969849246231,
          8.84422110552764,
          8.894472361809045,
          8.944723618090453,
          8.99497487437186,
          9.045226130653267,
          9.095477386934673,
          9.145728643216081,
          9.195979899497488,
          9.246231155778895,
          9.296482412060302,
          9.34673366834171,
          9.396984924623116,
          9.447236180904524,
          9.49748743718593,
          9.547738693467338,
          9.597989949748744,
          9.648241206030152,
          9.698492462311558,
          9.748743718592966,
          9.798994974874372,
          9.84924623115578,
          9.899497487437186,
          9.949748743718594,
          10
         ],
         "y": [
          5,
          5.127219634505048,
          5.257676298485908,
          5.391452293163756,
          5.52863206234055,
          5.669302215140422,
          5.813551585699057,
          5.961471227968529,
          6.113154529060167,
          6.268697267604243,
          6.42819764102004,
          6.591756301371946,
          6.759476512435339,
          6.931464186126888,
          7.107827924087718,
          7.288679050631744,
          7.474131742423111,
          7.664303084436698,
          7.859313135556146,
          8.0592850059307,
          8.264344951697524,
          8.47462242812,
          8.690250190812263,
          8.911364376033326,
          9.138104577740972,
          9.370613975417312,
          9.609039361663429,
          9.85353124363739,
          10.10424393415883,
          10.361335673814366,
          10.624968804562583,
          10.895309779093466,
          11.172529305493152,
          11.456802435182698,
          11.748308603790466,
          12.04723184367854,
          12.353760865814841,
          12.66808918277036,
          12.990415250625977,
          13.320942563627728,
          13.659879791221812,
          14.007440912791864,
          14.363845359349668,
          14.729318140273723,
          15.104089987342517,
          15.48839750341526,
          15.882483320068587,
          16.286596235088687,
          16.700991371964548,
          17.12593034624086,
          17.56168144436701,
          18.008519769151473,
          18.46672741874997,
          18.936593669756387,
          19.418415172334846,
          19.912496114566082,
          20.419148419541425,
          20.93869195084308,
          21.471454730175623,
          22.01777310833937,
          22.57799198753264,
          23.152465036428353,
          23.741554911514655,
          24.345633536394494,
          24.9650822965146,
          25.600292268340414,
          26.25166448055109,
          26.919610168475785,
          27.604551029622293,
          28.30691947871879,
          29.027158941742687,
          29.765724129682184,
          30.52308132592986,
          31.299708681386658,
          32.09609650204979,
          32.912747567883955,
          33.75017745531806,
          34.60891485754446,
          35.48950191732383,
          36.39249457231723,
          37.318462917647025,
          38.26799154662712,
          39.241679924899735,
          40.240142768680826,
          41.26401043166447,
          42.3139293171244,
          43.39056227769462,
          44.49458902466558,
          45.6267065614643,
          46.78762962208398,
          47.97809112601543,
          49.19884266125519,
          50.450654928016995,
          51.734318232339064,
          53.05064298522201,
          54.40046021230082,
          55.78462209883232,
          57.20400251961262,
          58.65949757289751,
          60.15202615436269,
          61.68253053526537,
          63.25197696207746,
          64.86135629838533,
          66.51168460114579,
          68.2040037719906,
          69.93938221578081,
          71.71891551139356,
          73.54372710056752,
          75.41496907031903,
          77.33382282164177,
          79.30149978645878,
          81.31924221449859,
          83.38832395396027,
          85.51005125107133,
          87.68576361091965,
          89.91683467944854,
          92.20467300432291,
          94.55072296509522,
          96.95646568238942,
          99.4234199478142,
          101.95314319136114,
          104.5472325635906,
          107.20732581173836,
          109.93510233331295,
          112.73228424652166,
          115.6006374719209,
          118.54197284113417,
          121.5581473408474,
          124.65106522601829,
          127.82267915242977,
          131.07499144989256,
          134.41005538055902,
          137.82997642768498,
          141.33691367059413,
          144.9330812343714,
          148.62074949934302,
          152.4022465994508,
          156.27995989043103,
          160.25633744884553,
          164.3338896236693,
          168.5151907854288,
          172.80288075643725,
          177.19966648650455,
          181.7083237860138,
          186.33169906965603,
          191.07271114239802,
          195.93435318123633,
          200.91969458481913,
          206.03188275598026,
          211.27414516541535,
          216.64979138000956,
          222.1622151402575,
          227.8148965577393,
          233.61140448742398,
          239.55539846427038,
          245.65063110881562,
          251.90095049962815,
          258.3103025898133,
          264.8827336980231,
          271.6223933245574,
          278.5335364993466,
          285.62052643995503,
          292.88783735833596,
          300.340057271765,
          307.98189088169426,
          315.8181627278003,
          323.8538202619909,
          332.0939366494288,
          340.54371411373666,
          349.208487207098,
          358.09372615909353,
          367.20504039176024,
          376.54818238453413,
          386.1290507972333,
          395.95369431996966,
          406.02831550900027,
          416.35927468219904,
          426.95309392239596,
          437.81646159840307,
          448.9562362343611,
          460.37945071538974,
          472.0933168351844,
          484.1052298272772,
          496.42277300583,
          509.0537227904573,
          522.0060537899384,
          535.2879432275239,
          548.907776347575,
          562.8741516912484,
          577.1958864948932,
          591.8820223188991,
          606.9418313207027,
          622.3848213203752,
          638.2207419451578,
          654.459590834759,
          671.1116199209204,
          688.1873418675705,
          705.6975373085448,
          723.653261246258,
          742.0658496894221
         ]
        }
       ],
       "layout": {
        "autosize": true,
        "template": {
         "data": {
          "bar": [
           {
            "error_x": {
             "color": "#2a3f5f"
            },
            "error_y": {
             "color": "#2a3f5f"
            },
            "marker": {
             "line": {
              "color": "#E5ECF6",
              "width": 0.5
             },
             "pattern": {
              "fillmode": "overlay",
              "size": 10,
              "solidity": 0.2
             }
            },
            "type": "bar"
           }
          ],
          "barpolar": [
           {
            "marker": {
             "line": {
              "color": "#E5ECF6",
              "width": 0.5
             },
             "pattern": {
              "fillmode": "overlay",
              "size": 10,
              "solidity": 0.2
             }
            },
            "type": "barpolar"
           }
          ],
          "carpet": [
           {
            "aaxis": {
             "endlinecolor": "#2a3f5f",
             "gridcolor": "white",
             "linecolor": "white",
             "minorgridcolor": "white",
             "startlinecolor": "#2a3f5f"
            },
            "baxis": {
             "endlinecolor": "#2a3f5f",
             "gridcolor": "white",
             "linecolor": "white",
             "minorgridcolor": "white",
             "startlinecolor": "#2a3f5f"
            },
            "type": "carpet"
           }
          ],
          "choropleth": [
           {
            "colorbar": {
             "outlinewidth": 0,
             "ticks": ""
            },
            "type": "choropleth"
           }
          ],
          "contour": [
           {
            "colorbar": {
             "outlinewidth": 0,
             "ticks": ""
            },
            "colorscale": [
             [
              0,
              "#0d0887"
             ],
             [
              0.1111111111111111,
              "#46039f"
             ],
             [
              0.2222222222222222,
              "#7201a8"
             ],
             [
              0.3333333333333333,
              "#9c179e"
             ],
             [
              0.4444444444444444,
              "#bd3786"
             ],
             [
              0.5555555555555556,
              "#d8576b"
             ],
             [
              0.6666666666666666,
              "#ed7953"
             ],
             [
              0.7777777777777778,
              "#fb9f3a"
             ],
             [
              0.8888888888888888,
              "#fdca26"
             ],
             [
              1,
              "#f0f921"
             ]
            ],
            "type": "contour"
           }
          ],
          "contourcarpet": [
           {
            "colorbar": {
             "outlinewidth": 0,
             "ticks": ""
            },
            "type": "contourcarpet"
           }
          ],
          "heatmap": [
           {
            "colorbar": {
             "outlinewidth": 0,
             "ticks": ""
            },
            "colorscale": [
             [
              0,
              "#0d0887"
             ],
             [
              0.1111111111111111,
              "#46039f"
             ],
             [
              0.2222222222222222,
              "#7201a8"
             ],
             [
              0.3333333333333333,
              "#9c179e"
             ],
             [
              0.4444444444444444,
              "#bd3786"
             ],
             [
              0.5555555555555556,
              "#d8576b"
             ],
             [
              0.6666666666666666,
              "#ed7953"
             ],
             [
              0.7777777777777778,
              "#fb9f3a"
             ],
             [
              0.8888888888888888,
              "#fdca26"
             ],
             [
              1,
              "#f0f921"
             ]
            ],
            "type": "heatmap"
           }
          ],
          "heatmapgl": [
           {
            "colorbar": {
             "outlinewidth": 0,
             "ticks": ""
            },
            "colorscale": [
             [
              0,
              "#0d0887"
             ],
             [
              0.1111111111111111,
              "#46039f"
             ],
             [
              0.2222222222222222,
              "#7201a8"
             ],
             [
              0.3333333333333333,
              "#9c179e"
             ],
             [
              0.4444444444444444,
              "#bd3786"
             ],
             [
              0.5555555555555556,
              "#d8576b"
             ],
             [
              0.6666666666666666,
              "#ed7953"
             ],
             [
              0.7777777777777778,
              "#fb9f3a"
             ],
             [
              0.8888888888888888,
              "#fdca26"
             ],
             [
              1,
              "#f0f921"
             ]
            ],
            "type": "heatmapgl"
           }
          ],
          "histogram": [
           {
            "marker": {
             "pattern": {
              "fillmode": "overlay",
              "size": 10,
              "solidity": 0.2
             }
            },
            "type": "histogram"
           }
          ],
          "histogram2d": [
           {
            "colorbar": {
             "outlinewidth": 0,
             "ticks": ""
            },
            "colorscale": [
             [
              0,
              "#0d0887"
             ],
             [
              0.1111111111111111,
              "#46039f"
             ],
             [
              0.2222222222222222,
              "#7201a8"
             ],
             [
              0.3333333333333333,
              "#9c179e"
             ],
             [
              0.4444444444444444,
              "#bd3786"
             ],
             [
              0.5555555555555556,
              "#d8576b"
             ],
             [
              0.6666666666666666,
              "#ed7953"
             ],
             [
              0.7777777777777778,
              "#fb9f3a"
             ],
             [
              0.8888888888888888,
              "#fdca26"
             ],
             [
              1,
              "#f0f921"
             ]
            ],
            "type": "histogram2d"
           }
          ],
          "histogram2dcontour": [
           {
            "colorbar": {
             "outlinewidth": 0,
             "ticks": ""
            },
            "colorscale": [
             [
              0,
              "#0d0887"
             ],
             [
              0.1111111111111111,
              "#46039f"
             ],
             [
              0.2222222222222222,
              "#7201a8"
             ],
             [
              0.3333333333333333,
              "#9c179e"
             ],
             [
              0.4444444444444444,
              "#bd3786"
             ],
             [
              0.5555555555555556,
              "#d8576b"
             ],
             [
              0.6666666666666666,
              "#ed7953"
             ],
             [
              0.7777777777777778,
              "#fb9f3a"
             ],
             [
              0.8888888888888888,
              "#fdca26"
             ],
             [
              1,
              "#f0f921"
             ]
            ],
            "type": "histogram2dcontour"
           }
          ],
          "mesh3d": [
           {
            "colorbar": {
             "outlinewidth": 0,
             "ticks": ""
            },
            "type": "mesh3d"
           }
          ],
          "parcoords": [
           {
            "line": {
             "colorbar": {
              "outlinewidth": 0,
              "ticks": ""
             }
            },
            "type": "parcoords"
           }
          ],
          "pie": [
           {
            "automargin": true,
            "type": "pie"
           }
          ],
          "scatter": [
           {
            "fillpattern": {
             "fillmode": "overlay",
             "size": 10,
             "solidity": 0.2
            },
            "type": "scatter"
           }
          ],
          "scatter3d": [
           {
            "line": {
             "colorbar": {
              "outlinewidth": 0,
              "ticks": ""
             }
            },
            "marker": {
             "colorbar": {
              "outlinewidth": 0,
              "ticks": ""
             }
            },
            "type": "scatter3d"
           }
          ],
          "scattercarpet": [
           {
            "marker": {
             "colorbar": {
              "outlinewidth": 0,
              "ticks": ""
             }
            },
            "type": "scattercarpet"
           }
          ],
          "scattergeo": [
           {
            "marker": {
             "colorbar": {
              "outlinewidth": 0,
              "ticks": ""
             }
            },
            "type": "scattergeo"
           }
          ],
          "scattergl": [
           {
            "marker": {
             "colorbar": {
              "outlinewidth": 0,
              "ticks": ""
             }
            },
            "type": "scattergl"
           }
          ],
          "scattermapbox": [
           {
            "marker": {
             "colorbar": {
              "outlinewidth": 0,
              "ticks": ""
             }
            },
            "type": "scattermapbox"
           }
          ],
          "scatterpolar": [
           {
            "marker": {
             "colorbar": {
              "outlinewidth": 0,
              "ticks": ""
             }
            },
            "type": "scatterpolar"
           }
          ],
          "scatterpolargl": [
           {
            "marker": {
             "colorbar": {
              "outlinewidth": 0,
              "ticks": ""
             }
            },
            "type": "scatterpolargl"
           }
          ],
          "scatterternary": [
           {
            "marker": {
             "colorbar": {
              "outlinewidth": 0,
              "ticks": ""
             }
            },
            "type": "scatterternary"
           }
          ],
          "surface": [
           {
            "colorbar": {
             "outlinewidth": 0,
             "ticks": ""
            },
            "colorscale": [
             [
              0,
              "#0d0887"
             ],
             [
              0.1111111111111111,
              "#46039f"
             ],
             [
              0.2222222222222222,
              "#7201a8"
             ],
             [
              0.3333333333333333,
              "#9c179e"
             ],
             [
              0.4444444444444444,
              "#bd3786"
             ],
             [
              0.5555555555555556,
              "#d8576b"
             ],
             [
              0.6666666666666666,
              "#ed7953"
             ],
             [
              0.7777777777777778,
              "#fb9f3a"
             ],
             [
              0.8888888888888888,
              "#fdca26"
             ],
             [
              1,
              "#f0f921"
             ]
            ],
            "type": "surface"
           }
          ],
          "table": [
           {
            "cells": {
             "fill": {
              "color": "#EBF0F8"
             },
             "line": {
              "color": "white"
             }
            },
            "header": {
             "fill": {
              "color": "#C8D4E3"
             },
             "line": {
              "color": "white"
             }
            },
            "type": "table"
           }
          ]
         },
         "layout": {
          "annotationdefaults": {
           "arrowcolor": "#2a3f5f",
           "arrowhead": 0,
           "arrowwidth": 1
          },
          "autotypenumbers": "strict",
          "coloraxis": {
           "colorbar": {
            "outlinewidth": 0,
            "ticks": ""
           }
          },
          "colorscale": {
           "diverging": [
            [
             0,
             "#8e0152"
            ],
            [
             0.1,
             "#c51b7d"
            ],
            [
             0.2,
             "#de77ae"
            ],
            [
             0.3,
             "#f1b6da"
            ],
            [
             0.4,
             "#fde0ef"
            ],
            [
             0.5,
             "#f7f7f7"
            ],
            [
             0.6,
             "#e6f5d0"
            ],
            [
             0.7,
             "#b8e186"
            ],
            [
             0.8,
             "#7fbc41"
            ],
            [
             0.9,
             "#4d9221"
            ],
            [
             1,
             "#276419"
            ]
           ],
           "sequential": [
            [
             0,
             "#0d0887"
            ],
            [
             0.1111111111111111,
             "#46039f"
            ],
            [
             0.2222222222222222,
             "#7201a8"
            ],
            [
             0.3333333333333333,
             "#9c179e"
            ],
            [
             0.4444444444444444,
             "#bd3786"
            ],
            [
             0.5555555555555556,
             "#d8576b"
            ],
            [
             0.6666666666666666,
             "#ed7953"
            ],
            [
             0.7777777777777778,
             "#fb9f3a"
            ],
            [
             0.8888888888888888,
             "#fdca26"
            ],
            [
             1,
             "#f0f921"
            ]
           ],
           "sequentialminus": [
            [
             0,
             "#0d0887"
            ],
            [
             0.1111111111111111,
             "#46039f"
            ],
            [
             0.2222222222222222,
             "#7201a8"
            ],
            [
             0.3333333333333333,
             "#9c179e"
            ],
            [
             0.4444444444444444,
             "#bd3786"
            ],
            [
             0.5555555555555556,
             "#d8576b"
            ],
            [
             0.6666666666666666,
             "#ed7953"
            ],
            [
             0.7777777777777778,
             "#fb9f3a"
            ],
            [
             0.8888888888888888,
             "#fdca26"
            ],
            [
             1,
             "#f0f921"
            ]
           ]
          },
          "colorway": [
           "#636efa",
           "#EF553B",
           "#00cc96",
           "#ab63fa",
           "#FFA15A",
           "#19d3f3",
           "#FF6692",
           "#B6E880",
           "#FF97FF",
           "#FECB52"
          ],
          "font": {
           "color": "#2a3f5f"
          },
          "geo": {
           "bgcolor": "white",
           "lakecolor": "white",
           "landcolor": "#E5ECF6",
           "showlakes": true,
           "showland": true,
           "subunitcolor": "white"
          },
          "hoverlabel": {
           "align": "left"
          },
          "hovermode": "closest",
          "mapbox": {
           "style": "light"
          },
          "paper_bgcolor": "white",
          "plot_bgcolor": "#E5ECF6",
          "polar": {
           "angularaxis": {
            "gridcolor": "white",
            "linecolor": "white",
            "ticks": ""
           },
           "bgcolor": "#E5ECF6",
           "radialaxis": {
            "gridcolor": "white",
            "linecolor": "white",
            "ticks": ""
           }
          },
          "scene": {
           "xaxis": {
            "backgroundcolor": "#E5ECF6",
            "gridcolor": "white",
            "gridwidth": 2,
            "linecolor": "white",
            "showbackground": true,
            "ticks": "",
            "zerolinecolor": "white"
           },
           "yaxis": {
            "backgroundcolor": "#E5ECF6",
            "gridcolor": "white",
            "gridwidth": 2,
            "linecolor": "white",
            "showbackground": true,
            "ticks": "",
            "zerolinecolor": "white"
           },
           "zaxis": {
            "backgroundcolor": "#E5ECF6",
            "gridcolor": "white",
            "gridwidth": 2,
            "linecolor": "white",
            "showbackground": true,
            "ticks": "",
            "zerolinecolor": "white"
           }
          },
          "shapedefaults": {
           "line": {
            "color": "#2a3f5f"
           }
          },
          "ternary": {
           "aaxis": {
            "gridcolor": "white",
            "linecolor": "white",
            "ticks": ""
           },
           "baxis": {
            "gridcolor": "white",
            "linecolor": "white",
            "ticks": ""
           },
           "bgcolor": "#E5ECF6",
           "caxis": {
            "gridcolor": "white",
            "linecolor": "white",
            "ticks": ""
           }
          },
          "title": {
           "x": 0.05
          },
          "xaxis": {
           "automargin": true,
           "gridcolor": "white",
           "linecolor": "white",
           "ticks": "",
           "title": {
            "standoff": 15
           },
           "zerolinecolor": "white",
           "zerolinewidth": 2
          },
          "yaxis": {
           "automargin": true,
           "gridcolor": "white",
           "linecolor": "white",
           "ticks": "",
           "title": {
            "standoff": 15
           },
           "zerolinecolor": "white",
           "zerolinewidth": 2
          }
         }
        },
        "xaxis": {
         "autorange": true,
         "range": [
          0,
          10
         ],
         "type": "linear"
        },
        "yaxis": {
         "autorange": true,
         "range": [
          -35.948102760523454,
          783.0139524499455
         ],
         "type": "linear"
        }
       }
      },
      "image/png": "[encoded data removed]",
      "text/html": [
       "<div>                            <div id=\"919a1ef8-ec01-4df3-82ef-dcd64b727c80\" class=\"plotly-graph-div\" style=\"height:525px; width:100%;\"></div>            <script type=\"text/javascript\">                require([\"plotly\"], function(Plotly) {                    window.PLOTLYENV=window.PLOTLYENV || {};                                    if (document.getElementById(\"919a1ef8-ec01-4df3-82ef-dcd64b727c80\")) {                    Plotly.newPlot(                        \"919a1ef8-ec01-4df3-82ef-dcd64b727c80\",                        [{\"x\":[0.0,0.05025125628140704,0.10050251256281408,0.15075376884422112,0.20100502512562815,0.2512562814070352,0.30150753768844224,0.35175879396984927,0.4020100502512563,0.45226130653266333,0.5025125628140704,0.5527638190954774,0.6030150753768845,0.6532663316582915,0.7035175879396985,0.7537688442211056,0.8040201005025126,0.8542713567839196,0.9045226130653267,0.9547738693467337,1.0050251256281408,1.0552763819095479,1.105527638190955,1.155778894472362,1.206030150753769,1.256281407035176,1.306532663316583,1.35678391959799,1.407035175879397,1.4572864321608041,1.5075376884422111,1.5577889447236182,1.6080402010050252,1.6582914572864322,1.7085427135678393,1.7587939698492463,1.8090452261306533,1.8592964824120604,1.9095477386934674,1.9597989949748744,2.0100502512562817,2.0603015075376887,2.1105527638190957,2.1608040201005028,2.21105527638191,2.261306532663317,2.311557788944724,2.361809045226131,2.412060301507538,2.462311557788945,2.512562814070352,2.562814070351759,2.613065326633166,2.663316582914573,2.71356783919598,2.763819095477387,2.814070351758794,2.864321608040201,2.9145728643216082,2.9648241206030153,3.0150753768844223,3.0653266331658293,3.1155778894472363,3.1658291457286434,3.2160804020100504,3.2663316582914574,3.3165829145728645,3.3668341708542715,3.4170854271356785,3.4673366834170856,3.5175879396984926,3.5678391959798996,3.6180904522613067,3.6683417085427137,3.7185929648241207,3.7688442211055277,3.819095477386935,3.869346733668342,3.919597989949749,3.969849246231156,4.020100502512563,4.07035175879397,4.120603015075377,4.170854271356784,4.2211055276381915,4.2713567839195985,4.3216080402010055,4.371859296482413,4.42211055276382,4.472361809045227,4.522613065326634,4.572864321608041,4.623115577889448,4.673366834170855,4.723618090452262,4.773869346733669,4.824120603015076,4.874371859296483,4.92462311557789,4.974874371859297,5.025125628140704,5.075376884422111,5.125628140703518,5.175879396984925,5.226130653266332,5.276381909547739,5.326633165829146,5.376884422110553,5.42713567839196,5.477386934673367,5.527638190954774,5.577889447236181,5.628140703517588,5.678391959798995,5.728643216080402,5.778894472361809,5.8291457286432165,5.8793969849246235,5.9296482412060305,5.9798994974874375,6.030150753768845,6.080402010050252,6.130653266331659,6.180904522613066,6.231155778894473,6.28140703517588,6.331658291457287,6.381909547738694,6.432160804020101,6.482412060301508,6.532663316582915,6.582914572864322,6.633165829145729,6.683417085427136,6.733668341708543,6.78391959798995,6.834170854271357,6.884422110552764,6.934673366834171,6.984924623115578,7.035175879396985,7.085427135678392,7.135678391959799,7.185929648241206,7.236180904522613,7.28643216080402,7.336683417085427,7.386934673366834,7.437185929648241,7.4874371859296485,7.5376884422110555,7.5879396984924625,7.63819095477387,7.688442211055277,7.738693467336684,7.788944723618091,7.839195979899498,7.889447236180905,7.939698492462312,7.989949748743719,8.040201005025127,8.090452261306533,8.14070351758794,8.190954773869347,8.241206030150755,8.291457286432161,8.341708542713569,8.391959798994975,8.442211055276383,8.492462311557789,8.542713567839197,8.592964824120603,8.643216080402011,8.693467336683417,8.743718592964825,8.793969849246231,8.84422110552764,8.894472361809045,8.944723618090453,8.99497487437186,9.045226130653267,9.095477386934673,9.145728643216081,9.195979899497488,9.246231155778895,9.296482412060302,9.34673366834171,9.396984924623116,9.447236180904524,9.49748743718593,9.547738693467338,9.597989949748744,9.648241206030152,9.698492462311558,9.748743718592966,9.798994974874372,9.84924623115578,9.899497487437186,9.949748743718594,10.0],\"y\":[5.0,5.127219634505048,5.257676298485908,5.391452293163756,5.52863206234055,5.669302215140422,5.813551585699057,5.961471227968529,6.113154529060167,6.268697267604243,6.42819764102004,6.591756301371946,6.759476512435339,6.931464186126888,7.107827924087718,7.288679050631744,7.474131742423111,7.664303084436698,7.859313135556146,8.0592850059307,8.264344951697524,8.47462242812,8.690250190812263,8.911364376033326,9.138104577740972,9.370613975417312,9.609039361663429,9.85353124363739,10.10424393415883,10.361335673814366,10.624968804562583,10.895309779093466,11.172529305493152,11.456802435182698,11.748308603790466,12.04723184367854,12.353760865814841,12.66808918277036,12.990415250625977,13.320942563627728,13.659879791221812,14.007440912791864,14.363845359349668,14.729318140273723,15.104089987342517,15.48839750341526,15.882483320068587,16.286596235088687,16.700991371964548,17.12593034624086,17.56168144436701,18.008519769151473,18.46672741874997,18.936593669756387,19.418415172334846,19.912496114566082,20.419148419541425,20.93869195084308,21.471454730175623,22.01777310833937,22.57799198753264,23.152465036428353,23.741554911514655,24.345633536394494,24.9650822965146,25.600292268340414,26.25166448055109,26.919610168475785,27.604551029622293,28.30691947871879,29.027158941742687,29.765724129682184,30.52308132592986,31.299708681386658,32.09609650204979,32.912747567883955,33.75017745531806,34.60891485754446,35.48950191732383,36.39249457231723,37.318462917647025,38.26799154662712,39.241679924899735,40.240142768680826,41.26401043166447,42.3139293171244,43.39056227769462,44.49458902466558,45.6267065614643,46.78762962208398,47.97809112601543,49.19884266125519,50.450654928016995,51.734318232339064,53.05064298522201,54.40046021230082,55.78462209883232,57.20400251961262,58.65949757289751,60.15202615436269,61.68253053526537,63.25197696207746,64.86135629838533,66.51168460114579,68.2040037719906,69.93938221578081,71.71891551139356,73.54372710056752,75.41496907031903,77.33382282164177,79.30149978645878,81.31924221449859,83.38832395396027,85.51005125107133,87.68576361091965,89.91683467944854,92.20467300432291,94.55072296509522,96.95646568238942,99.4234199478142,101.95314319136114,104.5472325635906,107.20732581173836,109.93510233331295,112.73228424652166,115.6006374719209,118.54197284113417,121.5581473408474,124.65106522601829,127.82267915242977,131.07499144989256,134.41005538055902,137.82997642768498,141.33691367059413,144.9330812343714,148.62074949934302,152.4022465994508,156.27995989043103,160.25633744884553,164.3338896236693,168.5151907854288,172.80288075643725,177.19966648650455,181.7083237860138,186.33169906965603,191.07271114239802,195.93435318123633,200.91969458481913,206.03188275598026,211.27414516541535,216.64979138000956,222.1622151402575,227.8148965577393,233.61140448742398,239.55539846427038,245.65063110881562,251.90095049962815,258.3103025898133,264.8827336980231,271.6223933245574,278.5335364993466,285.62052643995503,292.88783735833596,300.340057271765,307.98189088169426,315.8181627278003,323.8538202619909,332.0939366494288,340.54371411373666,349.208487207098,358.09372615909353,367.20504039176024,376.54818238453413,386.1290507972333,395.95369431996966,406.02831550900027,416.35927468219904,426.95309392239596,437.81646159840307,448.9562362343611,460.37945071538974,472.0933168351844,484.1052298272772,496.42277300583,509.0537227904573,522.0060537899384,535.2879432275239,548.907776347575,562.8741516912484,577.1958864948932,591.8820223188991,606.9418313207027,622.3848213203752,638.2207419451578,654.459590834759,671.1116199209204,688.1873418675705,705.6975373085448,723.653261246258,742.0658496894221],\"type\":\"scatter\"}],                        {\"template\":{\"data\":{\"histogram2dcontour\":[{\"type\":\"histogram2dcontour\",\"colorbar\":{\"outlinewidth\":0,\"ticks\":\"\"},\"colorscale\":[[0.0,\"#0d0887\"],[0.1111111111111111,\"#46039f\"],[0.2222222222222222,\"#7201a8\"],[0.3333333333333333,\"#9c179e\"],[0.4444444444444444,\"#bd3786\"],[0.5555555555555556,\"#d8576b\"],[0.6666666666666666,\"#ed7953\"],[0.7777777777777778,\"#fb9f3a\"],[0.8888888888888888,\"#fdca26\"],[1.0,\"#f0f921\"]]}],\"choropleth\":[{\"type\":\"choropleth\",\"colorbar\":{\"outlinewidth\":0,\"ticks\":\"\"}}],\"histogram2d\":[{\"type\":\"histogram2d\",\"colorbar\":{\"outlinewidth\":0,\"ticks\":\"\"},\"colorscale\":[[0.0,\"#0d0887\"],[0.1111111111111111,\"#46039f\"],[0.2222222222222222,\"#7201a8\"],[0.3333333333333333,\"#9c179e\"],[0.4444444444444444,\"#bd3786\"],[0.5555555555555556,\"#d8576b\"],[0.6666666666666666,\"#ed7953\"],[0.7777777777777778,\"#fb9f3a\"],[0.8888888888888888,\"#fdca26\"],[1.0,\"#f0f921\"]]}],\"heatmap\":[{\"type\":\"heatmap\",\"colorbar\":{\"outlinewidth\":0,\"ticks\":\"\"},\"colorscale\":[[0.0,\"#0d0887\"],[0.1111111111111111,\"#46039f\"],[0.2222222222222222,\"#7201a8\"],[0.3333333333333333,\"#9c179e\"],[0.4444444444444444,\"#bd3786\"],[0.5555555555555556,\"#d8576b\"],[0.6666666666666666,\"#ed7953\"],[0.7777777777777778,\"#fb9f3a\"],[0.8888888888888888,\"#fdca26\"],[1.0,\"#f0f921\"]]}],\"heatmapgl\":[{\"type\":\"heatmapgl\",\"colorbar\":{\"outlinewidth\":0,\"ticks\":\"\"},\"colorscale\":[[0.0,\"#0d0887\"],[0.1111111111111111,\"#46039f\"],[0.2222222222222222,\"#7201a8\"],[0.3333333333333333,\"#9c179e\"],[0.4444444444444444,\"#bd3786\"],[0.5555555555555556,\"#d8576b\"],[0.6666666666666666,\"#ed7953\"],[0.7777777777777778,\"#fb9f3a\"],[0.8888888888888888,\"#fdca26\"],[1.0,\"#f0f921\"]]}],\"contourcarpet\":[{\"type\":\"contourcarpet\",\"colorbar\":{\"outlinewidth\":0,\"ticks\":\"\"}}],\"contour\":[{\"type\":\"contour\",\"colorbar\":{\"outlinewidth\":0,\"ticks\":\"\"},\"colorscale\":[[0.0,\"#0d0887\"],[0.1111111111111111,\"#46039f\"],[0.2222222222222222,\"#7201a8\"],[0.3333333333333333,\"#9c179e\"],[0.4444444444444444,\"#bd3786\"],[0.5555555555555556,\"#d8576b\"],[0.6666666666666666,\"#ed7953\"],[0.7777777777777778,\"#fb9f3a\"],[0.8888888888888888,\"#fdca26\"],[1.0,\"#f0f921\"]]}],\"surface\":[{\"type\":\"surface\",\"colorbar\":{\"outlinewidth\":0,\"ticks\":\"\"},\"colorscale\":[[0.0,\"#0d0887\"],[0.1111111111111111,\"#46039f\"],[0.2222222222222222,\"#7201a8\"],[0.3333333333333333,\"#9c179e\"],[0.4444444444444444,\"#bd3786\"],[0.5555555555555556,\"#d8576b\"],[0.6666666666666666,\"#ed7953\"],[0.7777777777777778,\"#fb9f3a\"],[0.8888888888888888,\"#fdca26\"],[1.0,\"#f0f921\"]]}],\"mesh3d\":[{\"type\":\"mesh3d\",\"colorbar\":{\"outlinewidth\":0,\"ticks\":\"\"}}],\"scatter\":[{\"fillpattern\":{\"fillmode\":\"overlay\",\"size\":10,\"solidity\":0.2},\"type\":\"scatter\"}],\"parcoords\":[{\"type\":\"parcoords\",\"line\":{\"colorbar\":{\"outlinewidth\":0,\"ticks\":\"\"}}}],\"scatterpolargl\":[{\"type\":\"scatterpolargl\",\"marker\":{\"colorbar\":{\"outlinewidth\":0,\"ticks\":\"\"}}}],\"bar\":[{\"error_x\":{\"color\":\"#2a3f5f\"},\"error_y\":{\"color\":\"#2a3f5f\"},\"marker\":{\"line\":{\"color\":\"#E5ECF6\",\"width\":0.5},\"pattern\":{\"fillmode\":\"overlay\",\"size\":10,\"solidity\":0.2}},\"type\":\"bar\"}],\"scattergeo\":[{\"type\":\"scattergeo\",\"marker\":{\"colorbar\":{\"outlinewidth\":0,\"ticks\":\"\"}}}],\"scatterpolar\":[{\"type\":\"scatterpolar\",\"marker\":{\"colorbar\":{\"outlinewidth\":0,\"ticks\":\"\"}}}],\"histogram\":[{\"marker\":{\"pattern\":{\"fillmode\":\"overlay\",\"size\":10,\"solidity\":0.2}},\"type\":\"histogram\"}],\"scattergl\":[{\"type\":\"scattergl\",\"marker\":{\"colorbar\":{\"outlinewidth\":0,\"ticks\":\"\"}}}],\"scatter3d\":[{\"type\":\"scatter3d\",\"line\":{\"colorbar\":{\"outlinewidth\":0,\"ticks\":\"\"}},\"marker\":{\"colorbar\":{\"outlinewidth\":0,\"ticks\":\"\"}}}],\"scattermapbox\":[{\"type\":\"scattermapbox\",\"marker\":{\"colorbar\":{\"outlinewidth\":0,\"ticks\":\"\"}}}],\"scatterternary\":[{\"type\":\"scatterternary\",\"marker\":{\"colorbar\":{\"outlinewidth\":0,\"ticks\":\"\"}}}],\"scattercarpet\":[{\"type\":\"scattercarpet\",\"marker\":{\"colorbar\":{\"outlinewidth\":0,\"ticks\":\"\"}}}],\"carpet\":[{\"aaxis\":{\"endlinecolor\":\"#2a3f5f\",\"gridcolor\":\"white\",\"linecolor\":\"white\",\"minorgridcolor\":\"white\",\"startlinecolor\":\"#2a3f5f\"},\"baxis\":{\"endlinecolor\":\"#2a3f5f\",\"gridcolor\":\"white\",\"linecolor\":\"white\",\"minorgridcolor\":\"white\",\"startlinecolor\":\"#2a3f5f\"},\"type\":\"carpet\"}],\"table\":[{\"cells\":{\"fill\":{\"color\":\"#EBF0F8\"},\"line\":{\"color\":\"white\"}},\"header\":{\"fill\":{\"color\":\"#C8D4E3\"},\"line\":{\"color\":\"white\"}},\"type\":\"table\"}],\"barpolar\":[{\"marker\":{\"line\":{\"color\":\"#E5ECF6\",\"width\":0.5},\"pattern\":{\"fillmode\":\"overlay\",\"size\":10,\"solidity\":0.2}},\"type\":\"barpolar\"}],\"pie\":[{\"automargin\":true,\"type\":\"pie\"}]},\"layout\":{\"autotypenumbers\":\"strict\",\"colorway\":[\"#636efa\",\"#EF553B\",\"#00cc96\",\"#ab63fa\",\"#FFA15A\",\"#19d3f3\",\"#FF6692\",\"#B6E880\",\"#FF97FF\",\"#FECB52\"],\"font\":{\"color\":\"#2a3f5f\"},\"hovermode\":\"closest\",\"hoverlabel\":{\"align\":\"left\"},\"paper_bgcolor\":\"white\",\"plot_bgcolor\":\"#E5ECF6\",\"polar\":{\"bgcolor\":\"#E5ECF6\",\"angularaxis\":{\"gridcolor\":\"white\",\"linecolor\":\"white\",\"ticks\":\"\"},\"radialaxis\":{\"gridcolor\":\"white\",\"linecolor\":\"white\",\"ticks\":\"\"}},\"ternary\":{\"bgcolor\":\"#E5ECF6\",\"aaxis\":{\"gridcolor\":\"white\",\"linecolor\":\"white\",\"ticks\":\"\"},\"baxis\":{\"gridcolor\":\"white\",\"linecolor\":\"white\",\"ticks\":\"\"},\"caxis\":{\"gridcolor\":\"white\",\"linecolor\":\"white\",\"ticks\":\"\"}},\"coloraxis\":{\"colorbar\":{\"outlinewidth\":0,\"ticks\":\"\"}},\"colorscale\":{\"sequential\":[[0.0,\"#0d0887\"],[0.1111111111111111,\"#46039f\"],[0.2222222222222222,\"#7201a8\"],[0.3333333333333333,\"#9c179e\"],[0.4444444444444444,\"#bd3786\"],[0.5555555555555556,\"#d8576b\"],[0.6666666666666666,\"#ed7953\"],[0.7777777777777778,\"#fb9f3a\"],[0.8888888888888888,\"#fdca26\"],[1.0,\"#f0f921\"]],\"sequentialminus\":[[0.0,\"#0d0887\"],[0.1111111111111111,\"#46039f\"],[0.2222222222222222,\"#7201a8\"],[0.3333333333333333,\"#9c179e\"],[0.4444444444444444,\"#bd3786\"],[0.5555555555555556,\"#d8576b\"],[0.6666666666666666,\"#ed7953\"],[0.7777777777777778,\"#fb9f3a\"],[0.8888888888888888,\"#fdca26\"],[1.0,\"#f0f921\"]],\"diverging\":[[0,\"#8e0152\"],[0.1,\"#c51b7d\"],[0.2,\"#de77ae\"],[0.3,\"#f1b6da\"],[0.4,\"#fde0ef\"],[0.5,\"#f7f7f7\"],[0.6,\"#e6f5d0\"],[0.7,\"#b8e186\"],[0.8,\"#7fbc41\"],[0.9,\"#4d9221\"],[1,\"#276419\"]]},\"xaxis\":{\"gridcolor\":\"white\",\"linecolor\":\"white\",\"ticks\":\"\",\"title\":{\"standoff\":15},\"zerolinecolor\":\"white\",\"automargin\":true,\"zerolinewidth\":2},\"yaxis\":{\"gridcolor\":\"white\",\"linecolor\":\"white\",\"ticks\":\"\",\"title\":{\"standoff\":15},\"zerolinecolor\":\"white\",\"automargin\":true,\"zerolinewidth\":2},\"scene\":{\"xaxis\":{\"backgroundcolor\":\"#E5ECF6\",\"gridcolor\":\"white\",\"linecolor\":\"white\",\"showbackground\":true,\"ticks\":\"\",\"zerolinecolor\":\"white\",\"gridwidth\":2},\"yaxis\":{\"backgroundcolor\":\"#E5ECF6\",\"gridcolor\":\"white\",\"linecolor\":\"white\",\"showbackground\":true,\"ticks\":\"\",\"zerolinecolor\":\"white\",\"gridwidth\":2},\"zaxis\":{\"backgroundcolor\":\"#E5ECF6\",\"gridcolor\":\"white\",\"linecolor\":\"white\",\"showbackground\":true,\"ticks\":\"\",\"zerolinecolor\":\"white\",\"gridwidth\":2}},\"shapedefaults\":{\"line\":{\"color\":\"#2a3f5f\"}},\"annotationdefaults\":{\"arrowcolor\":\"#2a3f5f\",\"arrowhead\":0,\"arrowwidth\":1},\"geo\":{\"bgcolor\":\"white\",\"landcolor\":\"#E5ECF6\",\"subunitcolor\":\"white\",\"showland\":true,\"showlakes\":true,\"lakecolor\":\"white\"},\"title\":{\"x\":0.05},\"mapbox\":{\"style\":\"light\"}}}},                        {\"responsive\": true}                    ).then(function(){\n",
       "                            \n",
       "var gd = document.getElementById('919a1ef8-ec01-4df3-82ef-dcd64b727c80');\n",
       "var x = new MutationObserver(function (mutations, observer) {{\n",
       "        var display = window.getComputedStyle(gd).display;\n",
       "        if (!display || display === 'none') {{\n",
       "            console.log([gd, 'removed!']);\n",
       "            Plotly.purge(gd);\n",
       "            observer.disconnect();\n",
       "        }}\n",
       "}});\n",
       "\n",
       "// Listen for the removal of the full notebook cells\n",
       "var notebookContainer = gd.closest('#notebook-container');\n",
       "if (notebookContainer) {{\n",
       "    x.observe(notebookContainer, {childList: true});\n",
       "}}\n",
       "\n",
       "// Listen for the clearing of the current output cell\n",
       "var outputEl = gd.closest('.output');\n",
       "if (outputEl) {{\n",
       "    x.observe(outputEl, {childList: true});\n",
       "}}\n",
       "\n",
       "                        })                };                });            </script>        </div>"
      ]
     },
     "metadata": {},
     "output_type": "display_data"
    }
   ],
   "source": [
    "fig = go.Figure()\n",
    "\n",
    "fig.add_trace(go.Scatter(x=t,y=z[:,0]))\n",
    "\n",
    "fig.show()"
   ]
  },
  {
   "cell_type": "code",
   "execution_count": null,
   "id": "173daf84-24a8-4d55-97bc-16552680eee2",
   "metadata": {},
   "outputs": [],
   "source": []
  }
 ],
 "metadata": {
  "kernelspec": {
   "display_name": "Python 3 (ipykernel)",
   "language": "python",
   "name": "python3"
  },
  "language_info": {
   "codemirror_mode": {
    "name": "ipython",
    "version": 3
   },
   "file_extension": ".py",
   "mimetype": "text/x-python",
   "name": "python",
   "nbconvert_exporter": "python",
   "pygments_lexer": "ipython3",
   "version": "3.10.6"
  }
 },
 "nbformat": 4,
 "nbformat_minor": 5
}
