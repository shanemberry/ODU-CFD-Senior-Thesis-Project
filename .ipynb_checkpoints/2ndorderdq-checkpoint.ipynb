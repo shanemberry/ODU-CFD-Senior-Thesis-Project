{
 "cells": [
  {
   "cell_type": "code",
   "execution_count": 29,
   "id": "0dbaccd0-9f7b-4a2c-b28a-fd57b6c0d6de",
   "metadata": {},
   "outputs": [],
   "source": [
    "import numpy as np\n",
    "import scipy.integrate as integrate\n",
    "import plotly.graph_objects as go\n",
    "\n",
    "def secondorderode(z, t):\n",
    "    k = 0.3\n",
    "    x, xdot = z\n",
    "    return [xdot, -k * x]"
   ]
  },
  {
   "cell_type": "code",
   "execution_count": 30,
   "id": "f4657036-f7e1-430d-82ad-4264f39075c7",
   "metadata": {},
   "outputs": [],
   "source": [
    "t = np.linspace(0, 100, 200)\n",
    "x0 = [1,0]\n",
    "z = integrate.odeint(secondorderode, x0, t)\n",
    "x, xdot = z.T"
   ]
  },
  {
   "cell_type": "code",
   "execution_count": 31,
   "id": "ec026fcb-8def-4992-824e-5940cba59011",
   "metadata": {},
   "outputs": [
    {
     "data": {
      "application/vnd.plotly.v1+json": {
       "config": {
        "plotlyServerURL": "https://plot.ly"
       },
       "data": [
        {
         "type": "scatter",
         "x": [
          0,
          0.5025125628140703,
          1.0050251256281406,
          1.507537688442211,
          2.0100502512562812,
          2.5125628140703515,
          3.015075376884422,
          3.517587939698492,
          4.0201005025125625,
          4.522613065326633,
          5.025125628140703,
          5.527638190954773,
          6.030150753768844,
          6.532663316582914,
          7.035175879396984,
          7.537688442211055,
          8.040201005025125,
          8.542713567839195,
          9.045226130653266,
          9.547738693467336,
          10.050251256281406,
          10.552763819095476,
          11.055276381909547,
          11.557788944723617,
          12.060301507537687,
          12.562814070351758,
          13.065326633165828,
          13.567839195979898,
          14.070351758793969,
          14.572864321608039,
          15.07537688442211,
          15.57788944723618,
          16.08040201005025,
          16.58291457286432,
          17.08542713567839,
          17.587939698492463,
          18.09045226130653,
          18.5929648241206,
          19.09547738693467,
          19.597989949748744,
          20.100502512562812,
          20.60301507537688,
          21.105527638190953,
          21.608040201005025,
          22.110552763819094,
          22.613065326633162,
          23.115577889447234,
          23.618090452261306,
          24.120603015075375,
          24.623115577889443,
          25.125628140703515,
          25.628140703517587,
          26.130653266331656,
          26.633165829145725,
          27.135678391959797,
          27.63819095477387,
          28.140703517587937,
          28.643216080402006,
          29.145728643216078,
          29.64824120603015,
          30.15075376884422,
          30.653266331658287,
          31.15577889447236,
          31.65829145728643,
          32.1608040201005,
          32.66331658291457,
          33.16582914572864,
          33.66834170854271,
          34.17085427135678,
          34.67336683417085,
          35.175879396984925,
          35.678391959798994,
          36.18090452261306,
          36.68341708542713,
          37.1859296482412,
          37.688442211055275,
          38.19095477386934,
          38.69346733668341,
          39.19597989949749,
          39.698492462311556,
          40.201005025125625,
          40.70351758793969,
          41.20603015075376,
          41.70854271356784,
          42.211055276381906,
          42.713567839195974,
          43.21608040201005,
          43.71859296482412,
          44.22110552763819,
          44.723618090452256,
          45.226130653266324,
          45.7286432160804,
          46.23115577889447,
          46.73366834170854,
          47.23618090452261,
          47.73869346733668,
          48.24120603015075,
          48.74371859296482,
          49.24623115577889,
          49.74874371859296,
          50.25125628140703,
          50.7537688442211,
          51.256281407035175,
          51.75879396984924,
          52.26130653266331,
          52.76381909547738,
          53.26633165829145,
          53.768844221105525,
          54.27135678391959,
          54.77386934673366,
          55.27638190954774,
          55.778894472361806,
          56.281407035175874,
          56.78391959798994,
          57.28643216080401,
          57.78894472361809,
          58.291457286432156,
          58.793969849246224,
          59.2964824120603,
          59.79899497487437,
          60.30150753768844,
          60.804020100502505,
          61.306532663316574,
          61.80904522613065,
          62.31155778894472,
          62.81407035175879,
          63.31658291457286,
          63.81909547738693,
          64.321608040201,
          64.82412060301507,
          65.32663316582914,
          65.82914572864321,
          66.33165829145727,
          66.83417085427135,
          67.33668341708542,
          67.83919597989949,
          68.34170854271356,
          68.84422110552764,
          69.3467336683417,
          69.84924623115577,
          70.35175879396985,
          70.85427135678391,
          71.35678391959799,
          71.85929648241205,
          72.36180904522612,
          72.8643216080402,
          73.36683417085426,
          73.86934673366834,
          74.3718592964824,
          74.87437185929647,
          75.37688442211055,
          75.87939698492461,
          76.38190954773869,
          76.88442211055276,
          77.38693467336682,
          77.8894472361809,
          78.39195979899498,
          78.89447236180904,
          79.39698492462311,
          79.89949748743717,
          80.40201005025125,
          80.90452261306532,
          81.40703517587939,
          81.90954773869346,
          82.41206030150752,
          82.9145728643216,
          83.41708542713567,
          83.91959798994974,
          84.42211055276381,
          84.92462311557789,
          85.42713567839195,
          85.92964824120602,
          86.4321608040201,
          86.93467336683416,
          87.43718592964824,
          87.9396984924623,
          88.44221105527637,
          88.94472361809045,
          89.44723618090451,
          89.94974874371859,
          90.45226130653265,
          90.95477386934672,
          91.4572864321608,
          91.95979899497486,
          92.46231155778894,
          92.96482412060301,
          93.46733668341707,
          93.96984924623115,
          94.47236180904522,
          94.97487437185929,
          95.47738693467336,
          95.97989949748742,
          96.4824120603015,
          96.98492462311557,
          97.48743718592964,
          97.98994974874371,
          98.49246231155777,
          98.99497487437185,
          99.49748743718592,
          100
         ],
         "y": [
          1,
          0.9623606798032375,
          0.8522761571853618,
          0.6780334504282557,
          0.4527493708573536,
          0.19338292234092325,
          -0.08054112698441003,
          -0.34840214273396947,
          -0.59003594407278,
          -0.7872526600548679,
          -0.9252060714148451,
          -0.9935112435931245,
          -0.9870262592040974,
          -0.9062392948801209,
          -0.7572318819488718,
          -0.551221092921896,
          -0.3037151355124746,
          -0.033345916146815105,
          0.23953354260013188,
          0.4943812472325011,
          0.7120126124976957,
          0.8760446482288079,
          0.9741292464219002,
          0.9988827329795023,
          0.9484417053299952,
          0.8266032973605478,
          0.6425393273242807,
          0.4101058774090697,
          0.14680021886093536,
          -0.1275563606402996,
          -0.3923106747983976,
          -0.6275323827984142,
          -0.8155143176773826,
          -0.9421054546225873,
          -0.997776187546374,
          -0.9783357014687643,
          -0.8852474571714473,
          -0.7255189981912304,
          -0.5111744641820558,
          -0.25834941952533685,
          0.013923816176288475,
          0.2851488914082906,
          0.5349083573044658,
          0.7444006637211,
          0.8978555133476663,
          0.9837210310668356,
          0.9955333831921828,
          0.9324033569257261,
          0.7990832900161624,
          0.6056093277728978,
          0.3665459261694509,
          0.09988945199906205,
          -0.17428656691922423,
          -0.4353425389425292,
          -0.6636265295276905,
          -0.8419536318544603,
          -0.9568996186348601,
          -0.999811517690189,
          -0.9674589825863501,
          -0.8622774734578468,
          -0.6921848978612024,
          -0.46998559248438254,
          -0.2124064178316824,
          0.061162422858679774,
          0.3301270451429566,
          0.5742401634180148,
          0.7751252769869587,
          0.9176600250389247,
          0.9911145854102398,
          0.9899594044156327,
          0.9142814470428692,
          0.7697776401922158,
          0.5673260273193146,
          0.3221668893837463,
          0.05275547138736902,
          -0.22062731080265768,
          -0.47740157764016233,
          -0.698237716176727,
          -0.866511481513915,
          -0.9695554511966766,
          -0.9996126198402163,
          -0.954420328233887,
          -0.8373805925916235,
          -0.6573039935049366,
          -0.42774645135785605,
          -0.16598874481902753,
          0.10826436989823535,
          0.37436749677716274,
          0.6122887584254575,
          0.8041177698966308,
          0.93541389803694,
          0.996293353017436,
          0.9821732161259689,
          0.8941164375296288,
          0.7387518015360658,
          0.5277749424775249,
          0.2770679098591832,
          0.005503586073043382,
          -0.2664750454631345,
          -0.5183938071174036,
          -0.7312886009456856,
          -0.8891329961180294,
          -0.9800446787036236,
          -0.9971799463097551,
          -0.9392488839718642,
          -0.8106124600522168,
          -0.6209542409894112,
          -0.3845514385406547,
          -0.11920013270003708,
          0.15512439853039237,
          0.41777138409697917,
          0.6489691192560413,
          0.8313133562608384,
          0.9510774628014746,
          0.9992457656281193,
          0.972192223046491,
          0.8719533951801667,
          0.7060751109320835,
          0.4870444605743568,
          0.23134977193491524,
          -0.04176061084861846,
          -0.3117273169467747,
          -0.558227624845813,
          -0.7627053294322417,
          -0.9097676260466051,
          -0.9883438636397633,
          -0.9925189357171433,
          -0.9219785533693663,
          -0.7820328946208501,
          -0.583216870940889,
          -0.340497081261363,
          -0.07214513952899312,
          0.20163779295599238,
          0.4602417149311814,
          0.6841992789732544,
          0.8566512648184293,
          0.9646157183039733,
          0.9999652267616488,
          0.9600387306783092,
          0.847841846204625,
          0.671820589431567,
          0.4452256000766936,
          0.18511463961990152,
          -0.08893149976898312,
          -0.3562830025957503,
          -0.5968140162207121,
          -0.792417696474104,
          -0.9283692601504168,
          -0.9944344604192112,
          -0.9856400039701562,
          -0.9026479301121131,
          -0.7517057609864499,
          -0.5441762122575771,
          -0.2956818247560986,
          -0.024928916321388835,
          0.24770061183104752,
          0.5016835834160627,
          0.7179005098376433,
          0.8800748751927255,
          0.9759984107566517,
          0.9984501286905629,
          0.9457398980665896,
          0.8218356726893428,
          0.6360647841255436,
          0.40241181112331215,
          0.13846583043648508,
          -0.13590367092805788,
          -0.4000425363519082,
          -0.6340667545274306,
          -0.8203593045582162,
          -0.9448963301189799,
          -0.998302858883349,
          -0.9765585228686265,
          -0.8813002122088713,
          -0.7196988305657429,
          -0.5039195076777933,
          -0.25020581583693813,
          0.02234302645687039,
          0.2932099213678095,
          0.5420043819628092,
          0.7499975027676106,
          0.9015318438827067,
          0.9852001042611946,
          0.994703856640597,
          0.9293276766961666,
          0.7939929886758219,
          0.5988875964002787,
          0.3586987675026093,
          0.09150758865554331,
          -0.18257215915505154,
          -0.44290813135687646,
          -0.6699025936607385,
          -0.8464677134906968,
          -0.9593119042625095,
          -0.9999404137338578,
          -0.9652947862116862,
          -0.8579831024459345,
          -0.6860836265118184,
          -0.4625367160194466,
          -0.20417067699220764
         ]
        }
       ],
       "layout": {
        "autosize": true,
        "template": {
         "data": {
          "bar": [
           {
            "error_x": {
             "color": "#2a3f5f"
            },
            "error_y": {
             "color": "#2a3f5f"
            },
            "marker": {
             "line": {
              "color": "#E5ECF6",
              "width": 0.5
             },
             "pattern": {
              "fillmode": "overlay",
              "size": 10,
              "solidity": 0.2
             }
            },
            "type": "bar"
           }
          ],
          "barpolar": [
           {
            "marker": {
             "line": {
              "color": "#E5ECF6",
              "width": 0.5
             },
             "pattern": {
              "fillmode": "overlay",
              "size": 10,
              "solidity": 0.2
             }
            },
            "type": "barpolar"
           }
          ],
          "carpet": [
           {
            "aaxis": {
             "endlinecolor": "#2a3f5f",
             "gridcolor": "white",
             "linecolor": "white",
             "minorgridcolor": "white",
             "startlinecolor": "#2a3f5f"
            },
            "baxis": {
             "endlinecolor": "#2a3f5f",
             "gridcolor": "white",
             "linecolor": "white",
             "minorgridcolor": "white",
             "startlinecolor": "#2a3f5f"
            },
            "type": "carpet"
           }
          ],
          "choropleth": [
           {
            "colorbar": {
             "outlinewidth": 0,
             "ticks": ""
            },
            "type": "choropleth"
           }
          ],
          "contour": [
           {
            "colorbar": {
             "outlinewidth": 0,
             "ticks": ""
            },
            "colorscale": [
             [
              0,
              "#0d0887"
             ],
             [
              0.1111111111111111,
              "#46039f"
             ],
             [
              0.2222222222222222,
              "#7201a8"
             ],
             [
              0.3333333333333333,
              "#9c179e"
             ],
             [
              0.4444444444444444,
              "#bd3786"
             ],
             [
              0.5555555555555556,
              "#d8576b"
             ],
             [
              0.6666666666666666,
              "#ed7953"
             ],
             [
              0.7777777777777778,
              "#fb9f3a"
             ],
             [
              0.8888888888888888,
              "#fdca26"
             ],
             [
              1,
              "#f0f921"
             ]
            ],
            "type": "contour"
           }
          ],
          "contourcarpet": [
           {
            "colorbar": {
             "outlinewidth": 0,
             "ticks": ""
            },
            "type": "contourcarpet"
           }
          ],
          "heatmap": [
           {
            "colorbar": {
             "outlinewidth": 0,
             "ticks": ""
            },
            "colorscale": [
             [
              0,
              "#0d0887"
             ],
             [
              0.1111111111111111,
              "#46039f"
             ],
             [
              0.2222222222222222,
              "#7201a8"
             ],
             [
              0.3333333333333333,
              "#9c179e"
             ],
             [
              0.4444444444444444,
              "#bd3786"
             ],
             [
              0.5555555555555556,
              "#d8576b"
             ],
             [
              0.6666666666666666,
              "#ed7953"
             ],
             [
              0.7777777777777778,
              "#fb9f3a"
             ],
             [
              0.8888888888888888,
              "#fdca26"
             ],
             [
              1,
              "#f0f921"
             ]
            ],
            "type": "heatmap"
           }
          ],
          "heatmapgl": [
           {
            "colorbar": {
             "outlinewidth": 0,
             "ticks": ""
            },
            "colorscale": [
             [
              0,
              "#0d0887"
             ],
             [
              0.1111111111111111,
              "#46039f"
             ],
             [
              0.2222222222222222,
              "#7201a8"
             ],
             [
              0.3333333333333333,
              "#9c179e"
             ],
             [
              0.4444444444444444,
              "#bd3786"
             ],
             [
              0.5555555555555556,
              "#d8576b"
             ],
             [
              0.6666666666666666,
              "#ed7953"
             ],
             [
              0.7777777777777778,
              "#fb9f3a"
             ],
             [
              0.8888888888888888,
              "#fdca26"
             ],
             [
              1,
              "#f0f921"
             ]
            ],
            "type": "heatmapgl"
           }
          ],
          "histogram": [
           {
            "marker": {
             "pattern": {
              "fillmode": "overlay",
              "size": 10,
              "solidity": 0.2
             }
            },
            "type": "histogram"
           }
          ],
          "histogram2d": [
           {
            "colorbar": {
             "outlinewidth": 0,
             "ticks": ""
            },
            "colorscale": [
             [
              0,
              "#0d0887"
             ],
             [
              0.1111111111111111,
              "#46039f"
             ],
             [
              0.2222222222222222,
              "#7201a8"
             ],
             [
              0.3333333333333333,
              "#9c179e"
             ],
             [
              0.4444444444444444,
              "#bd3786"
             ],
             [
              0.5555555555555556,
              "#d8576b"
             ],
             [
              0.6666666666666666,
              "#ed7953"
             ],
             [
              0.7777777777777778,
              "#fb9f3a"
             ],
             [
              0.8888888888888888,
              "#fdca26"
             ],
             [
              1,
              "#f0f921"
             ]
            ],
            "type": "histogram2d"
           }
          ],
          "histogram2dcontour": [
           {
            "colorbar": {
             "outlinewidth": 0,
             "ticks": ""
            },
            "colorscale": [
             [
              0,
              "#0d0887"
             ],
             [
              0.1111111111111111,
              "#46039f"
             ],
             [
              0.2222222222222222,
              "#7201a8"
             ],
             [
              0.3333333333333333,
              "#9c179e"
             ],
             [
              0.4444444444444444,
              "#bd3786"
             ],
             [
              0.5555555555555556,
              "#d8576b"
             ],
             [
              0.6666666666666666,
              "#ed7953"
             ],
             [
              0.7777777777777778,
              "#fb9f3a"
             ],
             [
              0.8888888888888888,
              "#fdca26"
             ],
             [
              1,
              "#f0f921"
             ]
            ],
            "type": "histogram2dcontour"
           }
          ],
          "mesh3d": [
           {
            "colorbar": {
             "outlinewidth": 0,
             "ticks": ""
            },
            "type": "mesh3d"
           }
          ],
          "parcoords": [
           {
            "line": {
             "colorbar": {
              "outlinewidth": 0,
              "ticks": ""
             }
            },
            "type": "parcoords"
           }
          ],
          "pie": [
           {
            "automargin": true,
            "type": "pie"
           }
          ],
          "scatter": [
           {
            "fillpattern": {
             "fillmode": "overlay",
             "size": 10,
             "solidity": 0.2
            },
            "type": "scatter"
           }
          ],
          "scatter3d": [
           {
            "line": {
             "colorbar": {
              "outlinewidth": 0,
              "ticks": ""
             }
            },
            "marker": {
             "colorbar": {
              "outlinewidth": 0,
              "ticks": ""
             }
            },
            "type": "scatter3d"
           }
          ],
          "scattercarpet": [
           {
            "marker": {
             "colorbar": {
              "outlinewidth": 0,
              "ticks": ""
             }
            },
            "type": "scattercarpet"
           }
          ],
          "scattergeo": [
           {
            "marker": {
             "colorbar": {
              "outlinewidth": 0,
              "ticks": ""
             }
            },
            "type": "scattergeo"
           }
          ],
          "scattergl": [
           {
            "marker": {
             "colorbar": {
              "outlinewidth": 0,
              "ticks": ""
             }
            },
            "type": "scattergl"
           }
          ],
          "scattermapbox": [
           {
            "marker": {
             "colorbar": {
              "outlinewidth": 0,
              "ticks": ""
             }
            },
            "type": "scattermapbox"
           }
          ],
          "scatterpolar": [
           {
            "marker": {
             "colorbar": {
              "outlinewidth": 0,
              "ticks": ""
             }
            },
            "type": "scatterpolar"
           }
          ],
          "scatterpolargl": [
           {
            "marker": {
             "colorbar": {
              "outlinewidth": 0,
              "ticks": ""
             }
            },
            "type": "scatterpolargl"
           }
          ],
          "scatterternary": [
           {
            "marker": {
             "colorbar": {
              "outlinewidth": 0,
              "ticks": ""
             }
            },
            "type": "scatterternary"
           }
          ],
          "surface": [
           {
            "colorbar": {
             "outlinewidth": 0,
             "ticks": ""
            },
            "colorscale": [
             [
              0,
              "#0d0887"
             ],
             [
              0.1111111111111111,
              "#46039f"
             ],
             [
              0.2222222222222222,
              "#7201a8"
             ],
             [
              0.3333333333333333,
              "#9c179e"
             ],
             [
              0.4444444444444444,
              "#bd3786"
             ],
             [
              0.5555555555555556,
              "#d8576b"
             ],
             [
              0.6666666666666666,
              "#ed7953"
             ],
             [
              0.7777777777777778,
              "#fb9f3a"
             ],
             [
              0.8888888888888888,
              "#fdca26"
             ],
             [
              1,
              "#f0f921"
             ]
            ],
            "type": "surface"
           }
          ],
          "table": [
           {
            "cells": {
             "fill": {
              "color": "#EBF0F8"
             },
             "line": {
              "color": "white"
             }
            },
            "header": {
             "fill": {
              "color": "#C8D4E3"
             },
             "line": {
              "color": "white"
             }
            },
            "type": "table"
           }
          ]
         },
         "layout": {
          "annotationdefaults": {
           "arrowcolor": "#2a3f5f",
           "arrowhead": 0,
           "arrowwidth": 1
          },
          "autotypenumbers": "strict",
          "coloraxis": {
           "colorbar": {
            "outlinewidth": 0,
            "ticks": ""
           }
          },
          "colorscale": {
           "diverging": [
            [
             0,
             "#8e0152"
            ],
            [
             0.1,
             "#c51b7d"
            ],
            [
             0.2,
             "#de77ae"
            ],
            [
             0.3,
             "#f1b6da"
            ],
            [
             0.4,
             "#fde0ef"
            ],
            [
             0.5,
             "#f7f7f7"
            ],
            [
             0.6,
             "#e6f5d0"
            ],
            [
             0.7,
             "#b8e186"
            ],
            [
             0.8,
             "#7fbc41"
            ],
            [
             0.9,
             "#4d9221"
            ],
            [
             1,
             "#276419"
            ]
           ],
           "sequential": [
            [
             0,
             "#0d0887"
            ],
            [
             0.1111111111111111,
             "#46039f"
            ],
            [
             0.2222222222222222,
             "#7201a8"
            ],
            [
             0.3333333333333333,
             "#9c179e"
            ],
            [
             0.4444444444444444,
             "#bd3786"
            ],
            [
             0.5555555555555556,
             "#d8576b"
            ],
            [
             0.6666666666666666,
             "#ed7953"
            ],
            [
             0.7777777777777778,
             "#fb9f3a"
            ],
            [
             0.8888888888888888,
             "#fdca26"
            ],
            [
             1,
             "#f0f921"
            ]
           ],
           "sequentialminus": [
            [
             0,
             "#0d0887"
            ],
            [
             0.1111111111111111,
             "#46039f"
            ],
            [
             0.2222222222222222,
             "#7201a8"
            ],
            [
             0.3333333333333333,
             "#9c179e"
            ],
            [
             0.4444444444444444,
             "#bd3786"
            ],
            [
             0.5555555555555556,
             "#d8576b"
            ],
            [
             0.6666666666666666,
             "#ed7953"
            ],
            [
             0.7777777777777778,
             "#fb9f3a"
            ],
            [
             0.8888888888888888,
             "#fdca26"
            ],
            [
             1,
             "#f0f921"
            ]
           ]
          },
          "colorway": [
           "#636efa",
           "#EF553B",
           "#00cc96",
           "#ab63fa",
           "#FFA15A",
           "#19d3f3",
           "#FF6692",
           "#B6E880",
           "#FF97FF",
           "#FECB52"
          ],
          "font": {
           "color": "#2a3f5f"
          },
          "geo": {
           "bgcolor": "white",
           "lakecolor": "white",
           "landcolor": "#E5ECF6",
           "showlakes": true,
           "showland": true,
           "subunitcolor": "white"
          },
          "hoverlabel": {
           "align": "left"
          },
          "hovermode": "closest",
          "mapbox": {
           "style": "light"
          },
          "paper_bgcolor": "white",
          "plot_bgcolor": "#E5ECF6",
          "polar": {
           "angularaxis": {
            "gridcolor": "white",
            "linecolor": "white",
            "ticks": ""
           },
           "bgcolor": "#E5ECF6",
           "radialaxis": {
            "gridcolor": "white",
            "linecolor": "white",
            "ticks": ""
           }
          },
          "scene": {
           "xaxis": {
            "backgroundcolor": "#E5ECF6",
            "gridcolor": "white",
            "gridwidth": 2,
            "linecolor": "white",
            "showbackground": true,
            "ticks": "",
            "zerolinecolor": "white"
           },
           "yaxis": {
            "backgroundcolor": "#E5ECF6",
            "gridcolor": "white",
            "gridwidth": 2,
            "linecolor": "white",
            "showbackground": true,
            "ticks": "",
            "zerolinecolor": "white"
           },
           "zaxis": {
            "backgroundcolor": "#E5ECF6",
            "gridcolor": "white",
            "gridwidth": 2,
            "linecolor": "white",
            "showbackground": true,
            "ticks": "",
            "zerolinecolor": "white"
           }
          },
          "shapedefaults": {
           "line": {
            "color": "#2a3f5f"
           }
          },
          "ternary": {
           "aaxis": {
            "gridcolor": "white",
            "linecolor": "white",
            "ticks": ""
           },
           "baxis": {
            "gridcolor": "white",
            "linecolor": "white",
            "ticks": ""
           },
           "bgcolor": "#E5ECF6",
           "caxis": {
            "gridcolor": "white",
            "linecolor": "white",
            "ticks": ""
           }
          },
          "title": {
           "x": 0.05
          },
          "xaxis": {
           "automargin": true,
           "gridcolor": "white",
           "linecolor": "white",
           "ticks": "",
           "title": {
            "standoff": 15
           },
           "zerolinecolor": "white",
           "zerolinewidth": 2
          },
          "yaxis": {
           "automargin": true,
           "gridcolor": "white",
           "linecolor": "white",
           "ticks": "",
           "title": {
            "standoff": 15
           },
           "zerolinecolor": "white",
           "zerolinewidth": 2
          }
         }
        },
        "xaxis": {
         "autorange": true,
         "range": [
          0,
          100
         ],
         "type": "linear"
        },
        "yaxis": {
         "autorange": true,
         "range": [
          -1.1110482144968499,
          1.1111078007629922
         ],
         "type": "linear"
        }
       }
      },
      "image/png": "[encoded data removed]",
      "text/html": [
       "<div>                            <div id=\"2394bb79-29f5-4f20-b7c9-d453440e6a07\" class=\"plotly-graph-div\" style=\"height:525px; width:100%;\"></div>            <script type=\"text/javascript\">                require([\"plotly\"], function(Plotly) {                    window.PLOTLYENV=window.PLOTLYENV || {};                                    if (document.getElementById(\"2394bb79-29f5-4f20-b7c9-d453440e6a07\")) {                    Plotly.newPlot(                        \"2394bb79-29f5-4f20-b7c9-d453440e6a07\",                        [{\"x\":[0.0,0.5025125628140703,1.0050251256281406,1.507537688442211,2.0100502512562812,2.5125628140703515,3.015075376884422,3.517587939698492,4.0201005025125625,4.522613065326633,5.025125628140703,5.527638190954773,6.030150753768844,6.532663316582914,7.035175879396984,7.537688442211055,8.040201005025125,8.542713567839195,9.045226130653266,9.547738693467336,10.050251256281406,10.552763819095476,11.055276381909547,11.557788944723617,12.060301507537687,12.562814070351758,13.065326633165828,13.567839195979898,14.070351758793969,14.572864321608039,15.07537688442211,15.57788944723618,16.08040201005025,16.58291457286432,17.08542713567839,17.587939698492463,18.09045226130653,18.5929648241206,19.09547738693467,19.597989949748744,20.100502512562812,20.60301507537688,21.105527638190953,21.608040201005025,22.110552763819094,22.613065326633162,23.115577889447234,23.618090452261306,24.120603015075375,24.623115577889443,25.125628140703515,25.628140703517587,26.130653266331656,26.633165829145725,27.135678391959797,27.63819095477387,28.140703517587937,28.643216080402006,29.145728643216078,29.64824120603015,30.15075376884422,30.653266331658287,31.15577889447236,31.65829145728643,32.1608040201005,32.66331658291457,33.16582914572864,33.66834170854271,34.17085427135678,34.67336683417085,35.175879396984925,35.678391959798994,36.18090452261306,36.68341708542713,37.1859296482412,37.688442211055275,38.19095477386934,38.69346733668341,39.19597989949749,39.698492462311556,40.201005025125625,40.70351758793969,41.20603015075376,41.70854271356784,42.211055276381906,42.713567839195974,43.21608040201005,43.71859296482412,44.22110552763819,44.723618090452256,45.226130653266324,45.7286432160804,46.23115577889447,46.73366834170854,47.23618090452261,47.73869346733668,48.24120603015075,48.74371859296482,49.24623115577889,49.74874371859296,50.25125628140703,50.7537688442211,51.256281407035175,51.75879396984924,52.26130653266331,52.76381909547738,53.26633165829145,53.768844221105525,54.27135678391959,54.77386934673366,55.27638190954774,55.778894472361806,56.281407035175874,56.78391959798994,57.28643216080401,57.78894472361809,58.291457286432156,58.793969849246224,59.2964824120603,59.79899497487437,60.30150753768844,60.804020100502505,61.306532663316574,61.80904522613065,62.31155778894472,62.81407035175879,63.31658291457286,63.81909547738693,64.321608040201,64.82412060301507,65.32663316582914,65.82914572864321,66.33165829145727,66.83417085427135,67.33668341708542,67.83919597989949,68.34170854271356,68.84422110552764,69.3467336683417,69.84924623115577,70.35175879396985,70.85427135678391,71.35678391959799,71.85929648241205,72.36180904522612,72.8643216080402,73.36683417085426,73.86934673366834,74.3718592964824,74.87437185929647,75.37688442211055,75.87939698492461,76.38190954773869,76.88442211055276,77.38693467336682,77.8894472361809,78.39195979899498,78.89447236180904,79.39698492462311,79.89949748743717,80.40201005025125,80.90452261306532,81.40703517587939,81.90954773869346,82.41206030150752,82.9145728643216,83.41708542713567,83.91959798994974,84.42211055276381,84.92462311557789,85.42713567839195,85.92964824120602,86.4321608040201,86.93467336683416,87.43718592964824,87.9396984924623,88.44221105527637,88.94472361809045,89.44723618090451,89.94974874371859,90.45226130653265,90.95477386934672,91.4572864321608,91.95979899497486,92.46231155778894,92.96482412060301,93.46733668341707,93.96984924623115,94.47236180904522,94.97487437185929,95.47738693467336,95.97989949748742,96.4824120603015,96.98492462311557,97.48743718592964,97.98994974874371,98.49246231155777,98.99497487437185,99.49748743718592,100.0],\"y\":[1.0,0.9623606798032375,0.8522761571853618,0.6780334504282557,0.4527493708573536,0.19338292234092325,-0.08054112698441003,-0.34840214273396947,-0.59003594407278,-0.7872526600548679,-0.9252060714148451,-0.9935112435931245,-0.9870262592040974,-0.9062392948801209,-0.7572318819488718,-0.551221092921896,-0.3037151355124746,-0.033345916146815105,0.23953354260013188,0.4943812472325011,0.7120126124976957,0.8760446482288079,0.9741292464219002,0.9988827329795023,0.9484417053299952,0.8266032973605478,0.6425393273242807,0.4101058774090697,0.14680021886093536,-0.1275563606402996,-0.3923106747983976,-0.6275323827984142,-0.8155143176773826,-0.9421054546225873,-0.997776187546374,-0.9783357014687643,-0.8852474571714473,-0.7255189981912304,-0.5111744641820558,-0.25834941952533685,0.013923816176288475,0.2851488914082906,0.5349083573044658,0.7444006637211,0.8978555133476663,0.9837210310668356,0.9955333831921828,0.9324033569257261,0.7990832900161624,0.6056093277728978,0.3665459261694509,0.09988945199906205,-0.17428656691922423,-0.4353425389425292,-0.6636265295276905,-0.8419536318544603,-0.9568996186348601,-0.999811517690189,-0.9674589825863501,-0.8622774734578468,-0.6921848978612024,-0.46998559248438254,-0.2124064178316824,0.061162422858679774,0.3301270451429566,0.5742401634180148,0.7751252769869587,0.9176600250389247,0.9911145854102398,0.9899594044156327,0.9142814470428692,0.7697776401922158,0.5673260273193146,0.3221668893837463,0.05275547138736902,-0.22062731080265768,-0.47740157764016233,-0.698237716176727,-0.866511481513915,-0.9695554511966766,-0.9996126198402163,-0.954420328233887,-0.8373805925916235,-0.6573039935049366,-0.42774645135785605,-0.16598874481902753,0.10826436989823535,0.37436749677716274,0.6122887584254575,0.8041177698966308,0.93541389803694,0.996293353017436,0.9821732161259689,0.8941164375296288,0.7387518015360658,0.5277749424775249,0.2770679098591832,0.005503586073043382,-0.2664750454631345,-0.5183938071174036,-0.7312886009456856,-0.8891329961180294,-0.9800446787036236,-0.9971799463097551,-0.9392488839718642,-0.8106124600522168,-0.6209542409894112,-0.3845514385406547,-0.11920013270003708,0.15512439853039237,0.41777138409697917,0.6489691192560413,0.8313133562608384,0.9510774628014746,0.9992457656281193,0.972192223046491,0.8719533951801667,0.7060751109320835,0.4870444605743568,0.23134977193491524,-0.04176061084861846,-0.3117273169467747,-0.558227624845813,-0.7627053294322417,-0.9097676260466051,-0.9883438636397633,-0.9925189357171433,-0.9219785533693663,-0.7820328946208501,-0.583216870940889,-0.340497081261363,-0.07214513952899312,0.20163779295599238,0.4602417149311814,0.6841992789732544,0.8566512648184293,0.9646157183039733,0.9999652267616488,0.9600387306783092,0.847841846204625,0.671820589431567,0.4452256000766936,0.18511463961990152,-0.08893149976898312,-0.3562830025957503,-0.5968140162207121,-0.792417696474104,-0.9283692601504168,-0.9944344604192112,-0.9856400039701562,-0.9026479301121131,-0.7517057609864499,-0.5441762122575771,-0.2956818247560986,-0.024928916321388835,0.24770061183104752,0.5016835834160627,0.7179005098376433,0.8800748751927255,0.9759984107566517,0.9984501286905629,0.9457398980665896,0.8218356726893428,0.6360647841255436,0.40241181112331215,0.13846583043648508,-0.13590367092805788,-0.4000425363519082,-0.6340667545274306,-0.8203593045582162,-0.9448963301189799,-0.998302858883349,-0.9765585228686265,-0.8813002122088713,-0.7196988305657429,-0.5039195076777933,-0.25020581583693813,0.02234302645687039,0.2932099213678095,0.5420043819628092,0.7499975027676106,0.9015318438827067,0.9852001042611946,0.994703856640597,0.9293276766961666,0.7939929886758219,0.5988875964002787,0.3586987675026093,0.09150758865554331,-0.18257215915505154,-0.44290813135687646,-0.6699025936607385,-0.8464677134906968,-0.9593119042625095,-0.9999404137338578,-0.9652947862116862,-0.8579831024459345,-0.6860836265118184,-0.4625367160194466,-0.20417067699220764],\"type\":\"scatter\"}],                        {\"template\":{\"data\":{\"histogram2dcontour\":[{\"type\":\"histogram2dcontour\",\"colorbar\":{\"outlinewidth\":0,\"ticks\":\"\"},\"colorscale\":[[0.0,\"#0d0887\"],[0.1111111111111111,\"#46039f\"],[0.2222222222222222,\"#7201a8\"],[0.3333333333333333,\"#9c179e\"],[0.4444444444444444,\"#bd3786\"],[0.5555555555555556,\"#d8576b\"],[0.6666666666666666,\"#ed7953\"],[0.7777777777777778,\"#fb9f3a\"],[0.8888888888888888,\"#fdca26\"],[1.0,\"#f0f921\"]]}],\"choropleth\":[{\"type\":\"choropleth\",\"colorbar\":{\"outlinewidth\":0,\"ticks\":\"\"}}],\"histogram2d\":[{\"type\":\"histogram2d\",\"colorbar\":{\"outlinewidth\":0,\"ticks\":\"\"},\"colorscale\":[[0.0,\"#0d0887\"],[0.1111111111111111,\"#46039f\"],[0.2222222222222222,\"#7201a8\"],[0.3333333333333333,\"#9c179e\"],[0.4444444444444444,\"#bd3786\"],[0.5555555555555556,\"#d8576b\"],[0.6666666666666666,\"#ed7953\"],[0.7777777777777778,\"#fb9f3a\"],[0.8888888888888888,\"#fdca26\"],[1.0,\"#f0f921\"]]}],\"heatmap\":[{\"type\":\"heatmap\",\"colorbar\":{\"outlinewidth\":0,\"ticks\":\"\"},\"colorscale\":[[0.0,\"#0d0887\"],[0.1111111111111111,\"#46039f\"],[0.2222222222222222,\"#7201a8\"],[0.3333333333333333,\"#9c179e\"],[0.4444444444444444,\"#bd3786\"],[0.5555555555555556,\"#d8576b\"],[0.6666666666666666,\"#ed7953\"],[0.7777777777777778,\"#fb9f3a\"],[0.8888888888888888,\"#fdca26\"],[1.0,\"#f0f921\"]]}],\"heatmapgl\":[{\"type\":\"heatmapgl\",\"colorbar\":{\"outlinewidth\":0,\"ticks\":\"\"},\"colorscale\":[[0.0,\"#0d0887\"],[0.1111111111111111,\"#46039f\"],[0.2222222222222222,\"#7201a8\"],[0.3333333333333333,\"#9c179e\"],[0.4444444444444444,\"#bd3786\"],[0.5555555555555556,\"#d8576b\"],[0.6666666666666666,\"#ed7953\"],[0.7777777777777778,\"#fb9f3a\"],[0.8888888888888888,\"#fdca26\"],[1.0,\"#f0f921\"]]}],\"contourcarpet\":[{\"type\":\"contourcarpet\",\"colorbar\":{\"outlinewidth\":0,\"ticks\":\"\"}}],\"contour\":[{\"type\":\"contour\",\"colorbar\":{\"outlinewidth\":0,\"ticks\":\"\"},\"colorscale\":[[0.0,\"#0d0887\"],[0.1111111111111111,\"#46039f\"],[0.2222222222222222,\"#7201a8\"],[0.3333333333333333,\"#9c179e\"],[0.4444444444444444,\"#bd3786\"],[0.5555555555555556,\"#d8576b\"],[0.6666666666666666,\"#ed7953\"],[0.7777777777777778,\"#fb9f3a\"],[0.8888888888888888,\"#fdca26\"],[1.0,\"#f0f921\"]]}],\"surface\":[{\"type\":\"surface\",\"colorbar\":{\"outlinewidth\":0,\"ticks\":\"\"},\"colorscale\":[[0.0,\"#0d0887\"],[0.1111111111111111,\"#46039f\"],[0.2222222222222222,\"#7201a8\"],[0.3333333333333333,\"#9c179e\"],[0.4444444444444444,\"#bd3786\"],[0.5555555555555556,\"#d8576b\"],[0.6666666666666666,\"#ed7953\"],[0.7777777777777778,\"#fb9f3a\"],[0.8888888888888888,\"#fdca26\"],[1.0,\"#f0f921\"]]}],\"mesh3d\":[{\"type\":\"mesh3d\",\"colorbar\":{\"outlinewidth\":0,\"ticks\":\"\"}}],\"scatter\":[{\"fillpattern\":{\"fillmode\":\"overlay\",\"size\":10,\"solidity\":0.2},\"type\":\"scatter\"}],\"parcoords\":[{\"type\":\"parcoords\",\"line\":{\"colorbar\":{\"outlinewidth\":0,\"ticks\":\"\"}}}],\"scatterpolargl\":[{\"type\":\"scatterpolargl\",\"marker\":{\"colorbar\":{\"outlinewidth\":0,\"ticks\":\"\"}}}],\"bar\":[{\"error_x\":{\"color\":\"#2a3f5f\"},\"error_y\":{\"color\":\"#2a3f5f\"},\"marker\":{\"line\":{\"color\":\"#E5ECF6\",\"width\":0.5},\"pattern\":{\"fillmode\":\"overlay\",\"size\":10,\"solidity\":0.2}},\"type\":\"bar\"}],\"scattergeo\":[{\"type\":\"scattergeo\",\"marker\":{\"colorbar\":{\"outlinewidth\":0,\"ticks\":\"\"}}}],\"scatterpolar\":[{\"type\":\"scatterpolar\",\"marker\":{\"colorbar\":{\"outlinewidth\":0,\"ticks\":\"\"}}}],\"histogram\":[{\"marker\":{\"pattern\":{\"fillmode\":\"overlay\",\"size\":10,\"solidity\":0.2}},\"type\":\"histogram\"}],\"scattergl\":[{\"type\":\"scattergl\",\"marker\":{\"colorbar\":{\"outlinewidth\":0,\"ticks\":\"\"}}}],\"scatter3d\":[{\"type\":\"scatter3d\",\"line\":{\"colorbar\":{\"outlinewidth\":0,\"ticks\":\"\"}},\"marker\":{\"colorbar\":{\"outlinewidth\":0,\"ticks\":\"\"}}}],\"scattermapbox\":[{\"type\":\"scattermapbox\",\"marker\":{\"colorbar\":{\"outlinewidth\":0,\"ticks\":\"\"}}}],\"scatterternary\":[{\"type\":\"scatterternary\",\"marker\":{\"colorbar\":{\"outlinewidth\":0,\"ticks\":\"\"}}}],\"scattercarpet\":[{\"type\":\"scattercarpet\",\"marker\":{\"colorbar\":{\"outlinewidth\":0,\"ticks\":\"\"}}}],\"carpet\":[{\"aaxis\":{\"endlinecolor\":\"#2a3f5f\",\"gridcolor\":\"white\",\"linecolor\":\"white\",\"minorgridcolor\":\"white\",\"startlinecolor\":\"#2a3f5f\"},\"baxis\":{\"endlinecolor\":\"#2a3f5f\",\"gridcolor\":\"white\",\"linecolor\":\"white\",\"minorgridcolor\":\"white\",\"startlinecolor\":\"#2a3f5f\"},\"type\":\"carpet\"}],\"table\":[{\"cells\":{\"fill\":{\"color\":\"#EBF0F8\"},\"line\":{\"color\":\"white\"}},\"header\":{\"fill\":{\"color\":\"#C8D4E3\"},\"line\":{\"color\":\"white\"}},\"type\":\"table\"}],\"barpolar\":[{\"marker\":{\"line\":{\"color\":\"#E5ECF6\",\"width\":0.5},\"pattern\":{\"fillmode\":\"overlay\",\"size\":10,\"solidity\":0.2}},\"type\":\"barpolar\"}],\"pie\":[{\"automargin\":true,\"type\":\"pie\"}]},\"layout\":{\"autotypenumbers\":\"strict\",\"colorway\":[\"#636efa\",\"#EF553B\",\"#00cc96\",\"#ab63fa\",\"#FFA15A\",\"#19d3f3\",\"#FF6692\",\"#B6E880\",\"#FF97FF\",\"#FECB52\"],\"font\":{\"color\":\"#2a3f5f\"},\"hovermode\":\"closest\",\"hoverlabel\":{\"align\":\"left\"},\"paper_bgcolor\":\"white\",\"plot_bgcolor\":\"#E5ECF6\",\"polar\":{\"bgcolor\":\"#E5ECF6\",\"angularaxis\":{\"gridcolor\":\"white\",\"linecolor\":\"white\",\"ticks\":\"\"},\"radialaxis\":{\"gridcolor\":\"white\",\"linecolor\":\"white\",\"ticks\":\"\"}},\"ternary\":{\"bgcolor\":\"#E5ECF6\",\"aaxis\":{\"gridcolor\":\"white\",\"linecolor\":\"white\",\"ticks\":\"\"},\"baxis\":{\"gridcolor\":\"white\",\"linecolor\":\"white\",\"ticks\":\"\"},\"caxis\":{\"gridcolor\":\"white\",\"linecolor\":\"white\",\"ticks\":\"\"}},\"coloraxis\":{\"colorbar\":{\"outlinewidth\":0,\"ticks\":\"\"}},\"colorscale\":{\"sequential\":[[0.0,\"#0d0887\"],[0.1111111111111111,\"#46039f\"],[0.2222222222222222,\"#7201a8\"],[0.3333333333333333,\"#9c179e\"],[0.4444444444444444,\"#bd3786\"],[0.5555555555555556,\"#d8576b\"],[0.6666666666666666,\"#ed7953\"],[0.7777777777777778,\"#fb9f3a\"],[0.8888888888888888,\"#fdca26\"],[1.0,\"#f0f921\"]],\"sequentialminus\":[[0.0,\"#0d0887\"],[0.1111111111111111,\"#46039f\"],[0.2222222222222222,\"#7201a8\"],[0.3333333333333333,\"#9c179e\"],[0.4444444444444444,\"#bd3786\"],[0.5555555555555556,\"#d8576b\"],[0.6666666666666666,\"#ed7953\"],[0.7777777777777778,\"#fb9f3a\"],[0.8888888888888888,\"#fdca26\"],[1.0,\"#f0f921\"]],\"diverging\":[[0,\"#8e0152\"],[0.1,\"#c51b7d\"],[0.2,\"#de77ae\"],[0.3,\"#f1b6da\"],[0.4,\"#fde0ef\"],[0.5,\"#f7f7f7\"],[0.6,\"#e6f5d0\"],[0.7,\"#b8e186\"],[0.8,\"#7fbc41\"],[0.9,\"#4d9221\"],[1,\"#276419\"]]},\"xaxis\":{\"gridcolor\":\"white\",\"linecolor\":\"white\",\"ticks\":\"\",\"title\":{\"standoff\":15},\"zerolinecolor\":\"white\",\"automargin\":true,\"zerolinewidth\":2},\"yaxis\":{\"gridcolor\":\"white\",\"linecolor\":\"white\",\"ticks\":\"\",\"title\":{\"standoff\":15},\"zerolinecolor\":\"white\",\"automargin\":true,\"zerolinewidth\":2},\"scene\":{\"xaxis\":{\"backgroundcolor\":\"#E5ECF6\",\"gridcolor\":\"white\",\"linecolor\":\"white\",\"showbackground\":true,\"ticks\":\"\",\"zerolinecolor\":\"white\",\"gridwidth\":2},\"yaxis\":{\"backgroundcolor\":\"#E5ECF6\",\"gridcolor\":\"white\",\"linecolor\":\"white\",\"showbackground\":true,\"ticks\":\"\",\"zerolinecolor\":\"white\",\"gridwidth\":2},\"zaxis\":{\"backgroundcolor\":\"#E5ECF6\",\"gridcolor\":\"white\",\"linecolor\":\"white\",\"showbackground\":true,\"ticks\":\"\",\"zerolinecolor\":\"white\",\"gridwidth\":2}},\"shapedefaults\":{\"line\":{\"color\":\"#2a3f5f\"}},\"annotationdefaults\":{\"arrowcolor\":\"#2a3f5f\",\"arrowhead\":0,\"arrowwidth\":1},\"geo\":{\"bgcolor\":\"white\",\"landcolor\":\"#E5ECF6\",\"subunitcolor\":\"white\",\"showland\":true,\"showlakes\":true,\"lakecolor\":\"white\"},\"title\":{\"x\":0.05},\"mapbox\":{\"style\":\"light\"}}}},                        {\"responsive\": true}                    ).then(function(){\n",
       "                            \n",
       "var gd = document.getElementById('2394bb79-29f5-4f20-b7c9-d453440e6a07');\n",
       "var x = new MutationObserver(function (mutations, observer) {{\n",
       "        var display = window.getComputedStyle(gd).display;\n",
       "        if (!display || display === 'none') {{\n",
       "            console.log([gd, 'removed!']);\n",
       "            Plotly.purge(gd);\n",
       "            observer.disconnect();\n",
       "        }}\n",
       "}});\n",
       "\n",
       "// Listen for the removal of the full notebook cells\n",
       "var notebookContainer = gd.closest('#notebook-container');\n",
       "if (notebookContainer) {{\n",
       "    x.observe(notebookContainer, {childList: true});\n",
       "}}\n",
       "\n",
       "// Listen for the clearing of the current output cell\n",
       "var outputEl = gd.closest('.output');\n",
       "if (outputEl) {{\n",
       "    x.observe(outputEl, {childList: true});\n",
       "}}\n",
       "\n",
       "                        })                };                });            </script>        </div>"
      ]
     },
     "metadata": {},
     "output_type": "display_data"
    }
   ],
   "source": [
    "fig = go.Figure()\n",
    "\n",
    "fig.add_trace(go.Scatter(x=t,y=z[:,0]))\n",
    "\n",
    "fig.show()"
   ]
  },
  {
   "cell_type": "code",
   "execution_count": null,
   "id": "4496a2d9-1e8b-4929-92a4-a7d07a84722d",
   "metadata": {},
   "outputs": [],
   "source": []
  }
 ],
 "metadata": {
  "kernelspec": {
   "display_name": "Python 3 (ipykernel)",
   "language": "python",
   "name": "python3"
  },
  "language_info": {
   "codemirror_mode": {
    "name": "ipython",
    "version": 3
   },
   "file_extension": ".py",
   "mimetype": "text/x-python",
   "name": "python",
   "nbconvert_exporter": "python",
   "pygments_lexer": "ipython3",
   "version": "3.10.6"
  }
 },
 "nbformat": 4,
 "nbformat_minor": 5
}
