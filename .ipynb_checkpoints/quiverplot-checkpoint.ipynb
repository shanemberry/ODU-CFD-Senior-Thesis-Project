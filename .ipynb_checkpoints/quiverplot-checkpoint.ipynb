{
 "cells": [
  {
   "cell_type": "code",
   "execution_count": 1,
   "id": "efbc1125-92f9-4286-902a-5b7532a58d79",
   "metadata": {},
   "outputs": [],
   "source": [
    "import numpy as np\n",
    "import plotly.figure_factory as ff"
   ]
  },
  {
   "cell_type": "code",
   "execution_count": 9,
   "id": "bc2ee12a-692f-433f-bea1-b7036a59823d",
   "metadata": {},
   "outputs": [],
   "source": [
    "x = np.arange(-1, 1, 0.3)\n",
    "y = np.arange(-1, 1, 0.3)"
   ]
  },
  {
   "cell_type": "code",
   "execution_count": 3,
   "id": "e48a8f29-306c-4c53-bfeb-98ecba75c74d",
   "metadata": {},
   "outputs": [],
   "source": [
    "X, Y = np.meshgrid(x, y)"
   ]
  },
  {
   "cell_type": "code",
   "execution_count": 26,
   "id": "78e99a2b-29ff-4887-a1e4-d5072cf5b743",
   "metadata": {},
   "outputs": [],
   "source": [
    "dy = -X\n",
    "dx = Y"
   ]
  },
  {
   "cell_type": "code",
   "execution_count": 27,
   "id": "926ab9ee-4eac-4b47-bc55-82dff40d0618",
   "metadata": {},
   "outputs": [
    {
     "data": {
      "application/vnd.plotly.v1+json": {
       "config": {
        "plotlyServerURL": "https://plot.ly"
       },
       "data": [
        {
         "mode": "lines",
         "type": "scatter",
         "x": [
          -1,
          -1.1,
          null,
          -0.7,
          -0.7999999999999999,
          null,
          -0.3999999999999999,
          -0.4999999999999999,
          null,
          -0.09999999999999987,
          -0.19999999999999987,
          null,
          0.20000000000000018,
          0.10000000000000017,
          null,
          0.5000000000000002,
          0.40000000000000024,
          null,
          0.8000000000000003,
          0.7000000000000003,
          null,
          -1,
          -1.07,
          null,
          -0.7,
          -0.7699999999999999,
          null,
          -0.3999999999999999,
          -0.4699999999999999,
          null,
          -0.09999999999999987,
          -0.16999999999999987,
          null,
          0.20000000000000018,
          0.13000000000000017,
          null,
          0.5000000000000002,
          0.4300000000000002,
          null,
          0.8000000000000003,
          0.7300000000000003,
          null,
          -1,
          -1.04,
          null,
          -0.7,
          -0.74,
          null,
          -0.3999999999999999,
          -0.4399999999999999,
          null,
          -0.09999999999999987,
          -0.13999999999999985,
          null,
          0.20000000000000018,
          0.1600000000000002,
          null,
          0.5000000000000002,
          0.46000000000000024,
          null,
          0.8000000000000003,
          0.7600000000000002,
          null,
          -1,
          -1.01,
          null,
          -0.7,
          -0.71,
          null,
          -0.3999999999999999,
          -0.4099999999999999,
          null,
          -0.09999999999999987,
          -0.10999999999999985,
          null,
          0.20000000000000018,
          0.1900000000000002,
          null,
          0.5000000000000002,
          0.4900000000000002,
          null,
          0.8000000000000003,
          0.7900000000000003,
          null,
          -1,
          -0.98,
          null,
          -0.7,
          -0.6799999999999999,
          null,
          -0.3999999999999999,
          -0.3799999999999999,
          null,
          -0.09999999999999987,
          -0.07999999999999985,
          null,
          0.20000000000000018,
          0.2200000000000002,
          null,
          0.5000000000000002,
          0.5200000000000002,
          null,
          0.8000000000000003,
          0.8200000000000003,
          null,
          -1,
          -0.95,
          null,
          -0.7,
          -0.6499999999999999,
          null,
          -0.3999999999999999,
          -0.34999999999999987,
          null,
          -0.09999999999999987,
          -0.04999999999999984,
          null,
          0.20000000000000018,
          0.2500000000000002,
          null,
          0.5000000000000002,
          0.5500000000000003,
          null,
          0.8000000000000003,
          0.8500000000000003,
          null,
          -1,
          -0.9199999999999999,
          null,
          -0.7,
          -0.6199999999999999,
          null,
          -0.3999999999999999,
          -0.3199999999999999,
          null,
          -0.09999999999999987,
          -0.019999999999999837,
          null,
          0.20000000000000018,
          0.2800000000000002,
          null,
          0.5000000000000002,
          0.5800000000000003,
          null,
          0.8000000000000003,
          0.8800000000000003,
          null,
          -1.0615486170766528,
          -1.1,
          -1.082069825676193,
          null,
          -0.7646267983665836,
          -0.7999999999999999,
          -0.7789916443862618,
          null,
          -0.46770497965651464,
          -0.4999999999999999,
          -0.4759134630963307,
          null,
          -0.1707831609464456,
          -0.19999999999999987,
          -0.17283528180639962,
          null,
          0.1261386577636234,
          0.10000000000000017,
          0.13024289948353143,
          null,
          0.42306047647369244,
          0.40000000000000024,
          0.43332108077346254,
          null,
          0.7199822951837614,
          0.7000000000000003,
          0.7363992620633936,
          null,
          -1.040005850663726,
          -1.07,
          -1.060527059263266,
          null,
          -0.7430840319536568,
          -0.7699999999999999,
          -0.7574488779733349,
          null,
          -0.4461622132435878,
          -0.4699999999999999,
          -0.45437069668340385,
          null,
          -0.14924039453351878,
          -0.16999999999999987,
          -0.1512925153934728,
          null,
          0.14768142417655022,
          0.13000000000000017,
          0.15178566589645826,
          null,
          0.44460324288661923,
          0.4300000000000002,
          0.45486384718638934,
          null,
          0.7415250615966883,
          0.7300000000000003,
          0.7579420284763204,
          null,
          -1.0184630842507991,
          -1.04,
          -1.0389842928503392,
          null,
          -0.7215412655407301,
          -0.74,
          -0.7359061115604081,
          null,
          -0.424619446830661,
          -0.4399999999999999,
          -0.432827930270477,
          null,
          -0.12769762812059193,
          -0.13999999999999985,
          -0.12974974898054595,
          null,
          0.16922419058947707,
          0.1600000000000002,
          0.1733284323093851,
          null,
          0.4661460092995461,
          0.46000000000000024,
          0.4764066135993162,
          null,
          0.7630678280096151,
          0.7600000000000002,
          0.7794847948892472,
          null,
          -0.9969203178378723,
          -1.01,
          -1.0174415264374124,
          null,
          -0.6999984991278032,
          -0.71,
          -0.7143633451474812,
          null,
          -0.40307668041773415,
          -0.4099999999999999,
          -0.4112851638575502,
          null,
          -0.10615486170766512,
          -0.10999999999999985,
          -0.10820698256761914,
          null,
          0.1907669570024039,
          0.1900000000000002,
          0.19487119872231193,
          null,
          0.48768877571247293,
          0.4900000000000002,
          0.497949380012243,
          null,
          0.7846105944225419,
          0.7900000000000003,
          0.801027561302174,
          null,
          -0.9753775514249454,
          -0.98,
          -0.9958987600244855,
          null,
          -0.6784557327148764,
          -0.6799999999999999,
          -0.6928205787345545,
          null,
          -0.38153391400480735,
          -0.3799999999999999,
          -0.38974239744462336,
          null,
          -0.0846120952947383,
          -0.07999999999999985,
          -0.0866642161546923,
          null,
          0.21230972341533072,
          0.2200000000000002,
          0.21641396513523875,
          null,
          0.5092315421253998,
          0.5200000000000002,
          0.5194921464251698,
          null,
          0.8061533608354687,
          0.8200000000000003,
          0.8225703277151009,
          null,
          -0.9538347850120186,
          -0.95,
          -0.9743559936115587,
          null,
          -0.6569129663019495,
          -0.6499999999999999,
          -0.6712778123216276,
          null,
          -0.3599911475918805,
          -0.34999999999999987,
          -0.3681996310316965,
          null,
          -0.06306932888181147,
          -0.04999999999999984,
          -0.06512144974176548,
          null,
          0.23385248982825757,
          0.2500000000000002,
          0.2379567315481656,
          null,
          0.5307743085383266,
          0.5500000000000003,
          0.5410349128380967,
          null,
          0.8276961272483956,
          0.8500000000000003,
          0.8441130941280277,
          null,
          -0.9322920185990917,
          -0.9199999999999999,
          -0.9528132271986318,
          null,
          -0.6353701998890227,
          -0.6199999999999999,
          -0.6497350459087008,
          null,
          -0.33844838117895365,
          -0.3199999999999999,
          -0.3466568646187697,
          null,
          -0.04152656246888464,
          -0.019999999999999837,
          -0.04357868332883866,
          null,
          0.25539525624118437,
          0.2800000000000002,
          0.2594994979610924,
          null,
          0.5523170749512535,
          0.5800000000000003,
          0.5625776792510235,
          null,
          0.8492388936613224,
          0.8800000000000003,
          0.8656558605409546,
          null
         ],
         "y": [
          -1,
          -0.9,
          null,
          -1,
          -0.93,
          null,
          -1,
          -0.96,
          null,
          -1,
          -0.99,
          null,
          -1,
          -1.02,
          null,
          -1,
          -1.05,
          null,
          -1,
          -1.08,
          null,
          -0.7,
          -0.6,
          null,
          -0.7,
          -0.63,
          null,
          -0.7,
          -0.6599999999999999,
          null,
          -0.7,
          -0.69,
          null,
          -0.7,
          -0.72,
          null,
          -0.7,
          -0.75,
          null,
          -0.7,
          -0.78,
          null,
          -0.3999999999999999,
          -0.29999999999999993,
          null,
          -0.3999999999999999,
          -0.3299999999999999,
          null,
          -0.3999999999999999,
          -0.35999999999999993,
          null,
          -0.3999999999999999,
          -0.3899999999999999,
          null,
          -0.3999999999999999,
          -0.41999999999999993,
          null,
          -0.3999999999999999,
          -0.44999999999999996,
          null,
          -0.3999999999999999,
          -0.4799999999999999,
          null,
          -0.09999999999999987,
          1.3877787807814457e-16,
          null,
          -0.09999999999999987,
          -0.029999999999999874,
          null,
          -0.09999999999999987,
          -0.05999999999999987,
          null,
          -0.09999999999999987,
          -0.08999999999999989,
          null,
          -0.09999999999999987,
          -0.11999999999999988,
          null,
          -0.09999999999999987,
          -0.14999999999999988,
          null,
          -0.09999999999999987,
          -0.17999999999999988,
          null,
          0.20000000000000018,
          0.30000000000000016,
          null,
          0.20000000000000018,
          0.2700000000000002,
          null,
          0.20000000000000018,
          0.24000000000000016,
          null,
          0.20000000000000018,
          0.21000000000000016,
          null,
          0.20000000000000018,
          0.18000000000000016,
          null,
          0.20000000000000018,
          0.15000000000000016,
          null,
          0.20000000000000018,
          0.12000000000000015,
          null,
          0.5000000000000002,
          0.6000000000000002,
          null,
          0.5000000000000002,
          0.5700000000000002,
          null,
          0.5000000000000002,
          0.5400000000000003,
          null,
          0.5000000000000002,
          0.5100000000000002,
          null,
          0.5000000000000002,
          0.4800000000000002,
          null,
          0.5000000000000002,
          0.4500000000000002,
          null,
          0.5000000000000002,
          0.4200000000000002,
          null,
          0.8000000000000003,
          0.9000000000000002,
          null,
          0.8000000000000003,
          0.8700000000000002,
          null,
          0.8000000000000003,
          0.8400000000000003,
          null,
          0.8000000000000003,
          0.8100000000000003,
          null,
          0.8000000000000003,
          0.7800000000000002,
          null,
          0.8000000000000003,
          0.7500000000000002,
          null,
          0.8000000000000003,
          0.7200000000000002,
          null,
          -0.9179301743238072,
          -0.9,
          -0.9384513829233474,
          null,
          -0.939472940736734,
          -0.93,
          -0.9599941493362741,
          null,
          -0.9610157071496608,
          -0.96,
          -0.981536915749201,
          null,
          -0.9825584735625876,
          -0.99,
          -1.0030796821621277,
          null,
          -1.0041012399755145,
          -1.02,
          -1.0246224485750546,
          null,
          -1.0256440063884413,
          -1.05,
          -1.0461652149879814,
          null,
          -1.0471867728013682,
          -1.08,
          -1.0677079814009083,
          null,
          -0.6210083556137381,
          -0.6,
          -0.6353732016334163,
          null,
          -0.642551122026665,
          -0.63,
          -0.6569159680463431,
          null,
          -0.6640938884395918,
          -0.6599999999999999,
          -0.6784587344592699,
          null,
          -0.6856366548525187,
          -0.69,
          -0.7000015008721967,
          null,
          -0.7071794212654454,
          -0.72,
          -0.7215442672851236,
          null,
          -0.7287221876783723,
          -0.75,
          -0.7430870336980504,
          null,
          -0.7502649540912991,
          -0.78,
          -0.7646298001109773,
          null,
          -0.3240865369036692,
          -0.29999999999999993,
          -0.3322950203434852,
          null,
          -0.34562930331659597,
          -0.3299999999999999,
          -0.35383778675641203,
          null,
          -0.3671720697295228,
          -0.35999999999999993,
          -0.3753805531693388,
          null,
          -0.3887148361424496,
          -0.3899999999999999,
          -0.3969233195822657,
          null,
          -0.41025760255537647,
          -0.41999999999999993,
          -0.41846608599519247,
          null,
          -0.4318003689683033,
          -0.44999999999999996,
          -0.4400088524081193,
          null,
          -0.4533431353812301,
          -0.4799999999999999,
          -0.4615516188210462,
          null,
          -0.02716471819360011,
          1.3877787807814457e-16,
          -0.02921683905355412,
          null,
          -0.04870748460652694,
          -0.029999999999999874,
          -0.05075960546648095,
          null,
          -0.07025025101945377,
          -0.05999999999999987,
          -0.07230237187940777,
          null,
          -0.09179301743238061,
          -0.08999999999999989,
          -0.09384513829233461,
          null,
          -0.11333578384530743,
          -0.11999999999999988,
          -0.11538790470526143,
          null,
          -0.13487855025823425,
          -0.14999999999999988,
          -0.13693067111818827,
          null,
          -0.15642131667116108,
          -0.17999999999999988,
          -0.1584734375311151,
          null,
          0.2697571005164689,
          0.30000000000000016,
          0.2738613422363769,
          null,
          0.2482143341035421,
          0.2700000000000002,
          0.25231857582345013,
          null,
          0.22667156769061525,
          0.24000000000000016,
          0.23077580941052328,
          null,
          0.20512880127768843,
          0.21000000000000016,
          0.20923304299759646,
          null,
          0.1835860348647616,
          0.18000000000000016,
          0.18769027658466964,
          null,
          0.16204326845183478,
          0.15000000000000016,
          0.1661475101717428,
          null,
          0.14050050203890793,
          0.12000000000000015,
          0.14460474375881596,
          null,
          0.5666789192265379,
          0.6000000000000002,
          0.576939523526308,
          null,
          0.545136152813611,
          0.5700000000000002,
          0.5553967571133811,
          null,
          0.5235933864006843,
          0.5400000000000003,
          0.5338539907004544,
          null,
          0.5020506199877575,
          0.5100000000000002,
          0.5123112242875275,
          null,
          0.4805078535748306,
          0.4800000000000002,
          0.4907684578746007,
          null,
          0.45896508716190376,
          0.4500000000000002,
          0.46922569146167387,
          null,
          0.43742232074897697,
          0.4200000000000002,
          0.44768292504874707,
          null,
          0.863600737936607,
          0.9000000000000002,
          0.8800177048162391,
          null,
          0.8420579715236801,
          0.8700000000000002,
          0.8584749384033122,
          null,
          0.8205152051107534,
          0.8400000000000003,
          0.8369321719903854,
          null,
          0.7989724386978265,
          0.8100000000000003,
          0.8153894055774586,
          null,
          0.7774296722848997,
          0.7800000000000002,
          0.7938466391645318,
          null,
          0.7558869058719728,
          0.7500000000000002,
          0.772303872751605,
          null,
          0.734344139459046,
          0.7200000000000002,
          0.7507611063386781,
          null
         ]
        }
       ],
       "layout": {
        "autosize": true,
        "hovermode": "closest",
        "template": {
         "data": {
          "bar": [
           {
            "error_x": {
             "color": "#2a3f5f"
            },
            "error_y": {
             "color": "#2a3f5f"
            },
            "marker": {
             "line": {
              "color": "#E5ECF6",
              "width": 0.5
             },
             "pattern": {
              "fillmode": "overlay",
              "size": 10,
              "solidity": 0.2
             }
            },
            "type": "bar"
           }
          ],
          "barpolar": [
           {
            "marker": {
             "line": {
              "color": "#E5ECF6",
              "width": 0.5
             },
             "pattern": {
              "fillmode": "overlay",
              "size": 10,
              "solidity": 0.2
             }
            },
            "type": "barpolar"
           }
          ],
          "carpet": [
           {
            "aaxis": {
             "endlinecolor": "#2a3f5f",
             "gridcolor": "white",
             "linecolor": "white",
             "minorgridcolor": "white",
             "startlinecolor": "#2a3f5f"
            },
            "baxis": {
             "endlinecolor": "#2a3f5f",
             "gridcolor": "white",
             "linecolor": "white",
             "minorgridcolor": "white",
             "startlinecolor": "#2a3f5f"
            },
            "type": "carpet"
           }
          ],
          "choropleth": [
           {
            "colorbar": {
             "outlinewidth": 0,
             "ticks": ""
            },
            "type": "choropleth"
           }
          ],
          "contour": [
           {
            "colorbar": {
             "outlinewidth": 0,
             "ticks": ""
            },
            "colorscale": [
             [
              0,
              "#0d0887"
             ],
             [
              0.1111111111111111,
              "#46039f"
             ],
             [
              0.2222222222222222,
              "#7201a8"
             ],
             [
              0.3333333333333333,
              "#9c179e"
             ],
             [
              0.4444444444444444,
              "#bd3786"
             ],
             [
              0.5555555555555556,
              "#d8576b"
             ],
             [
              0.6666666666666666,
              "#ed7953"
             ],
             [
              0.7777777777777778,
              "#fb9f3a"
             ],
             [
              0.8888888888888888,
              "#fdca26"
             ],
             [
              1,
              "#f0f921"
             ]
            ],
            "type": "contour"
           }
          ],
          "contourcarpet": [
           {
            "colorbar": {
             "outlinewidth": 0,
             "ticks": ""
            },
            "type": "contourcarpet"
           }
          ],
          "heatmap": [
           {
            "colorbar": {
             "outlinewidth": 0,
             "ticks": ""
            },
            "colorscale": [
             [
              0,
              "#0d0887"
             ],
             [
              0.1111111111111111,
              "#46039f"
             ],
             [
              0.2222222222222222,
              "#7201a8"
             ],
             [
              0.3333333333333333,
              "#9c179e"
             ],
             [
              0.4444444444444444,
              "#bd3786"
             ],
             [
              0.5555555555555556,
              "#d8576b"
             ],
             [
              0.6666666666666666,
              "#ed7953"
             ],
             [
              0.7777777777777778,
              "#fb9f3a"
             ],
             [
              0.8888888888888888,
              "#fdca26"
             ],
             [
              1,
              "#f0f921"
             ]
            ],
            "type": "heatmap"
           }
          ],
          "heatmapgl": [
           {
            "colorbar": {
             "outlinewidth": 0,
             "ticks": ""
            },
            "colorscale": [
             [
              0,
              "#0d0887"
             ],
             [
              0.1111111111111111,
              "#46039f"
             ],
             [
              0.2222222222222222,
              "#7201a8"
             ],
             [
              0.3333333333333333,
              "#9c179e"
             ],
             [
              0.4444444444444444,
              "#bd3786"
             ],
             [
              0.5555555555555556,
              "#d8576b"
             ],
             [
              0.6666666666666666,
              "#ed7953"
             ],
             [
              0.7777777777777778,
              "#fb9f3a"
             ],
             [
              0.8888888888888888,
              "#fdca26"
             ],
             [
              1,
              "#f0f921"
             ]
            ],
            "type": "heatmapgl"
           }
          ],
          "histogram": [
           {
            "marker": {
             "pattern": {
              "fillmode": "overlay",
              "size": 10,
              "solidity": 0.2
             }
            },
            "type": "histogram"
           }
          ],
          "histogram2d": [
           {
            "colorbar": {
             "outlinewidth": 0,
             "ticks": ""
            },
            "colorscale": [
             [
              0,
              "#0d0887"
             ],
             [
              0.1111111111111111,
              "#46039f"
             ],
             [
              0.2222222222222222,
              "#7201a8"
             ],
             [
              0.3333333333333333,
              "#9c179e"
             ],
             [
              0.4444444444444444,
              "#bd3786"
             ],
             [
              0.5555555555555556,
              "#d8576b"
             ],
             [
              0.6666666666666666,
              "#ed7953"
             ],
             [
              0.7777777777777778,
              "#fb9f3a"
             ],
             [
              0.8888888888888888,
              "#fdca26"
             ],
             [
              1,
              "#f0f921"
             ]
            ],
            "type": "histogram2d"
           }
          ],
          "histogram2dcontour": [
           {
            "colorbar": {
             "outlinewidth": 0,
             "ticks": ""
            },
            "colorscale": [
             [
              0,
              "#0d0887"
             ],
             [
              0.1111111111111111,
              "#46039f"
             ],
             [
              0.2222222222222222,
              "#7201a8"
             ],
             [
              0.3333333333333333,
              "#9c179e"
             ],
             [
              0.4444444444444444,
              "#bd3786"
             ],
             [
              0.5555555555555556,
              "#d8576b"
             ],
             [
              0.6666666666666666,
              "#ed7953"
             ],
             [
              0.7777777777777778,
              "#fb9f3a"
             ],
             [
              0.8888888888888888,
              "#fdca26"
             ],
             [
              1,
              "#f0f921"
             ]
            ],
            "type": "histogram2dcontour"
           }
          ],
          "mesh3d": [
           {
            "colorbar": {
             "outlinewidth": 0,
             "ticks": ""
            },
            "type": "mesh3d"
           }
          ],
          "parcoords": [
           {
            "line": {
             "colorbar": {
              "outlinewidth": 0,
              "ticks": ""
             }
            },
            "type": "parcoords"
           }
          ],
          "pie": [
           {
            "automargin": true,
            "type": "pie"
           }
          ],
          "scatter": [
           {
            "fillpattern": {
             "fillmode": "overlay",
             "size": 10,
             "solidity": 0.2
            },
            "type": "scatter"
           }
          ],
          "scatter3d": [
           {
            "line": {
             "colorbar": {
              "outlinewidth": 0,
              "ticks": ""
             }
            },
            "marker": {
             "colorbar": {
              "outlinewidth": 0,
              "ticks": ""
             }
            },
            "type": "scatter3d"
           }
          ],
          "scattercarpet": [
           {
            "marker": {
             "colorbar": {
              "outlinewidth": 0,
              "ticks": ""
             }
            },
            "type": "scattercarpet"
           }
          ],
          "scattergeo": [
           {
            "marker": {
             "colorbar": {
              "outlinewidth": 0,
              "ticks": ""
             }
            },
            "type": "scattergeo"
           }
          ],
          "scattergl": [
           {
            "marker": {
             "colorbar": {
              "outlinewidth": 0,
              "ticks": ""
             }
            },
            "type": "scattergl"
           }
          ],
          "scattermapbox": [
           {
            "marker": {
             "colorbar": {
              "outlinewidth": 0,
              "ticks": ""
             }
            },
            "type": "scattermapbox"
           }
          ],
          "scatterpolar": [
           {
            "marker": {
             "colorbar": {
              "outlinewidth": 0,
              "ticks": ""
             }
            },
            "type": "scatterpolar"
           }
          ],
          "scatterpolargl": [
           {
            "marker": {
             "colorbar": {
              "outlinewidth": 0,
              "ticks": ""
             }
            },
            "type": "scatterpolargl"
           }
          ],
          "scatterternary": [
           {
            "marker": {
             "colorbar": {
              "outlinewidth": 0,
              "ticks": ""
             }
            },
            "type": "scatterternary"
           }
          ],
          "surface": [
           {
            "colorbar": {
             "outlinewidth": 0,
             "ticks": ""
            },
            "colorscale": [
             [
              0,
              "#0d0887"
             ],
             [
              0.1111111111111111,
              "#46039f"
             ],
             [
              0.2222222222222222,
              "#7201a8"
             ],
             [
              0.3333333333333333,
              "#9c179e"
             ],
             [
              0.4444444444444444,
              "#bd3786"
             ],
             [
              0.5555555555555556,
              "#d8576b"
             ],
             [
              0.6666666666666666,
              "#ed7953"
             ],
             [
              0.7777777777777778,
              "#fb9f3a"
             ],
             [
              0.8888888888888888,
              "#fdca26"
             ],
             [
              1,
              "#f0f921"
             ]
            ],
            "type": "surface"
           }
          ],
          "table": [
           {
            "cells": {
             "fill": {
              "color": "#EBF0F8"
             },
             "line": {
              "color": "white"
             }
            },
            "header": {
             "fill": {
              "color": "#C8D4E3"
             },
             "line": {
              "color": "white"
             }
            },
            "type": "table"
           }
          ]
         },
         "layout": {
          "annotationdefaults": {
           "arrowcolor": "#2a3f5f",
           "arrowhead": 0,
           "arrowwidth": 1
          },
          "autotypenumbers": "strict",
          "coloraxis": {
           "colorbar": {
            "outlinewidth": 0,
            "ticks": ""
           }
          },
          "colorscale": {
           "diverging": [
            [
             0,
             "#8e0152"
            ],
            [
             0.1,
             "#c51b7d"
            ],
            [
             0.2,
             "#de77ae"
            ],
            [
             0.3,
             "#f1b6da"
            ],
            [
             0.4,
             "#fde0ef"
            ],
            [
             0.5,
             "#f7f7f7"
            ],
            [
             0.6,
             "#e6f5d0"
            ],
            [
             0.7,
             "#b8e186"
            ],
            [
             0.8,
             "#7fbc41"
            ],
            [
             0.9,
             "#4d9221"
            ],
            [
             1,
             "#276419"
            ]
           ],
           "sequential": [
            [
             0,
             "#0d0887"
            ],
            [
             0.1111111111111111,
             "#46039f"
            ],
            [
             0.2222222222222222,
             "#7201a8"
            ],
            [
             0.3333333333333333,
             "#9c179e"
            ],
            [
             0.4444444444444444,
             "#bd3786"
            ],
            [
             0.5555555555555556,
             "#d8576b"
            ],
            [
             0.6666666666666666,
             "#ed7953"
            ],
            [
             0.7777777777777778,
             "#fb9f3a"
            ],
            [
             0.8888888888888888,
             "#fdca26"
            ],
            [
             1,
             "#f0f921"
            ]
           ],
           "sequentialminus": [
            [
             0,
             "#0d0887"
            ],
            [
             0.1111111111111111,
             "#46039f"
            ],
            [
             0.2222222222222222,
             "#7201a8"
            ],
            [
             0.3333333333333333,
             "#9c179e"
            ],
            [
             0.4444444444444444,
             "#bd3786"
            ],
            [
             0.5555555555555556,
             "#d8576b"
            ],
            [
             0.6666666666666666,
             "#ed7953"
            ],
            [
             0.7777777777777778,
             "#fb9f3a"
            ],
            [
             0.8888888888888888,
             "#fdca26"
            ],
            [
             1,
             "#f0f921"
            ]
           ]
          },
          "colorway": [
           "#636efa",
           "#EF553B",
           "#00cc96",
           "#ab63fa",
           "#FFA15A",
           "#19d3f3",
           "#FF6692",
           "#B6E880",
           "#FF97FF",
           "#FECB52"
          ],
          "font": {
           "color": "#2a3f5f"
          },
          "geo": {
           "bgcolor": "white",
           "lakecolor": "white",
           "landcolor": "#E5ECF6",
           "showlakes": true,
           "showland": true,
           "subunitcolor": "white"
          },
          "hoverlabel": {
           "align": "left"
          },
          "hovermode": "closest",
          "mapbox": {
           "style": "light"
          },
          "paper_bgcolor": "white",
          "plot_bgcolor": "#E5ECF6",
          "polar": {
           "angularaxis": {
            "gridcolor": "white",
            "linecolor": "white",
            "ticks": ""
           },
           "bgcolor": "#E5ECF6",
           "radialaxis": {
            "gridcolor": "white",
            "linecolor": "white",
            "ticks": ""
           }
          },
          "scene": {
           "xaxis": {
            "backgroundcolor": "#E5ECF6",
            "gridcolor": "white",
            "gridwidth": 2,
            "linecolor": "white",
            "showbackground": true,
            "ticks": "",
            "zerolinecolor": "white"
           },
           "yaxis": {
            "backgroundcolor": "#E5ECF6",
            "gridcolor": "white",
            "gridwidth": 2,
            "linecolor": "white",
            "showbackground": true,
            "ticks": "",
            "zerolinecolor": "white"
           },
           "zaxis": {
            "backgroundcolor": "#E5ECF6",
            "gridcolor": "white",
            "gridwidth": 2,
            "linecolor": "white",
            "showbackground": true,
            "ticks": "",
            "zerolinecolor": "white"
           }
          },
          "shapedefaults": {
           "line": {
            "color": "#2a3f5f"
           }
          },
          "ternary": {
           "aaxis": {
            "gridcolor": "white",
            "linecolor": "white",
            "ticks": ""
           },
           "baxis": {
            "gridcolor": "white",
            "linecolor": "white",
            "ticks": ""
           },
           "bgcolor": "#E5ECF6",
           "caxis": {
            "gridcolor": "white",
            "linecolor": "white",
            "ticks": ""
           }
          },
          "title": {
           "x": 0.05
          },
          "xaxis": {
           "automargin": true,
           "gridcolor": "white",
           "linecolor": "white",
           "ticks": "",
           "title": {
            "standoff": 15
           },
           "zerolinecolor": "white",
           "zerolinewidth": 2
          },
          "yaxis": {
           "automargin": true,
           "gridcolor": "white",
           "linecolor": "white",
           "ticks": "",
           "title": {
            "standoff": 15
           },
           "zerolinecolor": "white",
           "zerolinewidth": 2
          }
         }
        },
        "xaxis": {
         "autorange": true,
         "range": [
          -1.1,
          0.8800000000000003
         ],
         "type": "linear"
        },
        "yaxis": {
         "autorange": true,
         "range": [
          -1.1900000000000002,
          1.0100000000000002
         ],
         "type": "linear"
        }
       }
      },
      "image/png": "[encoded data removed]",
      "text/html": [
       "<div>                            <div id=\"996841c9-0542-434f-8556-88126da8f49b\" class=\"plotly-graph-div\" style=\"height:525px; width:100%;\"></div>            <script type=\"text/javascript\">                require([\"plotly\"], function(Plotly) {                    window.PLOTLYENV=window.PLOTLYENV || {};                                    if (document.getElementById(\"996841c9-0542-434f-8556-88126da8f49b\")) {                    Plotly.newPlot(                        \"996841c9-0542-434f-8556-88126da8f49b\",                        [{\"mode\":\"lines\",\"x\":[-1.0,-1.1,null,-0.7,-0.7999999999999999,null,-0.3999999999999999,-0.4999999999999999,null,-0.09999999999999987,-0.19999999999999987,null,0.20000000000000018,0.10000000000000017,null,0.5000000000000002,0.40000000000000024,null,0.8000000000000003,0.7000000000000003,null,-1.0,-1.07,null,-0.7,-0.7699999999999999,null,-0.3999999999999999,-0.4699999999999999,null,-0.09999999999999987,-0.16999999999999987,null,0.20000000000000018,0.13000000000000017,null,0.5000000000000002,0.4300000000000002,null,0.8000000000000003,0.7300000000000003,null,-1.0,-1.04,null,-0.7,-0.74,null,-0.3999999999999999,-0.4399999999999999,null,-0.09999999999999987,-0.13999999999999985,null,0.20000000000000018,0.1600000000000002,null,0.5000000000000002,0.46000000000000024,null,0.8000000000000003,0.7600000000000002,null,-1.0,-1.01,null,-0.7,-0.71,null,-0.3999999999999999,-0.4099999999999999,null,-0.09999999999999987,-0.10999999999999985,null,0.20000000000000018,0.1900000000000002,null,0.5000000000000002,0.4900000000000002,null,0.8000000000000003,0.7900000000000003,null,-1.0,-0.98,null,-0.7,-0.6799999999999999,null,-0.3999999999999999,-0.3799999999999999,null,-0.09999999999999987,-0.07999999999999985,null,0.20000000000000018,0.2200000000000002,null,0.5000000000000002,0.5200000000000002,null,0.8000000000000003,0.8200000000000003,null,-1.0,-0.95,null,-0.7,-0.6499999999999999,null,-0.3999999999999999,-0.34999999999999987,null,-0.09999999999999987,-0.04999999999999984,null,0.20000000000000018,0.2500000000000002,null,0.5000000000000002,0.5500000000000003,null,0.8000000000000003,0.8500000000000003,null,-1.0,-0.9199999999999999,null,-0.7,-0.6199999999999999,null,-0.3999999999999999,-0.3199999999999999,null,-0.09999999999999987,-0.019999999999999837,null,0.20000000000000018,0.2800000000000002,null,0.5000000000000002,0.5800000000000003,null,0.8000000000000003,0.8800000000000003,null,-1.0615486170766528,-1.1,-1.082069825676193,null,-0.7646267983665836,-0.7999999999999999,-0.7789916443862618,null,-0.46770497965651464,-0.4999999999999999,-0.4759134630963307,null,-0.1707831609464456,-0.19999999999999987,-0.17283528180639962,null,0.1261386577636234,0.10000000000000017,0.13024289948353143,null,0.42306047647369244,0.40000000000000024,0.43332108077346254,null,0.7199822951837614,0.7000000000000003,0.7363992620633936,null,-1.040005850663726,-1.07,-1.060527059263266,null,-0.7430840319536568,-0.7699999999999999,-0.7574488779733349,null,-0.4461622132435878,-0.4699999999999999,-0.45437069668340385,null,-0.14924039453351878,-0.16999999999999987,-0.1512925153934728,null,0.14768142417655022,0.13000000000000017,0.15178566589645826,null,0.44460324288661923,0.4300000000000002,0.45486384718638934,null,0.7415250615966883,0.7300000000000003,0.7579420284763204,null,-1.0184630842507991,-1.04,-1.0389842928503392,null,-0.7215412655407301,-0.74,-0.7359061115604081,null,-0.424619446830661,-0.4399999999999999,-0.432827930270477,null,-0.12769762812059193,-0.13999999999999985,-0.12974974898054595,null,0.16922419058947707,0.1600000000000002,0.1733284323093851,null,0.4661460092995461,0.46000000000000024,0.4764066135993162,null,0.7630678280096151,0.7600000000000002,0.7794847948892472,null,-0.9969203178378723,-1.01,-1.0174415264374124,null,-0.6999984991278032,-0.71,-0.7143633451474812,null,-0.40307668041773415,-0.4099999999999999,-0.4112851638575502,null,-0.10615486170766512,-0.10999999999999985,-0.10820698256761914,null,0.1907669570024039,0.1900000000000002,0.19487119872231193,null,0.48768877571247293,0.4900000000000002,0.497949380012243,null,0.7846105944225419,0.7900000000000003,0.801027561302174,null,-0.9753775514249454,-0.98,-0.9958987600244855,null,-0.6784557327148764,-0.6799999999999999,-0.6928205787345545,null,-0.38153391400480735,-0.3799999999999999,-0.38974239744462336,null,-0.0846120952947383,-0.07999999999999985,-0.0866642161546923,null,0.21230972341533072,0.2200000000000002,0.21641396513523875,null,0.5092315421253998,0.5200000000000002,0.5194921464251698,null,0.8061533608354687,0.8200000000000003,0.8225703277151009,null,-0.9538347850120186,-0.95,-0.9743559936115587,null,-0.6569129663019495,-0.6499999999999999,-0.6712778123216276,null,-0.3599911475918805,-0.34999999999999987,-0.3681996310316965,null,-0.06306932888181147,-0.04999999999999984,-0.06512144974176548,null,0.23385248982825757,0.2500000000000002,0.2379567315481656,null,0.5307743085383266,0.5500000000000003,0.5410349128380967,null,0.8276961272483956,0.8500000000000003,0.8441130941280277,null,-0.9322920185990917,-0.9199999999999999,-0.9528132271986318,null,-0.6353701998890227,-0.6199999999999999,-0.6497350459087008,null,-0.33844838117895365,-0.3199999999999999,-0.3466568646187697,null,-0.04152656246888464,-0.019999999999999837,-0.04357868332883866,null,0.25539525624118437,0.2800000000000002,0.2594994979610924,null,0.5523170749512535,0.5800000000000003,0.5625776792510235,null,0.8492388936613224,0.8800000000000003,0.8656558605409546,null],\"y\":[-1.0,-0.9,null,-1.0,-0.93,null,-1.0,-0.96,null,-1.0,-0.99,null,-1.0,-1.02,null,-1.0,-1.05,null,-1.0,-1.08,null,-0.7,-0.6,null,-0.7,-0.63,null,-0.7,-0.6599999999999999,null,-0.7,-0.69,null,-0.7,-0.72,null,-0.7,-0.75,null,-0.7,-0.78,null,-0.3999999999999999,-0.29999999999999993,null,-0.3999999999999999,-0.3299999999999999,null,-0.3999999999999999,-0.35999999999999993,null,-0.3999999999999999,-0.3899999999999999,null,-0.3999999999999999,-0.41999999999999993,null,-0.3999999999999999,-0.44999999999999996,null,-0.3999999999999999,-0.4799999999999999,null,-0.09999999999999987,1.3877787807814457e-16,null,-0.09999999999999987,-0.029999999999999874,null,-0.09999999999999987,-0.05999999999999987,null,-0.09999999999999987,-0.08999999999999989,null,-0.09999999999999987,-0.11999999999999988,null,-0.09999999999999987,-0.14999999999999988,null,-0.09999999999999987,-0.17999999999999988,null,0.20000000000000018,0.30000000000000016,null,0.20000000000000018,0.2700000000000002,null,0.20000000000000018,0.24000000000000016,null,0.20000000000000018,0.21000000000000016,null,0.20000000000000018,0.18000000000000016,null,0.20000000000000018,0.15000000000000016,null,0.20000000000000018,0.12000000000000015,null,0.5000000000000002,0.6000000000000002,null,0.5000000000000002,0.5700000000000002,null,0.5000000000000002,0.5400000000000003,null,0.5000000000000002,0.5100000000000002,null,0.5000000000000002,0.4800000000000002,null,0.5000000000000002,0.4500000000000002,null,0.5000000000000002,0.4200000000000002,null,0.8000000000000003,0.9000000000000002,null,0.8000000000000003,0.8700000000000002,null,0.8000000000000003,0.8400000000000003,null,0.8000000000000003,0.8100000000000003,null,0.8000000000000003,0.7800000000000002,null,0.8000000000000003,0.7500000000000002,null,0.8000000000000003,0.7200000000000002,null,-0.9179301743238072,-0.9,-0.9384513829233474,null,-0.939472940736734,-0.93,-0.9599941493362741,null,-0.9610157071496608,-0.96,-0.981536915749201,null,-0.9825584735625876,-0.99,-1.0030796821621277,null,-1.0041012399755145,-1.02,-1.0246224485750546,null,-1.0256440063884413,-1.05,-1.0461652149879814,null,-1.0471867728013682,-1.08,-1.0677079814009083,null,-0.6210083556137381,-0.6,-0.6353732016334163,null,-0.642551122026665,-0.63,-0.6569159680463431,null,-0.6640938884395918,-0.6599999999999999,-0.6784587344592699,null,-0.6856366548525187,-0.69,-0.7000015008721967,null,-0.7071794212654454,-0.72,-0.7215442672851236,null,-0.7287221876783723,-0.75,-0.7430870336980504,null,-0.7502649540912991,-0.78,-0.7646298001109773,null,-0.3240865369036692,-0.29999999999999993,-0.3322950203434852,null,-0.34562930331659597,-0.3299999999999999,-0.35383778675641203,null,-0.3671720697295228,-0.35999999999999993,-0.3753805531693388,null,-0.3887148361424496,-0.3899999999999999,-0.3969233195822657,null,-0.41025760255537647,-0.41999999999999993,-0.41846608599519247,null,-0.4318003689683033,-0.44999999999999996,-0.4400088524081193,null,-0.4533431353812301,-0.4799999999999999,-0.4615516188210462,null,-0.02716471819360011,1.3877787807814457e-16,-0.02921683905355412,null,-0.04870748460652694,-0.029999999999999874,-0.05075960546648095,null,-0.07025025101945377,-0.05999999999999987,-0.07230237187940777,null,-0.09179301743238061,-0.08999999999999989,-0.09384513829233461,null,-0.11333578384530743,-0.11999999999999988,-0.11538790470526143,null,-0.13487855025823425,-0.14999999999999988,-0.13693067111818827,null,-0.15642131667116108,-0.17999999999999988,-0.1584734375311151,null,0.2697571005164689,0.30000000000000016,0.2738613422363769,null,0.2482143341035421,0.2700000000000002,0.25231857582345013,null,0.22667156769061525,0.24000000000000016,0.23077580941052328,null,0.20512880127768843,0.21000000000000016,0.20923304299759646,null,0.1835860348647616,0.18000000000000016,0.18769027658466964,null,0.16204326845183478,0.15000000000000016,0.1661475101717428,null,0.14050050203890793,0.12000000000000015,0.14460474375881596,null,0.5666789192265379,0.6000000000000002,0.576939523526308,null,0.545136152813611,0.5700000000000002,0.5553967571133811,null,0.5235933864006843,0.5400000000000003,0.5338539907004544,null,0.5020506199877575,0.5100000000000002,0.5123112242875275,null,0.4805078535748306,0.4800000000000002,0.4907684578746007,null,0.45896508716190376,0.4500000000000002,0.46922569146167387,null,0.43742232074897697,0.4200000000000002,0.44768292504874707,null,0.863600737936607,0.9000000000000002,0.8800177048162391,null,0.8420579715236801,0.8700000000000002,0.8584749384033122,null,0.8205152051107534,0.8400000000000003,0.8369321719903854,null,0.7989724386978265,0.8100000000000003,0.8153894055774586,null,0.7774296722848997,0.7800000000000002,0.7938466391645318,null,0.7558869058719728,0.7500000000000002,0.772303872751605,null,0.734344139459046,0.7200000000000002,0.7507611063386781,null],\"type\":\"scatter\"}],                        {\"hovermode\":\"closest\",\"template\":{\"data\":{\"histogram2dcontour\":[{\"type\":\"histogram2dcontour\",\"colorbar\":{\"outlinewidth\":0,\"ticks\":\"\"},\"colorscale\":[[0.0,\"#0d0887\"],[0.1111111111111111,\"#46039f\"],[0.2222222222222222,\"#7201a8\"],[0.3333333333333333,\"#9c179e\"],[0.4444444444444444,\"#bd3786\"],[0.5555555555555556,\"#d8576b\"],[0.6666666666666666,\"#ed7953\"],[0.7777777777777778,\"#fb9f3a\"],[0.8888888888888888,\"#fdca26\"],[1.0,\"#f0f921\"]]}],\"choropleth\":[{\"type\":\"choropleth\",\"colorbar\":{\"outlinewidth\":0,\"ticks\":\"\"}}],\"histogram2d\":[{\"type\":\"histogram2d\",\"colorbar\":{\"outlinewidth\":0,\"ticks\":\"\"},\"colorscale\":[[0.0,\"#0d0887\"],[0.1111111111111111,\"#46039f\"],[0.2222222222222222,\"#7201a8\"],[0.3333333333333333,\"#9c179e\"],[0.4444444444444444,\"#bd3786\"],[0.5555555555555556,\"#d8576b\"],[0.6666666666666666,\"#ed7953\"],[0.7777777777777778,\"#fb9f3a\"],[0.8888888888888888,\"#fdca26\"],[1.0,\"#f0f921\"]]}],\"heatmap\":[{\"type\":\"heatmap\",\"colorbar\":{\"outlinewidth\":0,\"ticks\":\"\"},\"colorscale\":[[0.0,\"#0d0887\"],[0.1111111111111111,\"#46039f\"],[0.2222222222222222,\"#7201a8\"],[0.3333333333333333,\"#9c179e\"],[0.4444444444444444,\"#bd3786\"],[0.5555555555555556,\"#d8576b\"],[0.6666666666666666,\"#ed7953\"],[0.7777777777777778,\"#fb9f3a\"],[0.8888888888888888,\"#fdca26\"],[1.0,\"#f0f921\"]]}],\"heatmapgl\":[{\"type\":\"heatmapgl\",\"colorbar\":{\"outlinewidth\":0,\"ticks\":\"\"},\"colorscale\":[[0.0,\"#0d0887\"],[0.1111111111111111,\"#46039f\"],[0.2222222222222222,\"#7201a8\"],[0.3333333333333333,\"#9c179e\"],[0.4444444444444444,\"#bd3786\"],[0.5555555555555556,\"#d8576b\"],[0.6666666666666666,\"#ed7953\"],[0.7777777777777778,\"#fb9f3a\"],[0.8888888888888888,\"#fdca26\"],[1.0,\"#f0f921\"]]}],\"contourcarpet\":[{\"type\":\"contourcarpet\",\"colorbar\":{\"outlinewidth\":0,\"ticks\":\"\"}}],\"contour\":[{\"type\":\"contour\",\"colorbar\":{\"outlinewidth\":0,\"ticks\":\"\"},\"colorscale\":[[0.0,\"#0d0887\"],[0.1111111111111111,\"#46039f\"],[0.2222222222222222,\"#7201a8\"],[0.3333333333333333,\"#9c179e\"],[0.4444444444444444,\"#bd3786\"],[0.5555555555555556,\"#d8576b\"],[0.6666666666666666,\"#ed7953\"],[0.7777777777777778,\"#fb9f3a\"],[0.8888888888888888,\"#fdca26\"],[1.0,\"#f0f921\"]]}],\"surface\":[{\"type\":\"surface\",\"colorbar\":{\"outlinewidth\":0,\"ticks\":\"\"},\"colorscale\":[[0.0,\"#0d0887\"],[0.1111111111111111,\"#46039f\"],[0.2222222222222222,\"#7201a8\"],[0.3333333333333333,\"#9c179e\"],[0.4444444444444444,\"#bd3786\"],[0.5555555555555556,\"#d8576b\"],[0.6666666666666666,\"#ed7953\"],[0.7777777777777778,\"#fb9f3a\"],[0.8888888888888888,\"#fdca26\"],[1.0,\"#f0f921\"]]}],\"mesh3d\":[{\"type\":\"mesh3d\",\"colorbar\":{\"outlinewidth\":0,\"ticks\":\"\"}}],\"scatter\":[{\"fillpattern\":{\"fillmode\":\"overlay\",\"size\":10,\"solidity\":0.2},\"type\":\"scatter\"}],\"parcoords\":[{\"type\":\"parcoords\",\"line\":{\"colorbar\":{\"outlinewidth\":0,\"ticks\":\"\"}}}],\"scatterpolargl\":[{\"type\":\"scatterpolargl\",\"marker\":{\"colorbar\":{\"outlinewidth\":0,\"ticks\":\"\"}}}],\"bar\":[{\"error_x\":{\"color\":\"#2a3f5f\"},\"error_y\":{\"color\":\"#2a3f5f\"},\"marker\":{\"line\":{\"color\":\"#E5ECF6\",\"width\":0.5},\"pattern\":{\"fillmode\":\"overlay\",\"size\":10,\"solidity\":0.2}},\"type\":\"bar\"}],\"scattergeo\":[{\"type\":\"scattergeo\",\"marker\":{\"colorbar\":{\"outlinewidth\":0,\"ticks\":\"\"}}}],\"scatterpolar\":[{\"type\":\"scatterpolar\",\"marker\":{\"colorbar\":{\"outlinewidth\":0,\"ticks\":\"\"}}}],\"histogram\":[{\"marker\":{\"pattern\":{\"fillmode\":\"overlay\",\"size\":10,\"solidity\":0.2}},\"type\":\"histogram\"}],\"scattergl\":[{\"type\":\"scattergl\",\"marker\":{\"colorbar\":{\"outlinewidth\":0,\"ticks\":\"\"}}}],\"scatter3d\":[{\"type\":\"scatter3d\",\"line\":{\"colorbar\":{\"outlinewidth\":0,\"ticks\":\"\"}},\"marker\":{\"colorbar\":{\"outlinewidth\":0,\"ticks\":\"\"}}}],\"scattermapbox\":[{\"type\":\"scattermapbox\",\"marker\":{\"colorbar\":{\"outlinewidth\":0,\"ticks\":\"\"}}}],\"scatterternary\":[{\"type\":\"scatterternary\",\"marker\":{\"colorbar\":{\"outlinewidth\":0,\"ticks\":\"\"}}}],\"scattercarpet\":[{\"type\":\"scattercarpet\",\"marker\":{\"colorbar\":{\"outlinewidth\":0,\"ticks\":\"\"}}}],\"carpet\":[{\"aaxis\":{\"endlinecolor\":\"#2a3f5f\",\"gridcolor\":\"white\",\"linecolor\":\"white\",\"minorgridcolor\":\"white\",\"startlinecolor\":\"#2a3f5f\"},\"baxis\":{\"endlinecolor\":\"#2a3f5f\",\"gridcolor\":\"white\",\"linecolor\":\"white\",\"minorgridcolor\":\"white\",\"startlinecolor\":\"#2a3f5f\"},\"type\":\"carpet\"}],\"table\":[{\"cells\":{\"fill\":{\"color\":\"#EBF0F8\"},\"line\":{\"color\":\"white\"}},\"header\":{\"fill\":{\"color\":\"#C8D4E3\"},\"line\":{\"color\":\"white\"}},\"type\":\"table\"}],\"barpolar\":[{\"marker\":{\"line\":{\"color\":\"#E5ECF6\",\"width\":0.5},\"pattern\":{\"fillmode\":\"overlay\",\"size\":10,\"solidity\":0.2}},\"type\":\"barpolar\"}],\"pie\":[{\"automargin\":true,\"type\":\"pie\"}]},\"layout\":{\"autotypenumbers\":\"strict\",\"colorway\":[\"#636efa\",\"#EF553B\",\"#00cc96\",\"#ab63fa\",\"#FFA15A\",\"#19d3f3\",\"#FF6692\",\"#B6E880\",\"#FF97FF\",\"#FECB52\"],\"font\":{\"color\":\"#2a3f5f\"},\"hovermode\":\"closest\",\"hoverlabel\":{\"align\":\"left\"},\"paper_bgcolor\":\"white\",\"plot_bgcolor\":\"#E5ECF6\",\"polar\":{\"bgcolor\":\"#E5ECF6\",\"angularaxis\":{\"gridcolor\":\"white\",\"linecolor\":\"white\",\"ticks\":\"\"},\"radialaxis\":{\"gridcolor\":\"white\",\"linecolor\":\"white\",\"ticks\":\"\"}},\"ternary\":{\"bgcolor\":\"#E5ECF6\",\"aaxis\":{\"gridcolor\":\"white\",\"linecolor\":\"white\",\"ticks\":\"\"},\"baxis\":{\"gridcolor\":\"white\",\"linecolor\":\"white\",\"ticks\":\"\"},\"caxis\":{\"gridcolor\":\"white\",\"linecolor\":\"white\",\"ticks\":\"\"}},\"coloraxis\":{\"colorbar\":{\"outlinewidth\":0,\"ticks\":\"\"}},\"colorscale\":{\"sequential\":[[0.0,\"#0d0887\"],[0.1111111111111111,\"#46039f\"],[0.2222222222222222,\"#7201a8\"],[0.3333333333333333,\"#9c179e\"],[0.4444444444444444,\"#bd3786\"],[0.5555555555555556,\"#d8576b\"],[0.6666666666666666,\"#ed7953\"],[0.7777777777777778,\"#fb9f3a\"],[0.8888888888888888,\"#fdca26\"],[1.0,\"#f0f921\"]],\"sequentialminus\":[[0.0,\"#0d0887\"],[0.1111111111111111,\"#46039f\"],[0.2222222222222222,\"#7201a8\"],[0.3333333333333333,\"#9c179e\"],[0.4444444444444444,\"#bd3786\"],[0.5555555555555556,\"#d8576b\"],[0.6666666666666666,\"#ed7953\"],[0.7777777777777778,\"#fb9f3a\"],[0.8888888888888888,\"#fdca26\"],[1.0,\"#f0f921\"]],\"diverging\":[[0,\"#8e0152\"],[0.1,\"#c51b7d\"],[0.2,\"#de77ae\"],[0.3,\"#f1b6da\"],[0.4,\"#fde0ef\"],[0.5,\"#f7f7f7\"],[0.6,\"#e6f5d0\"],[0.7,\"#b8e186\"],[0.8,\"#7fbc41\"],[0.9,\"#4d9221\"],[1,\"#276419\"]]},\"xaxis\":{\"gridcolor\":\"white\",\"linecolor\":\"white\",\"ticks\":\"\",\"title\":{\"standoff\":15},\"zerolinecolor\":\"white\",\"automargin\":true,\"zerolinewidth\":2},\"yaxis\":{\"gridcolor\":\"white\",\"linecolor\":\"white\",\"ticks\":\"\",\"title\":{\"standoff\":15},\"zerolinecolor\":\"white\",\"automargin\":true,\"zerolinewidth\":2},\"scene\":{\"xaxis\":{\"backgroundcolor\":\"#E5ECF6\",\"gridcolor\":\"white\",\"linecolor\":\"white\",\"showbackground\":true,\"ticks\":\"\",\"zerolinecolor\":\"white\",\"gridwidth\":2},\"yaxis\":{\"backgroundcolor\":\"#E5ECF6\",\"gridcolor\":\"white\",\"linecolor\":\"white\",\"showbackground\":true,\"ticks\":\"\",\"zerolinecolor\":\"white\",\"gridwidth\":2},\"zaxis\":{\"backgroundcolor\":\"#E5ECF6\",\"gridcolor\":\"white\",\"linecolor\":\"white\",\"showbackground\":true,\"ticks\":\"\",\"zerolinecolor\":\"white\",\"gridwidth\":2}},\"shapedefaults\":{\"line\":{\"color\":\"#2a3f5f\"}},\"annotationdefaults\":{\"arrowcolor\":\"#2a3f5f\",\"arrowhead\":0,\"arrowwidth\":1},\"geo\":{\"bgcolor\":\"white\",\"landcolor\":\"#E5ECF6\",\"subunitcolor\":\"white\",\"showland\":true,\"showlakes\":true,\"lakecolor\":\"white\"},\"title\":{\"x\":0.05},\"mapbox\":{\"style\":\"light\"}}}},                        {\"responsive\": true}                    ).then(function(){\n",
       "                            \n",
       "var gd = document.getElementById('996841c9-0542-434f-8556-88126da8f49b');\n",
       "var x = new MutationObserver(function (mutations, observer) {{\n",
       "        var display = window.getComputedStyle(gd).display;\n",
       "        if (!display || display === 'none') {{\n",
       "            console.log([gd, 'removed!']);\n",
       "            Plotly.purge(gd);\n",
       "            observer.disconnect();\n",
       "        }}\n",
       "}});\n",
       "\n",
       "// Listen for the removal of the full notebook cells\n",
       "var notebookContainer = gd.closest('#notebook-container');\n",
       "if (notebookContainer) {{\n",
       "    x.observe(notebookContainer, {childList: true});\n",
       "}}\n",
       "\n",
       "// Listen for the clearing of the current output cell\n",
       "var outputEl = gd.closest('.output');\n",
       "if (outputEl) {{\n",
       "    x.observe(outputEl, {childList: true});\n",
       "}}\n",
       "\n",
       "                        })                };                });            </script>        </div>"
      ]
     },
     "metadata": {},
     "output_type": "display_data"
    }
   ],
   "source": [
    "fig = ff.create_quiver(X, Y, dx, dy)\n",
    "fig.show()"
   ]
  },
  {
   "cell_type": "code",
   "execution_count": null,
   "id": "d6198576-24e6-49b7-94ff-726714583816",
   "metadata": {},
   "outputs": [],
   "source": []
  }
 ],
 "metadata": {
  "kernelspec": {
   "display_name": "Python 3 (ipykernel)",
   "language": "python",
   "name": "python3"
  },
  "language_info": {
   "codemirror_mode": {
    "name": "ipython",
    "version": 3
   },
   "file_extension": ".py",
   "mimetype": "text/x-python",
   "name": "python",
   "nbconvert_exporter": "python",
   "pygments_lexer": "ipython3",
   "version": "3.10.6"
  }
 },
 "nbformat": 4,
 "nbformat_minor": 5
}
