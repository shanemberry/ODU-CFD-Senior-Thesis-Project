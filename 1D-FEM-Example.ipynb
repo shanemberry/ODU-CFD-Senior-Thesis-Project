{
 "cells": [
  {
   "cell_type": "code",
   "execution_count": 1,
   "id": "282a43ab-a6f1-4470-a9a1-75611f72e40e",
   "metadata": {},
   "outputs": [],
   "source": [
    "import matplotlib.pyplot as plt\n",
    "import numpy as np"
   ]
  },
  {
   "cell_type": "code",
   "execution_count": 8,
   "id": "c9f87b70-2781-44ac-b8b7-65285bbc4550",
   "metadata": {},
   "outputs": [],
   "source": [
    "N = 27 # legnth of x space\n",
    "n = 3  # number of subdivisions we want to make\n",
    "x = np.linspace(0,3,N)"
   ]
  },
  {
   "cell_type": "code",
   "execution_count": 9,
   "id": "9d2d928c-f2e0-4729-a055-b13904bb9571",
   "metadata": {},
   "outputs": [],
   "source": [
    "Delta_x = max(x)/n\n",
    "West_Index=x<=1*Delta_x\n",
    "East_Index=x>=2*Delta_x\n",
    "Center_Index=np.logical_and(x > 1*Delta_x, x < 2*Delta_x)"
   ]
  },
  {
   "cell_type": "code",
   "execution_count": 10,
   "id": "09089e4d-f059-4e35-92ee-0e73139af65f",
   "metadata": {},
   "outputs": [
    {
     "data": {
      "text/plain": [
       "[<matplotlib.lines.Line2D at 0x7fcebf6a8a60>]"
      ]
     },
     "execution_count": 10,
     "metadata": {},
     "output_type": "execute_result"
    },
    {
     "data": {
      "image/png": "[encoded data removed]",
      "text/plain": [
       "<Figure size 432x288 with 1 Axes>"
      ]
     },
     "metadata": {
      "needs_background": "light"
     },
     "output_type": "display_data"
    }
   ],
   "source": [
    "plt.plot(x[West_Index],np.zeros(np.size(x[West_Index])),'ro')\n",
    "plt.plot(x[East_Index],np.zeros(np.size(x[East_Index])),'go')\n",
    "plt.plot(x[Center_Index],np.zeros(np.size(x[Center_Index])),'bo')"
   ]
  },
  {
   "cell_type": "code",
   "execution_count": 32,
   "id": "ea0947f9-9965-47ed-862c-d45909a111f9",
   "metadata": {},
   "outputs": [],
   "source": [
    "fem=np.split(x,3)\n",
    "# Create temp gradient\n",
    "# left boundary fixed at 5\n",
    "# right boundary fixed at 50\n",
    "temp=np.zeros(np.size(x))\n",
    "temp[0]=5\n",
    "temp[-1]=50\n",
    "temp_fem=np.split(temp,3)\n",
    "# Apply FEM algorithm\n",
    "for ii in range(len(temp_fem)):\n",
    "    if ii!=0 and ii!=len(temp_fem)-1:\n",
    "        #averaging algorithm\n",
    "        temp_fem[ii]=(temp_fem[ii-1]+temp_fem[ii+1])/2"
   ]
  },
  {
   "cell_type": "code",
   "execution_count": 34,
   "id": "0ddc4561-35df-4e17-8ab9-f74c936af8f5",
   "metadata": {},
   "outputs": [
    {
     "data": {
      "text/plain": [
       "[array([5., 0., 0., 0., 0., 0., 0., 0., 0.]),\n",
       " array([ 2.5,  0. ,  0. ,  0. ,  0. ,  0. ,  0. ,  0. , 25. ]),\n",
       " array([ 0.,  0.,  0.,  0.,  0.,  0.,  0.,  0., 50.])]"
      ]
     },
     "execution_count": 34,
     "metadata": {},
     "output_type": "execute_result"
    }
   ],
   "source": [
    "temp_fem"
   ]
  },
  {
   "cell_type": "code",
   "execution_count": 35,
   "id": "b400b979-c183-49d2-a5a2-b7f9d5b218b0",
   "metadata": {},
   "outputs": [
    {
     "data": {
      "image/png": "[encoded data removed]",
      "text/plain": [
       "<Figure size 432x288 with 1 Axes>"
      ]
     },
     "metadata": {
      "needs_background": "light"
     },
     "output_type": "display_data"
    }
   ],
   "source": [
    "for ii in range(len(fem)):\n",
    "    plt.plot(fem[ii],temp_fem[ii],'o')"
   ]
  },
  {
   "cell_type": "code",
   "execution_count": null,
   "id": "47962d9d-369f-4f61-afec-fee27cfd641e",
   "metadata": {},
   "outputs": [],
   "source": []
  }
 ],
 "metadata": {
  "kernelspec": {
   "display_name": "Python 3 (ipykernel)",
   "language": "python",
   "name": "python3"
  },
  "language_info": {
   "codemirror_mode": {
    "name": "ipython",
    "version": 3
   },
   "file_extension": ".py",
   "mimetype": "text/x-python",
   "name": "python",
   "nbconvert_exporter": "python",
   "pygments_lexer": "ipython3",
   "version": "3.8.10"
  }
 },
 "nbformat": 4,
 "nbformat_minor": 5
}
