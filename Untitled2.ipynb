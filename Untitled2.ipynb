{
 "cells": [
  {
   "cell_type": "code",
   "execution_count": 1,
   "id": "9aea91ef-e167-4d08-8fdb-75b441c2b949",
   "metadata": {},
   "outputs": [],
   "source": [
    "import numpy as np\n",
    "import scipy.integrate as integrate\n",
    "import plotly.graph_objects as go"
   ]
  },
  {
   "cell_type": "code",
   "execution_count": 13,
   "id": "5d03a1dc-a371-4cea-b34b-5fc52f05316c",
   "metadata": {},
   "outputs": [
    {
     "name": "stdout",
     "output_type": "stream",
     "text": [
      "[array([0, 1, 2, 3, 4]), array([5, 6, 7, 8, 9]), array([10, 11, 12, 13, 14]), array([15, 16, 17, 18, 19]), array([20, 21, 22, 23, 24]), array([25, 26, 27, 28, 29]), array([30, 31, 32, 33, 34])]\n"
     ]
    }
   ],
   "source": [
    "xmax = 35\n",
    "x = np.arange(0, xmax)\n",
    "convol = 7\n",
    "\n",
    "fem = np.split(x, convol)\n",
    "print(fem)\n"
   ]
  },
  {
   "cell_type": "code",
   "execution_count": 16,
   "id": "d1873044-1dbf-41d6-8df8-e12c5183bf41",
   "metadata": {},
   "outputs": [],
   "source": [
    "for cc in range(len(fem)):\n",
    "    fem[cc]"
   ]
  },
  {
   "cell_type": "code",
   "execution_count": null,
   "id": "ffc4d7e4-ecea-4960-9e19-9f6db7354310",
   "metadata": {},
   "outputs": [],
   "source": []
  }
 ],
 "metadata": {
  "kernelspec": {
   "display_name": "Python 3 (ipykernel)",
   "language": "python",
   "name": "python3"
  },
  "language_info": {
   "codemirror_mode": {
    "name": "ipython",
    "version": 3
   },
   "file_extension": ".py",
   "mimetype": "text/x-python",
   "name": "python",
   "nbconvert_exporter": "python",
   "pygments_lexer": "ipython3",
   "version": "3.10.8"
  }
 },
 "nbformat": 4,
 "nbformat_minor": 5
}
