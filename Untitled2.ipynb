{
 "cells": [
  {
   "cell_type": "code",
   "execution_count": 20,
   "id": "9aea91ef-e167-4d08-8fdb-75b441c2b949",
   "metadata": {},
   "outputs": [],
   "source": [
    "import numpy as np\n",
    "import scipy.integrate as integrate\n",
    "import matplotlib.pyplot as plt"
   ]
  },
  {
   "cell_type": "code",
   "execution_count": 6,
   "id": "5d03a1dc-a371-4cea-b34b-5fc52f05316c",
   "metadata": {},
   "outputs": [
    {
     "name": "stdout",
     "output_type": "stream",
     "text": [
      "[array([0, 1, 2, 3, 4]), array([5, 6, 7, 8, 9]), array([10, 11, 12, 13, 14]), array([15, 16, 17, 18, 19]), array([20, 21, 22, 23, 24]), array([25, 26, 27, 28, 29]), array([30, 31, 32, 33, 34])]\n",
      "[array([5., 0., 0., 0., 0.]), array([0., 0., 0., 0., 0.]), array([0., 0., 0., 0., 0.]), array([0., 0., 0., 0., 0.]), array([0., 0., 0., 0., 0.]), array([0., 0., 0., 0., 0.]), array([ 0.,  0.,  0.,  0., 50.])]\n"
     ]
    }
   ],
   "source": [
    "xmax = 35\n",
    "x = np.arange(0, xmax)\n",
    "temp = np.zeros(np.size(x))\n",
    "temp[0] = 5\n",
    "temp[-1] = 50\n",
    "convol = 7\n",
    "\n",
    "fem = np.split(x, convol)\n",
    "fem_temp = np.split(temp, convol)\n",
    "\n",
    "print(fem)\n",
    "print(fem_temp)"
   ]
  },
  {
   "cell_type": "code",
   "execution_count": 15,
   "id": "24468966-1a7f-4795-b599-4ef629bcb496",
   "metadata": {},
   "outputs": [],
   "source": [
    "for ii in range(len(fem_temp)):\n",
    "    if ii!=0 and ii!=len(fem_temp)-1:\n",
    "        fem_temp[ii] = (fem_temp[ii-1]+fem_temp[ii+1])/2"
   ]
  },
  {
   "cell_type": "code",
   "execution_count": 21,
   "id": "d1873044-1dbf-41d6-8df8-e12c5183bf41",
   "metadata": {},
   "outputs": [
    {
     "data": {
      "image/png": "[encoded data removed]",
      "text/plain": [
       "<Figure size 432x288 with 1 Axes>"
      ]
     },
     "metadata": {
      "needs_background": "light"
     },
     "output_type": "display_data"
    }
   ],
   "source": [
    "for ii in range(len(fem)):\n",
    "    plt.plot(fem[ii], fem_temp[ii], 'o')"
   ]
  },
  {
   "cell_type": "code",
   "execution_count": null,
   "id": "ffc4d7e4-ecea-4960-9e19-9f6db7354310",
   "metadata": {},
   "outputs": [],
   "source": []
  }
 ],
 "metadata": {
  "kernelspec": {
   "display_name": "Python 3 (ipykernel)",
   "language": "python",
   "name": "python3"
  },
  "language_info": {
   "codemirror_mode": {
    "name": "ipython",
    "version": 3
   },
   "file_extension": ".py",
   "mimetype": "text/x-python",
   "name": "python",
   "nbconvert_exporter": "python",
   "pygments_lexer": "ipython3",
   "version": "3.10.8"
  }
 },
 "nbformat": 4,
 "nbformat_minor": 5
}
