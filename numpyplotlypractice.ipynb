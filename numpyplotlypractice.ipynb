{
 "cells": [
  {
   "cell_type": "code",
   "execution_count": 1,
   "id": "45c7be5d-117e-468f-94b9-554741dc781e",
   "metadata": {},
   "outputs": [
    {
     "name": "stdout",
     "output_type": "stream",
     "text": [
      "Requirement already satisfied: kaleido in c:\\users\\enahs\\appdata\\local\\packages\\pythonsoftwarefoundation.python.3.10_qbz5n2kfra8p0\\localcache\\local-packages\\python310\\site-packages (0.2.1)\n",
      "Note: you may need to restart the kernel to use updated packages.\n"
     ]
    }
   ],
   "source": [
    "pip install -U kaleido"
   ]
  },
  {
   "cell_type": "code",
   "execution_count": 2,
   "id": "6b4330fc-feb7-4d93-9e6d-1ee37544a54f",
   "metadata": {},
   "outputs": [],
   "source": [
    "import numpy as np\n",
    "\n",
    "import plotly as pl\n",
    "\n",
    "import plotly.graph_objs as go"
   ]
  },
  {
   "cell_type": "code",
   "execution_count": 3,
   "id": "6a9f5040-fd47-4187-a502-127e590133fd",
   "metadata": {},
   "outputs": [],
   "source": [
    "from numpy import *"
   ]
  },
  {
   "cell_type": "code",
   "execution_count": 4,
   "id": "4495e693-60e8-4552-bfd6-2551afb7dde5",
   "metadata": {},
   "outputs": [],
   "source": [
    "x = np.linspace(-10,10,)\n",
    "def vari(a,b,c):\n",
    "    y = a*x**2+b*x+c\n",
    "    fig = go.Figure(go.Scatter(x=x, y=y))\n",
    "    return fig\n",
    "    "
   ]
  },
  {
   "cell_type": "code",
   "execution_count": 5,
   "id": "8dcf47cf-7ab5-4f7b-a1b8-4bd04c51f2c2",
   "metadata": {},
   "outputs": [],
   "source": [
    "fig2save = vari(1,1,1)"
   ]
  },
  {
   "cell_type": "code",
   "execution_count": 6,
   "id": "ac53f6aa-a3a8-4eb0-8986-6ad30fed2ac6",
   "metadata": {},
   "outputs": [],
   "source": [
    "fig2save.write_image('quadplot.pdf')"
   ]
  },
  {
   "cell_type": "code",
   "execution_count": 7,
   "id": "8b13d83b-6a90-4789-b383-2d9730e4c955",
   "metadata": {},
   "outputs": [],
   "source": [
    "a = np.arange(0,6)\n",
    "for aa in a:\n",
    "    vari(1,0,aa).write_image('images\\Quad_Plot_%03d.png'%aa)"
   ]
  },
  {
   "cell_type": "markdown",
   "id": "4ac425bb-da07-4bf4-9811-99a509a6b7e3",
   "metadata": {
    "tags": []
   },
   "source": [
    "\n",
    "a = float(input('enter a:'))\n",
    "b = float(input('enter b:'))\n",
    "c = float(input('enter c:'))"
   ]
  },
  {
   "cell_type": "markdown",
   "id": "204c6f4e-86a9-4824-8132-27799e3ed683",
   "metadata": {
    "tags": []
   },
   "source": [
    "y = a*x**2+b*x+c\n",
    "fig = go.Figure(\n",
    "    go.Scatter(x=x, y=y)\n",
    ")\n",
    "fig.show()"
   ]
  },
  {
   "cell_type": "code",
   "execution_count": null,
   "id": "7d1bf9ab-51f5-4b09-8a4c-953a02eced11",
   "metadata": {},
   "outputs": [],
   "source": []
  }
 ],
 "metadata": {
  "kernelspec": {
   "display_name": "Python 3 (ipykernel)",
   "language": "python",
   "name": "python3"
  },
  "language_info": {
   "codemirror_mode": {
    "name": "ipython",
    "version": 3
   },
   "file_extension": ".py",
   "mimetype": "text/x-python",
   "name": "python",
   "nbconvert_exporter": "python",
   "pygments_lexer": "ipython3",
   "version": "3.10.8"
  }
 },
 "nbformat": 4,
 "nbformat_minor": 5
}
