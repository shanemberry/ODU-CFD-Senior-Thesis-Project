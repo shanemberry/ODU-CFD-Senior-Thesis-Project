{
 "cells": [
  {
   "cell_type": "code",
   "execution_count": 2,
   "id": "efbc1125-92f9-4286-902a-5b7532a58d79",
   "metadata": {},
   "outputs": [],
   "source": [
    "import numpy as np\n",
    "import plotly.figure_factory as ff"
   ]
  },
  {
   "cell_type": "code",
   "execution_count": 24,
   "id": "bc2ee12a-692f-433f-bea1-b7036a59823d",
   "metadata": {},
   "outputs": [],
   "source": [
    "x = np.arange(0, 7, 1)\n",
    "y = np.arange(0, 7, 1)"
   ]
  },
  {
   "cell_type": "code",
   "execution_count": 21,
   "id": "e48a8f29-306c-4c53-bfeb-98ecba75c74d",
   "metadata": {},
   "outputs": [],
   "source": [
    "X, Y = np.meshgrid(x, y)"
   ]
  },
  {
   "cell_type": "code",
   "execution_count": 26,
   "id": "78e99a2b-29ff-4887-a1e4-d5072cf5b743",
   "metadata": {},
   "outputs": [],
   "source": [
    "dy = -1.22-0.656*Y\n",
    "dx = 4.35+0.656*X"
   ]
  },
  {
   "cell_type": "code",
   "execution_count": 27,
   "id": "926ab9ee-4eac-4b47-bc55-82dff40d0618",
   "metadata": {},
   "outputs": [
    {
     "data": {
      "application/vnd.plotly.v1+json": {
       "config": {
        "plotlyServerURL": "https://plot.ly"
       },
       "data": [
        {
         "mode": "lines",
         "type": "scatter",
         "x": [
          0,
          0.435,
          null,
          1,
          1.5006,
          null,
          2,
          2.5662000000000003,
          null,
          3,
          3.6318,
          null,
          4,
          4.6974,
          null,
          5,
          5.763,
          null,
          0,
          0.435,
          null,
          1,
          1.5006,
          null,
          2,
          2.5662000000000003,
          null,
          3,
          3.6318,
          null,
          4,
          4.6974,
          null,
          5,
          5.763,
          null,
          0,
          0.435,
          null,
          1,
          1.5006,
          null,
          2,
          2.5662000000000003,
          null,
          3,
          3.6318,
          null,
          4,
          4.6974,
          null,
          5,
          5.763,
          null,
          0,
          0.435,
          null,
          1,
          1.5006,
          null,
          2,
          2.5662000000000003,
          null,
          3,
          3.6318,
          null,
          4,
          4.6974,
          null,
          5,
          5.763,
          null,
          0,
          0.435,
          null,
          1,
          1.5006,
          null,
          2,
          2.5662000000000003,
          null,
          3,
          3.6318,
          null,
          4,
          4.6974,
          null,
          5,
          5.763,
          null,
          0.2998521757417195,
          0.435,
          0.3248880502331585,
          null,
          1.3469590249646528,
          1.5006,
          1.3719948994560918,
          null,
          2.394065874187586,
          2.5662000000000003,
          2.4191017486790254,
          null,
          3.4411727234105194,
          3.6318,
          3.4662085979019586,
          null,
          4.488279572633453,
          4.6974,
          4.513315447124892,
          null,
          5.535386421856386,
          5.763,
          5.560422296347825,
          null,
          0.2931212193210703,
          0.435,
          0.3316190066538076,
          null,
          1.3402280685440036,
          1.5006,
          1.3787258558767408,
          null,
          2.387334917766937,
          2.5662000000000003,
          2.4258327050996744,
          null,
          3.4344417669898704,
          3.6318,
          3.4729395543226076,
          null,
          4.4815486162128035,
          4.6974,
          4.520046403545541,
          null,
          5.528655465435737,
          5.763,
          5.567153252768474,
          null,
          0.28639026290042113,
          0.435,
          0.33834996307445675,
          null,
          1.3334971121233545,
          1.5006,
          1.38545681229739,
          null,
          2.380603961346288,
          2.5662000000000003,
          2.4325636615203234,
          null,
          3.4277108105692213,
          3.6318,
          3.479670510743257,
          null,
          4.474817659792154,
          4.6974,
          4.52677735996619,
          null,
          5.521924509015088,
          5.763,
          5.573884209189123,
          null,
          0.279659306479772,
          0.435,
          0.34508091949510594,
          null,
          1.3267661557027053,
          1.5006,
          1.3921877687180393,
          null,
          2.3738730049256387,
          2.5662000000000003,
          2.439294617940973,
          null,
          3.4209798541485723,
          3.6318,
          3.486401467163906,
          null,
          4.4680867033715055,
          4.6974,
          4.533508316386839,
          null,
          5.515193552594439,
          5.763,
          5.580615165609773,
          null,
          0.2729283500591228,
          0.435,
          0.35181187591575513,
          null,
          1.320035199282056,
          1.5006,
          1.3989187251386883,
          null,
          2.3671420485049897,
          2.5662000000000003,
          2.446025574361622,
          null,
          3.414248897727923,
          3.6318,
          3.493132423584555,
          null,
          4.461355746950856,
          4.6974,
          4.540239272807488,
          null,
          5.508462596173789,
          5.763,
          5.5873461220304215,
          null
         ],
         "y": [
          0,
          -0.122,
          null,
          0,
          -0.122,
          null,
          0,
          -0.122,
          null,
          0,
          -0.122,
          null,
          0,
          -0.122,
          null,
          0,
          -0.122,
          null,
          1,
          0.8124,
          null,
          1,
          0.8124,
          null,
          1,
          0.8124,
          null,
          1,
          0.8124,
          null,
          1,
          0.8124,
          null,
          1,
          0.8124,
          null,
          2,
          1.7468,
          null,
          2,
          1.7468,
          null,
          2,
          1.7468,
          null,
          2,
          1.7468,
          null,
          2,
          1.7468,
          null,
          2,
          1.7468,
          null,
          3,
          2.6812,
          null,
          3,
          2.6812,
          null,
          3,
          2.6812,
          null,
          3,
          2.6812,
          null,
          3,
          2.6812,
          null,
          3,
          2.6812,
          null,
          4,
          3.6155999999999997,
          null,
          4,
          3.6155999999999997,
          null,
          4,
          3.6155999999999997,
          null,
          4,
          3.6155999999999997,
          null,
          4,
          3.6155999999999997,
          null,
          4,
          3.6155999999999997,
          null,
          -0.1322408787832355,
          -0.122,
          -0.042973621375235985,
          null,
          -0.13897183520388467,
          -0.122,
          -0.03624266495458682,
          null,
          -0.14570279162453387,
          -0.122,
          -0.029511708533937628,
          null,
          -0.152433748045183,
          -0.122,
          -0.02278075211328849,
          null,
          -0.15916470446583214,
          -0.122,
          -0.01604979569263934,
          null,
          -0.1658956608864813,
          -0.122,
          -0.009318839271990204,
          null,
          0.8206522719938312,
          0.8124,
          0.9099195294018307,
          null,
          0.813921315573182,
          0.8124,
          0.9166504858224799,
          null,
          0.8071903591525328,
          0.8124,
          0.923381442243129,
          null,
          0.8004594027318837,
          0.8124,
          0.9301123986637783,
          null,
          0.7937284463112345,
          0.8124,
          0.9368433550844273,
          null,
          0.7869974898905854,
          0.8124,
          0.9435743115050765,
          null,
          1.7735454227708978,
          1.7468,
          1.8628126801788973,
          null,
          1.7668144663502485,
          1.7468,
          1.8695436365995464,
          null,
          1.7600835099295995,
          1.7468,
          1.8762745930201956,
          null,
          1.7533525535089503,
          1.7468,
          1.8830055494408449,
          null,
          1.7466215970883012,
          1.7468,
          1.8897365058614939,
          null,
          1.739890640667652,
          1.7468,
          1.8964674622821431,
          null,
          2.7264385735479646,
          2.6812,
          2.815705830955964,
          null,
          2.7197076171273156,
          2.6812,
          2.8224367873766134,
          null,
          2.712976660706666,
          2.6812,
          2.8291677437972624,
          null,
          2.706245704286017,
          2.6812,
          2.8358987002179115,
          null,
          2.699514747865368,
          2.6812,
          2.8426296566385605,
          null,
          2.6927837914447186,
          2.6812,
          2.84936061305921,
          null,
          3.679331724325031,
          3.6155999999999997,
          3.7685989817330303,
          null,
          3.672600767904382,
          3.6155999999999997,
          3.77532993815368,
          null,
          3.6658698114837325,
          3.6155999999999997,
          3.782060894574329,
          null,
          3.6591388550630835,
          3.6155999999999997,
          3.788791850994978,
          null,
          3.6524078986424344,
          3.6155999999999997,
          3.7955228074156273,
          null,
          3.6456769422217854,
          3.6155999999999997,
          3.8022537638362763,
          null
         ]
        }
       ],
       "layout": {
        "autosize": true,
        "hovermode": "closest",
        "template": {
         "data": {
          "bar": [
           {
            "error_x": {
             "color": "#2a3f5f"
            },
            "error_y": {
             "color": "#2a3f5f"
            },
            "marker": {
             "line": {
              "color": "#E5ECF6",
              "width": 0.5
             },
             "pattern": {
              "fillmode": "overlay",
              "size": 10,
              "solidity": 0.2
             }
            },
            "type": "bar"
           }
          ],
          "barpolar": [
           {
            "marker": {
             "line": {
              "color": "#E5ECF6",
              "width": 0.5
             },
             "pattern": {
              "fillmode": "overlay",
              "size": 10,
              "solidity": 0.2
             }
            },
            "type": "barpolar"
           }
          ],
          "carpet": [
           {
            "aaxis": {
             "endlinecolor": "#2a3f5f",
             "gridcolor": "white",
             "linecolor": "white",
             "minorgridcolor": "white",
             "startlinecolor": "#2a3f5f"
            },
            "baxis": {
             "endlinecolor": "#2a3f5f",
             "gridcolor": "white",
             "linecolor": "white",
             "minorgridcolor": "white",
             "startlinecolor": "#2a3f5f"
            },
            "type": "carpet"
           }
          ],
          "choropleth": [
           {
            "colorbar": {
             "outlinewidth": 0,
             "ticks": ""
            },
            "type": "choropleth"
           }
          ],
          "contour": [
           {
            "colorbar": {
             "outlinewidth": 0,
             "ticks": ""
            },
            "colorscale": [
             [
              0,
              "#0d0887"
             ],
             [
              0.1111111111111111,
              "#46039f"
             ],
             [
              0.2222222222222222,
              "#7201a8"
             ],
             [
              0.3333333333333333,
              "#9c179e"
             ],
             [
              0.4444444444444444,
              "#bd3786"
             ],
             [
              0.5555555555555556,
              "#d8576b"
             ],
             [
              0.6666666666666666,
              "#ed7953"
             ],
             [
              0.7777777777777778,
              "#fb9f3a"
             ],
             [
              0.8888888888888888,
              "#fdca26"
             ],
             [
              1,
              "#f0f921"
             ]
            ],
            "type": "contour"
           }
          ],
          "contourcarpet": [
           {
            "colorbar": {
             "outlinewidth": 0,
             "ticks": ""
            },
            "type": "contourcarpet"
           }
          ],
          "heatmap": [
           {
            "colorbar": {
             "outlinewidth": 0,
             "ticks": ""
            },
            "colorscale": [
             [
              0,
              "#0d0887"
             ],
             [
              0.1111111111111111,
              "#46039f"
             ],
             [
              0.2222222222222222,
              "#7201a8"
             ],
             [
              0.3333333333333333,
              "#9c179e"
             ],
             [
              0.4444444444444444,
              "#bd3786"
             ],
             [
              0.5555555555555556,
              "#d8576b"
             ],
             [
              0.6666666666666666,
              "#ed7953"
             ],
             [
              0.7777777777777778,
              "#fb9f3a"
             ],
             [
              0.8888888888888888,
              "#fdca26"
             ],
             [
              1,
              "#f0f921"
             ]
            ],
            "type": "heatmap"
           }
          ],
          "heatmapgl": [
           {
            "colorbar": {
             "outlinewidth": 0,
             "ticks": ""
            },
            "colorscale": [
             [
              0,
              "#0d0887"
             ],
             [
              0.1111111111111111,
              "#46039f"
             ],
             [
              0.2222222222222222,
              "#7201a8"
             ],
             [
              0.3333333333333333,
              "#9c179e"
             ],
             [
              0.4444444444444444,
              "#bd3786"
             ],
             [
              0.5555555555555556,
              "#d8576b"
             ],
             [
              0.6666666666666666,
              "#ed7953"
             ],
             [
              0.7777777777777778,
              "#fb9f3a"
             ],
             [
              0.8888888888888888,
              "#fdca26"
             ],
             [
              1,
              "#f0f921"
             ]
            ],
            "type": "heatmapgl"
           }
          ],
          "histogram": [
           {
            "marker": {
             "pattern": {
              "fillmode": "overlay",
              "size": 10,
              "solidity": 0.2
             }
            },
            "type": "histogram"
           }
          ],
          "histogram2d": [
           {
            "colorbar": {
             "outlinewidth": 0,
             "ticks": ""
            },
            "colorscale": [
             [
              0,
              "#0d0887"
             ],
             [
              0.1111111111111111,
              "#46039f"
             ],
             [
              0.2222222222222222,
              "#7201a8"
             ],
             [
              0.3333333333333333,
              "#9c179e"
             ],
             [
              0.4444444444444444,
              "#bd3786"
             ],
             [
              0.5555555555555556,
              "#d8576b"
             ],
             [
              0.6666666666666666,
              "#ed7953"
             ],
             [
              0.7777777777777778,
              "#fb9f3a"
             ],
             [
              0.8888888888888888,
              "#fdca26"
             ],
             [
              1,
              "#f0f921"
             ]
            ],
            "type": "histogram2d"
           }
          ],
          "histogram2dcontour": [
           {
            "colorbar": {
             "outlinewidth": 0,
             "ticks": ""
            },
            "colorscale": [
             [
              0,
              "#0d0887"
             ],
             [
              0.1111111111111111,
              "#46039f"
             ],
             [
              0.2222222222222222,
              "#7201a8"
             ],
             [
              0.3333333333333333,
              "#9c179e"
             ],
             [
              0.4444444444444444,
              "#bd3786"
             ],
             [
              0.5555555555555556,
              "#d8576b"
             ],
             [
              0.6666666666666666,
              "#ed7953"
             ],
             [
              0.7777777777777778,
              "#fb9f3a"
             ],
             [
              0.8888888888888888,
              "#fdca26"
             ],
             [
              1,
              "#f0f921"
             ]
            ],
            "type": "histogram2dcontour"
           }
          ],
          "mesh3d": [
           {
            "colorbar": {
             "outlinewidth": 0,
             "ticks": ""
            },
            "type": "mesh3d"
           }
          ],
          "parcoords": [
           {
            "line": {
             "colorbar": {
              "outlinewidth": 0,
              "ticks": ""
             }
            },
            "type": "parcoords"
           }
          ],
          "pie": [
           {
            "automargin": true,
            "type": "pie"
           }
          ],
          "scatter": [
           {
            "fillpattern": {
             "fillmode": "overlay",
             "size": 10,
             "solidity": 0.2
            },
            "type": "scatter"
           }
          ],
          "scatter3d": [
           {
            "line": {
             "colorbar": {
              "outlinewidth": 0,
              "ticks": ""
             }
            },
            "marker": {
             "colorbar": {
              "outlinewidth": 0,
              "ticks": ""
             }
            },
            "type": "scatter3d"
           }
          ],
          "scattercarpet": [
           {
            "marker": {
             "colorbar": {
              "outlinewidth": 0,
              "ticks": ""
             }
            },
            "type": "scattercarpet"
           }
          ],
          "scattergeo": [
           {
            "marker": {
             "colorbar": {
              "outlinewidth": 0,
              "ticks": ""
             }
            },
            "type": "scattergeo"
           }
          ],
          "scattergl": [
           {
            "marker": {
             "colorbar": {
              "outlinewidth": 0,
              "ticks": ""
             }
            },
            "type": "scattergl"
           }
          ],
          "scattermapbox": [
           {
            "marker": {
             "colorbar": {
              "outlinewidth": 0,
              "ticks": ""
             }
            },
            "type": "scattermapbox"
           }
          ],
          "scatterpolar": [
           {
            "marker": {
             "colorbar": {
              "outlinewidth": 0,
              "ticks": ""
             }
            },
            "type": "scatterpolar"
           }
          ],
          "scatterpolargl": [
           {
            "marker": {
             "colorbar": {
              "outlinewidth": 0,
              "ticks": ""
             }
            },
            "type": "scatterpolargl"
           }
          ],
          "scatterternary": [
           {
            "marker": {
             "colorbar": {
              "outlinewidth": 0,
              "ticks": ""
             }
            },
            "type": "scatterternary"
           }
          ],
          "surface": [
           {
            "colorbar": {
             "outlinewidth": 0,
             "ticks": ""
            },
            "colorscale": [
             [
              0,
              "#0d0887"
             ],
             [
              0.1111111111111111,
              "#46039f"
             ],
             [
              0.2222222222222222,
              "#7201a8"
             ],
             [
              0.3333333333333333,
              "#9c179e"
             ],
             [
              0.4444444444444444,
              "#bd3786"
             ],
             [
              0.5555555555555556,
              "#d8576b"
             ],
             [
              0.6666666666666666,
              "#ed7953"
             ],
             [
              0.7777777777777778,
              "#fb9f3a"
             ],
             [
              0.8888888888888888,
              "#fdca26"
             ],
             [
              1,
              "#f0f921"
             ]
            ],
            "type": "surface"
           }
          ],
          "table": [
           {
            "cells": {
             "fill": {
              "color": "#EBF0F8"
             },
             "line": {
              "color": "white"
             }
            },
            "header": {
             "fill": {
              "color": "#C8D4E3"
             },
             "line": {
              "color": "white"
             }
            },
            "type": "table"
           }
          ]
         },
         "layout": {
          "annotationdefaults": {
           "arrowcolor": "#2a3f5f",
           "arrowhead": 0,
           "arrowwidth": 1
          },
          "autotypenumbers": "strict",
          "coloraxis": {
           "colorbar": {
            "outlinewidth": 0,
            "ticks": ""
           }
          },
          "colorscale": {
           "diverging": [
            [
             0,
             "#8e0152"
            ],
            [
             0.1,
             "#c51b7d"
            ],
            [
             0.2,
             "#de77ae"
            ],
            [
             0.3,
             "#f1b6da"
            ],
            [
             0.4,
             "#fde0ef"
            ],
            [
             0.5,
             "#f7f7f7"
            ],
            [
             0.6,
             "#e6f5d0"
            ],
            [
             0.7,
             "#b8e186"
            ],
            [
             0.8,
             "#7fbc41"
            ],
            [
             0.9,
             "#4d9221"
            ],
            [
             1,
             "#276419"
            ]
           ],
           "sequential": [
            [
             0,
             "#0d0887"
            ],
            [
             0.1111111111111111,
             "#46039f"
            ],
            [
             0.2222222222222222,
             "#7201a8"
            ],
            [
             0.3333333333333333,
             "#9c179e"
            ],
            [
             0.4444444444444444,
             "#bd3786"
            ],
            [
             0.5555555555555556,
             "#d8576b"
            ],
            [
             0.6666666666666666,
             "#ed7953"
            ],
            [
             0.7777777777777778,
             "#fb9f3a"
            ],
            [
             0.8888888888888888,
             "#fdca26"
            ],
            [
             1,
             "#f0f921"
            ]
           ],
           "sequentialminus": [
            [
             0,
             "#0d0887"
            ],
            [
             0.1111111111111111,
             "#46039f"
            ],
            [
             0.2222222222222222,
             "#7201a8"
            ],
            [
             0.3333333333333333,
             "#9c179e"
            ],
            [
             0.4444444444444444,
             "#bd3786"
            ],
            [
             0.5555555555555556,
             "#d8576b"
            ],
            [
             0.6666666666666666,
             "#ed7953"
            ],
            [
             0.7777777777777778,
             "#fb9f3a"
            ],
            [
             0.8888888888888888,
             "#fdca26"
            ],
            [
             1,
             "#f0f921"
            ]
           ]
          },
          "colorway": [
           "#636efa",
           "#EF553B",
           "#00cc96",
           "#ab63fa",
           "#FFA15A",
           "#19d3f3",
           "#FF6692",
           "#B6E880",
           "#FF97FF",
           "#FECB52"
          ],
          "font": {
           "color": "#2a3f5f"
          },
          "geo": {
           "bgcolor": "white",
           "lakecolor": "white",
           "landcolor": "#E5ECF6",
           "showlakes": true,
           "showland": true,
           "subunitcolor": "white"
          },
          "hoverlabel": {
           "align": "left"
          },
          "hovermode": "closest",
          "mapbox": {
           "style": "light"
          },
          "paper_bgcolor": "white",
          "plot_bgcolor": "#E5ECF6",
          "polar": {
           "angularaxis": {
            "gridcolor": "white",
            "linecolor": "white",
            "ticks": ""
           },
           "bgcolor": "#E5ECF6",
           "radialaxis": {
            "gridcolor": "white",
            "linecolor": "white",
            "ticks": ""
           }
          },
          "scene": {
           "xaxis": {
            "backgroundcolor": "#E5ECF6",
            "gridcolor": "white",
            "gridwidth": 2,
            "linecolor": "white",
            "showbackground": true,
            "ticks": "",
            "zerolinecolor": "white"
           },
           "yaxis": {
            "backgroundcolor": "#E5ECF6",
            "gridcolor": "white",
            "gridwidth": 2,
            "linecolor": "white",
            "showbackground": true,
            "ticks": "",
            "zerolinecolor": "white"
           },
           "zaxis": {
            "backgroundcolor": "#E5ECF6",
            "gridcolor": "white",
            "gridwidth": 2,
            "linecolor": "white",
            "showbackground": true,
            "ticks": "",
            "zerolinecolor": "white"
           }
          },
          "shapedefaults": {
           "line": {
            "color": "#2a3f5f"
           }
          },
          "ternary": {
           "aaxis": {
            "gridcolor": "white",
            "linecolor": "white",
            "ticks": ""
           },
           "baxis": {
            "gridcolor": "white",
            "linecolor": "white",
            "ticks": ""
           },
           "bgcolor": "#E5ECF6",
           "caxis": {
            "gridcolor": "white",
            "linecolor": "white",
            "ticks": ""
           }
          },
          "title": {
           "x": 0.05
          },
          "xaxis": {
           "automargin": true,
           "gridcolor": "white",
           "linecolor": "white",
           "ticks": "",
           "title": {
            "standoff": 15
           },
           "zerolinecolor": "white",
           "zerolinewidth": 2
          },
          "yaxis": {
           "automargin": true,
           "gridcolor": "white",
           "linecolor": "white",
           "ticks": "",
           "title": {
            "standoff": 15
           },
           "zerolinecolor": "white",
           "zerolinewidth": 2
          }
         }
        },
        "xaxis": {
         "autorange": true,
         "range": [
          0,
          5.763
         ],
         "type": "linear"
        },
        "yaxis": {
         "autorange": true,
         "range": [
          -0.39733430871350806,
          4.2314386478270265
         ],
         "type": "linear"
        }
       }
      },
      "image/png": "[encoded data removed]",
      "text/html": [
       "<div>                            <div id=\"be840a8c-a5af-4b6e-aafb-56167a7c70c2\" class=\"plotly-graph-div\" style=\"height:525px; width:100%;\"></div>            <script type=\"text/javascript\">                require([\"plotly\"], function(Plotly) {                    window.PLOTLYENV=window.PLOTLYENV || {};                                    if (document.getElementById(\"be840a8c-a5af-4b6e-aafb-56167a7c70c2\")) {                    Plotly.newPlot(                        \"be840a8c-a5af-4b6e-aafb-56167a7c70c2\",                        [{\"mode\":\"lines\",\"x\":[0,0.435,null,1,1.5006,null,2,2.5662000000000003,null,3,3.6318,null,4,4.6974,null,5,5.763,null,0,0.435,null,1,1.5006,null,2,2.5662000000000003,null,3,3.6318,null,4,4.6974,null,5,5.763,null,0,0.435,null,1,1.5006,null,2,2.5662000000000003,null,3,3.6318,null,4,4.6974,null,5,5.763,null,0,0.435,null,1,1.5006,null,2,2.5662000000000003,null,3,3.6318,null,4,4.6974,null,5,5.763,null,0,0.435,null,1,1.5006,null,2,2.5662000000000003,null,3,3.6318,null,4,4.6974,null,5,5.763,null,0.2998521757417195,0.435,0.3248880502331585,null,1.3469590249646528,1.5006,1.3719948994560918,null,2.394065874187586,2.5662000000000003,2.4191017486790254,null,3.4411727234105194,3.6318,3.4662085979019586,null,4.488279572633453,4.6974,4.513315447124892,null,5.535386421856386,5.763,5.560422296347825,null,0.2931212193210703,0.435,0.3316190066538076,null,1.3402280685440036,1.5006,1.3787258558767408,null,2.387334917766937,2.5662000000000003,2.4258327050996744,null,3.4344417669898704,3.6318,3.4729395543226076,null,4.4815486162128035,4.6974,4.520046403545541,null,5.528655465435737,5.763,5.567153252768474,null,0.28639026290042113,0.435,0.33834996307445675,null,1.3334971121233545,1.5006,1.38545681229739,null,2.380603961346288,2.5662000000000003,2.4325636615203234,null,3.4277108105692213,3.6318,3.479670510743257,null,4.474817659792154,4.6974,4.52677735996619,null,5.521924509015088,5.763,5.573884209189123,null,0.279659306479772,0.435,0.34508091949510594,null,1.3267661557027053,1.5006,1.3921877687180393,null,2.3738730049256387,2.5662000000000003,2.439294617940973,null,3.4209798541485723,3.6318,3.486401467163906,null,4.4680867033715055,4.6974,4.533508316386839,null,5.515193552594439,5.763,5.580615165609773,null,0.2729283500591228,0.435,0.35181187591575513,null,1.320035199282056,1.5006,1.3989187251386883,null,2.3671420485049897,2.5662000000000003,2.446025574361622,null,3.414248897727923,3.6318,3.493132423584555,null,4.461355746950856,4.6974,4.540239272807488,null,5.508462596173789,5.763,5.5873461220304215,null],\"y\":[0,-0.122,null,0,-0.122,null,0,-0.122,null,0,-0.122,null,0,-0.122,null,0,-0.122,null,1,0.8124,null,1,0.8124,null,1,0.8124,null,1,0.8124,null,1,0.8124,null,1,0.8124,null,2,1.7468,null,2,1.7468,null,2,1.7468,null,2,1.7468,null,2,1.7468,null,2,1.7468,null,3,2.6812,null,3,2.6812,null,3,2.6812,null,3,2.6812,null,3,2.6812,null,3,2.6812,null,4,3.6155999999999997,null,4,3.6155999999999997,null,4,3.6155999999999997,null,4,3.6155999999999997,null,4,3.6155999999999997,null,4,3.6155999999999997,null,-0.1322408787832355,-0.122,-0.042973621375235985,null,-0.13897183520388467,-0.122,-0.03624266495458682,null,-0.14570279162453387,-0.122,-0.029511708533937628,null,-0.152433748045183,-0.122,-0.02278075211328849,null,-0.15916470446583214,-0.122,-0.01604979569263934,null,-0.1658956608864813,-0.122,-0.009318839271990204,null,0.8206522719938312,0.8124,0.9099195294018307,null,0.813921315573182,0.8124,0.9166504858224799,null,0.8071903591525328,0.8124,0.923381442243129,null,0.8004594027318837,0.8124,0.9301123986637783,null,0.7937284463112345,0.8124,0.9368433550844273,null,0.7869974898905854,0.8124,0.9435743115050765,null,1.7735454227708978,1.7468,1.8628126801788973,null,1.7668144663502485,1.7468,1.8695436365995464,null,1.7600835099295995,1.7468,1.8762745930201956,null,1.7533525535089503,1.7468,1.8830055494408449,null,1.7466215970883012,1.7468,1.8897365058614939,null,1.739890640667652,1.7468,1.8964674622821431,null,2.7264385735479646,2.6812,2.815705830955964,null,2.7197076171273156,2.6812,2.8224367873766134,null,2.712976660706666,2.6812,2.8291677437972624,null,2.706245704286017,2.6812,2.8358987002179115,null,2.699514747865368,2.6812,2.8426296566385605,null,2.6927837914447186,2.6812,2.84936061305921,null,3.679331724325031,3.6155999999999997,3.7685989817330303,null,3.672600767904382,3.6155999999999997,3.77532993815368,null,3.6658698114837325,3.6155999999999997,3.782060894574329,null,3.6591388550630835,3.6155999999999997,3.788791850994978,null,3.6524078986424344,3.6155999999999997,3.7955228074156273,null,3.6456769422217854,3.6155999999999997,3.8022537638362763,null],\"type\":\"scatter\"}],                        {\"hovermode\":\"closest\",\"template\":{\"data\":{\"histogram2dcontour\":[{\"type\":\"histogram2dcontour\",\"colorbar\":{\"outlinewidth\":0,\"ticks\":\"\"},\"colorscale\":[[0.0,\"#0d0887\"],[0.1111111111111111,\"#46039f\"],[0.2222222222222222,\"#7201a8\"],[0.3333333333333333,\"#9c179e\"],[0.4444444444444444,\"#bd3786\"],[0.5555555555555556,\"#d8576b\"],[0.6666666666666666,\"#ed7953\"],[0.7777777777777778,\"#fb9f3a\"],[0.8888888888888888,\"#fdca26\"],[1.0,\"#f0f921\"]]}],\"choropleth\":[{\"type\":\"choropleth\",\"colorbar\":{\"outlinewidth\":0,\"ticks\":\"\"}}],\"histogram2d\":[{\"type\":\"histogram2d\",\"colorbar\":{\"outlinewidth\":0,\"ticks\":\"\"},\"colorscale\":[[0.0,\"#0d0887\"],[0.1111111111111111,\"#46039f\"],[0.2222222222222222,\"#7201a8\"],[0.3333333333333333,\"#9c179e\"],[0.4444444444444444,\"#bd3786\"],[0.5555555555555556,\"#d8576b\"],[0.6666666666666666,\"#ed7953\"],[0.7777777777777778,\"#fb9f3a\"],[0.8888888888888888,\"#fdca26\"],[1.0,\"#f0f921\"]]}],\"heatmap\":[{\"type\":\"heatmap\",\"colorbar\":{\"outlinewidth\":0,\"ticks\":\"\"},\"colorscale\":[[0.0,\"#0d0887\"],[0.1111111111111111,\"#46039f\"],[0.2222222222222222,\"#7201a8\"],[0.3333333333333333,\"#9c179e\"],[0.4444444444444444,\"#bd3786\"],[0.5555555555555556,\"#d8576b\"],[0.6666666666666666,\"#ed7953\"],[0.7777777777777778,\"#fb9f3a\"],[0.8888888888888888,\"#fdca26\"],[1.0,\"#f0f921\"]]}],\"heatmapgl\":[{\"type\":\"heatmapgl\",\"colorbar\":{\"outlinewidth\":0,\"ticks\":\"\"},\"colorscale\":[[0.0,\"#0d0887\"],[0.1111111111111111,\"#46039f\"],[0.2222222222222222,\"#7201a8\"],[0.3333333333333333,\"#9c179e\"],[0.4444444444444444,\"#bd3786\"],[0.5555555555555556,\"#d8576b\"],[0.6666666666666666,\"#ed7953\"],[0.7777777777777778,\"#fb9f3a\"],[0.8888888888888888,\"#fdca26\"],[1.0,\"#f0f921\"]]}],\"contourcarpet\":[{\"type\":\"contourcarpet\",\"colorbar\":{\"outlinewidth\":0,\"ticks\":\"\"}}],\"contour\":[{\"type\":\"contour\",\"colorbar\":{\"outlinewidth\":0,\"ticks\":\"\"},\"colorscale\":[[0.0,\"#0d0887\"],[0.1111111111111111,\"#46039f\"],[0.2222222222222222,\"#7201a8\"],[0.3333333333333333,\"#9c179e\"],[0.4444444444444444,\"#bd3786\"],[0.5555555555555556,\"#d8576b\"],[0.6666666666666666,\"#ed7953\"],[0.7777777777777778,\"#fb9f3a\"],[0.8888888888888888,\"#fdca26\"],[1.0,\"#f0f921\"]]}],\"surface\":[{\"type\":\"surface\",\"colorbar\":{\"outlinewidth\":0,\"ticks\":\"\"},\"colorscale\":[[0.0,\"#0d0887\"],[0.1111111111111111,\"#46039f\"],[0.2222222222222222,\"#7201a8\"],[0.3333333333333333,\"#9c179e\"],[0.4444444444444444,\"#bd3786\"],[0.5555555555555556,\"#d8576b\"],[0.6666666666666666,\"#ed7953\"],[0.7777777777777778,\"#fb9f3a\"],[0.8888888888888888,\"#fdca26\"],[1.0,\"#f0f921\"]]}],\"mesh3d\":[{\"type\":\"mesh3d\",\"colorbar\":{\"outlinewidth\":0,\"ticks\":\"\"}}],\"scatter\":[{\"fillpattern\":{\"fillmode\":\"overlay\",\"size\":10,\"solidity\":0.2},\"type\":\"scatter\"}],\"parcoords\":[{\"type\":\"parcoords\",\"line\":{\"colorbar\":{\"outlinewidth\":0,\"ticks\":\"\"}}}],\"scatterpolargl\":[{\"type\":\"scatterpolargl\",\"marker\":{\"colorbar\":{\"outlinewidth\":0,\"ticks\":\"\"}}}],\"bar\":[{\"error_x\":{\"color\":\"#2a3f5f\"},\"error_y\":{\"color\":\"#2a3f5f\"},\"marker\":{\"line\":{\"color\":\"#E5ECF6\",\"width\":0.5},\"pattern\":{\"fillmode\":\"overlay\",\"size\":10,\"solidity\":0.2}},\"type\":\"bar\"}],\"scattergeo\":[{\"type\":\"scattergeo\",\"marker\":{\"colorbar\":{\"outlinewidth\":0,\"ticks\":\"\"}}}],\"scatterpolar\":[{\"type\":\"scatterpolar\",\"marker\":{\"colorbar\":{\"outlinewidth\":0,\"ticks\":\"\"}}}],\"histogram\":[{\"marker\":{\"pattern\":{\"fillmode\":\"overlay\",\"size\":10,\"solidity\":0.2}},\"type\":\"histogram\"}],\"scattergl\":[{\"type\":\"scattergl\",\"marker\":{\"colorbar\":{\"outlinewidth\":0,\"ticks\":\"\"}}}],\"scatter3d\":[{\"type\":\"scatter3d\",\"line\":{\"colorbar\":{\"outlinewidth\":0,\"ticks\":\"\"}},\"marker\":{\"colorbar\":{\"outlinewidth\":0,\"ticks\":\"\"}}}],\"scattermapbox\":[{\"type\":\"scattermapbox\",\"marker\":{\"colorbar\":{\"outlinewidth\":0,\"ticks\":\"\"}}}],\"scatterternary\":[{\"type\":\"scatterternary\",\"marker\":{\"colorbar\":{\"outlinewidth\":0,\"ticks\":\"\"}}}],\"scattercarpet\":[{\"type\":\"scattercarpet\",\"marker\":{\"colorbar\":{\"outlinewidth\":0,\"ticks\":\"\"}}}],\"carpet\":[{\"aaxis\":{\"endlinecolor\":\"#2a3f5f\",\"gridcolor\":\"white\",\"linecolor\":\"white\",\"minorgridcolor\":\"white\",\"startlinecolor\":\"#2a3f5f\"},\"baxis\":{\"endlinecolor\":\"#2a3f5f\",\"gridcolor\":\"white\",\"linecolor\":\"white\",\"minorgridcolor\":\"white\",\"startlinecolor\":\"#2a3f5f\"},\"type\":\"carpet\"}],\"table\":[{\"cells\":{\"fill\":{\"color\":\"#EBF0F8\"},\"line\":{\"color\":\"white\"}},\"header\":{\"fill\":{\"color\":\"#C8D4E3\"},\"line\":{\"color\":\"white\"}},\"type\":\"table\"}],\"barpolar\":[{\"marker\":{\"line\":{\"color\":\"#E5ECF6\",\"width\":0.5},\"pattern\":{\"fillmode\":\"overlay\",\"size\":10,\"solidity\":0.2}},\"type\":\"barpolar\"}],\"pie\":[{\"automargin\":true,\"type\":\"pie\"}]},\"layout\":{\"autotypenumbers\":\"strict\",\"colorway\":[\"#636efa\",\"#EF553B\",\"#00cc96\",\"#ab63fa\",\"#FFA15A\",\"#19d3f3\",\"#FF6692\",\"#B6E880\",\"#FF97FF\",\"#FECB52\"],\"font\":{\"color\":\"#2a3f5f\"},\"hovermode\":\"closest\",\"hoverlabel\":{\"align\":\"left\"},\"paper_bgcolor\":\"white\",\"plot_bgcolor\":\"#E5ECF6\",\"polar\":{\"bgcolor\":\"#E5ECF6\",\"angularaxis\":{\"gridcolor\":\"white\",\"linecolor\":\"white\",\"ticks\":\"\"},\"radialaxis\":{\"gridcolor\":\"white\",\"linecolor\":\"white\",\"ticks\":\"\"}},\"ternary\":{\"bgcolor\":\"#E5ECF6\",\"aaxis\":{\"gridcolor\":\"white\",\"linecolor\":\"white\",\"ticks\":\"\"},\"baxis\":{\"gridcolor\":\"white\",\"linecolor\":\"white\",\"ticks\":\"\"},\"caxis\":{\"gridcolor\":\"white\",\"linecolor\":\"white\",\"ticks\":\"\"}},\"coloraxis\":{\"colorbar\":{\"outlinewidth\":0,\"ticks\":\"\"}},\"colorscale\":{\"sequential\":[[0.0,\"#0d0887\"],[0.1111111111111111,\"#46039f\"],[0.2222222222222222,\"#7201a8\"],[0.3333333333333333,\"#9c179e\"],[0.4444444444444444,\"#bd3786\"],[0.5555555555555556,\"#d8576b\"],[0.6666666666666666,\"#ed7953\"],[0.7777777777777778,\"#fb9f3a\"],[0.8888888888888888,\"#fdca26\"],[1.0,\"#f0f921\"]],\"sequentialminus\":[[0.0,\"#0d0887\"],[0.1111111111111111,\"#46039f\"],[0.2222222222222222,\"#7201a8\"],[0.3333333333333333,\"#9c179e\"],[0.4444444444444444,\"#bd3786\"],[0.5555555555555556,\"#d8576b\"],[0.6666666666666666,\"#ed7953\"],[0.7777777777777778,\"#fb9f3a\"],[0.8888888888888888,\"#fdca26\"],[1.0,\"#f0f921\"]],\"diverging\":[[0,\"#8e0152\"],[0.1,\"#c51b7d\"],[0.2,\"#de77ae\"],[0.3,\"#f1b6da\"],[0.4,\"#fde0ef\"],[0.5,\"#f7f7f7\"],[0.6,\"#e6f5d0\"],[0.7,\"#b8e186\"],[0.8,\"#7fbc41\"],[0.9,\"#4d9221\"],[1,\"#276419\"]]},\"xaxis\":{\"gridcolor\":\"white\",\"linecolor\":\"white\",\"ticks\":\"\",\"title\":{\"standoff\":15},\"zerolinecolor\":\"white\",\"automargin\":true,\"zerolinewidth\":2},\"yaxis\":{\"gridcolor\":\"white\",\"linecolor\":\"white\",\"ticks\":\"\",\"title\":{\"standoff\":15},\"zerolinecolor\":\"white\",\"automargin\":true,\"zerolinewidth\":2},\"scene\":{\"xaxis\":{\"backgroundcolor\":\"#E5ECF6\",\"gridcolor\":\"white\",\"linecolor\":\"white\",\"showbackground\":true,\"ticks\":\"\",\"zerolinecolor\":\"white\",\"gridwidth\":2},\"yaxis\":{\"backgroundcolor\":\"#E5ECF6\",\"gridcolor\":\"white\",\"linecolor\":\"white\",\"showbackground\":true,\"ticks\":\"\",\"zerolinecolor\":\"white\",\"gridwidth\":2},\"zaxis\":{\"backgroundcolor\":\"#E5ECF6\",\"gridcolor\":\"white\",\"linecolor\":\"white\",\"showbackground\":true,\"ticks\":\"\",\"zerolinecolor\":\"white\",\"gridwidth\":2}},\"shapedefaults\":{\"line\":{\"color\":\"#2a3f5f\"}},\"annotationdefaults\":{\"arrowcolor\":\"#2a3f5f\",\"arrowhead\":0,\"arrowwidth\":1},\"geo\":{\"bgcolor\":\"white\",\"landcolor\":\"#E5ECF6\",\"subunitcolor\":\"white\",\"showland\":true,\"showlakes\":true,\"lakecolor\":\"white\"},\"title\":{\"x\":0.05},\"mapbox\":{\"style\":\"light\"}}}},                        {\"responsive\": true}                    ).then(function(){\n",
       "                            \n",
       "var gd = document.getElementById('be840a8c-a5af-4b6e-aafb-56167a7c70c2');\n",
       "var x = new MutationObserver(function (mutations, observer) {{\n",
       "        var display = window.getComputedStyle(gd).display;\n",
       "        if (!display || display === 'none') {{\n",
       "            console.log([gd, 'removed!']);\n",
       "            Plotly.purge(gd);\n",
       "            observer.disconnect();\n",
       "        }}\n",
       "}});\n",
       "\n",
       "// Listen for the removal of the full notebook cells\n",
       "var notebookContainer = gd.closest('#notebook-container');\n",
       "if (notebookContainer) {{\n",
       "    x.observe(notebookContainer, {childList: true});\n",
       "}}\n",
       "\n",
       "// Listen for the clearing of the current output cell\n",
       "var outputEl = gd.closest('.output');\n",
       "if (outputEl) {{\n",
       "    x.observe(outputEl, {childList: true});\n",
       "}}\n",
       "\n",
       "                        })                };                });            </script>        </div>"
      ]
     },
     "metadata": {},
     "output_type": "display_data"
    }
   ],
   "source": [
    "fig = ff.create_quiver(X, Y, dx, dy)\n",
    "fig.show()"
   ]
  },
  {
   "cell_type": "code",
   "execution_count": null,
   "id": "d6198576-24e6-49b7-94ff-726714583816",
   "metadata": {},
   "outputs": [],
   "source": []
  }
 ],
 "metadata": {
  "kernelspec": {
   "display_name": "Python 3 (ipykernel)",
   "language": "python",
   "name": "python3"
  },
  "language_info": {
   "codemirror_mode": {
    "name": "ipython",
    "version": 3
   },
   "file_extension": ".py",
   "mimetype": "text/x-python",
   "name": "python",
   "nbconvert_exporter": "python",
   "pygments_lexer": "ipython3",
   "version": "3.10.8"
  }
 },
 "nbformat": 4,
 "nbformat_minor": 5
}
