{
 "cells": [
  {
   "cell_type": "code",
   "execution_count": 2,
   "id": "1ca1920b-912c-438d-9a96-d09e1258feef",
   "metadata": {},
   "outputs": [],
   "source": [
    "import numpy as np\n",
    "import matplotlib.pyplot as plt\n",
    "import plotly.graph_objects as go"
   ]
  },
  {
   "cell_type": "code",
   "execution_count": 39,
   "id": "79090f46-5db7-4789-9dc5-7157dcbe6640",
   "metadata": {},
   "outputs": [
    {
     "name": "stdout",
     "output_type": "stream",
     "text": [
      "[0.  0.5 1.  1.5 2. ]\n",
      "3\n",
      "3\n",
      "3\n"
     ]
    }
   ],
   "source": [
    "x = np.linspace(0, 2,5)\n",
    "t = np.zeros(np.size(x))\n",
    "print(x)\n",
    "\n",
    "del_x = len(x[1:4])\n",
    "print(del_x)\n",
    "del_xw = len(x[0:3])\n",
    "print(del_xw)\n",
    "del_xe = len(x[2:5])\n",
    "print(del_xe)"
   ]
  },
  {
   "cell_type": "code",
   "execution_count": 40,
   "id": "1895e6d9-dff0-4de4-be7e-6055cdf705b0",
   "metadata": {},
   "outputs": [
    {
     "name": "stdout",
     "output_type": "stream",
     "text": [
      "32.0\n"
     ]
    }
   ],
   "source": [
    "k = 1\n",
    "S = 1\n",
    "\n",
    "aE = k/del_xe\n",
    "aW = k/del_xw\n",
    "aP = aE + aW\n",
    "b = S*del_x\n",
    "\n",
    "TW = 5\n",
    "TE = 50\n",
    "\n",
    "TP = (aE*TE + aW*TW + b)/aP\n",
    "print(TP)"
   ]
  },
  {
   "cell_type": "code",
   "execution_count": 47,
   "id": "3fcd1dc3-b24a-4327-ba22-c14d14d38c65",
   "metadata": {},
   "outputs": [
    {
     "name": "stdout",
     "output_type": "stream",
     "text": [
      "[[ 5.  5.  5.  5.  5.]\n",
      " [ 0.  0.  0.  0.  0.]\n",
      " [32. 32. 32. 32. 32.]\n",
      " [ 0.  0.  0.  0.  0.]\n",
      " [50. 50. 50. 50. 50.]]\n"
     ]
    }
   ],
   "source": [
    "n = len(x)\n",
    "m = len(t)\n",
    "fem = np.zeros((n, m))\n",
    "\n",
    "fem[0, :] = TW\n",
    "fem[-1, :] = TE\n",
    "fem[2, :] = TP\n",
    "print(fem)"
   ]
  },
  {
   "cell_type": "code",
   "execution_count": 48,
   "id": "db515f87-0dae-4766-9621-9696b0640753",
   "metadata": {},
   "outputs": [
    {
     "data": {
      "text/plain": [
       "[<matplotlib.lines.Line2D at 0x24aba7d16c0>,\n",
       " <matplotlib.lines.Line2D at 0x24aba7d1720>,\n",
       " <matplotlib.lines.Line2D at 0x24aba7d1840>,\n",
       " <matplotlib.lines.Line2D at 0x24aba7d1960>,\n",
       " <matplotlib.lines.Line2D at 0x24aba7d0580>]"
      ]
     },
     "execution_count": 48,
     "metadata": {},
     "output_type": "execute_result"
    },
    {
     "data": {
      "image/png": "[encoded data removed]",
      "text/plain": [
       "<Figure size 432x288 with 1 Axes>"
      ]
     },
     "metadata": {
      "needs_background": "light"
     },
     "output_type": "display_data"
    }
   ],
   "source": [
    "plt.plot(fem)"
   ]
  },
  {
   "cell_type": "code",
   "execution_count": null,
   "id": "b348a652-b620-4eeb-aa8c-3377a2f9b470",
   "metadata": {},
   "outputs": [],
   "source": []
  }
 ],
 "metadata": {
  "kernelspec": {
   "display_name": "Python 3 (ipykernel)",
   "language": "python",
   "name": "python3"
  },
  "language_info": {
   "codemirror_mode": {
    "name": "ipython",
    "version": 3
   },
   "file_extension": ".py",
   "mimetype": "text/x-python",
   "name": "python",
   "nbconvert_exporter": "python",
   "pygments_lexer": "ipython3",
   "version": "3.10.9"
  }
 },
 "nbformat": 4,
 "nbformat_minor": 5
}
