{
 "cells": [
  {
   "cell_type": "code",
   "execution_count": 31,
   "id": "b738e771-4360-4d9e-8534-1b00246ed140",
   "metadata": {},
   "outputs": [],
   "source": [
    "import numpy as np\n",
    "import plotly.graph_objs as go\n",
    "import scipy.integrate as integrate\n"
   ]
  },
  {
   "cell_type": "code",
   "execution_count": 39,
   "id": "bae11ea4-c77d-4531-b59d-ecba2d417475",
   "metadata": {},
   "outputs": [],
   "source": [
    "def streamline(z, x):\n",
    "    y = z\n",
    "    dy_dx = y - x\n",
    "    return dy_dx"
   ]
  },
  {
   "cell_type": "code",
   "execution_count": 44,
   "id": "d4cd0d8e-7de8-43f4-9da1-b819bd9bd030",
   "metadata": {},
   "outputs": [],
   "source": [
    "y0 = 1\n",
    "x = np.linspace(-1, 1, 200)\n",
    "z = integrate.odeint(streamline, y0, x)\n",
    "y = z.T"
   ]
  },
  {
   "cell_type": "code",
   "execution_count": 46,
   "id": "9a958040-b51b-4d6c-b0ad-6697b25802f1",
   "metadata": {},
   "outputs": [
    {
     "data": {
      "application/vnd.plotly.v1+json": {
       "config": {
        "plotlyServerURL": "https://plot.ly"
       },
       "data": [
        {
         "type": "scatter",
         "x": [
          -1,
          -0.9899497487437185,
          -0.9798994974874372,
          -0.9698492462311558,
          -0.9597989949748744,
          -0.949748743718593,
          -0.9396984924623115,
          -0.9296482412060302,
          -0.9195979899497487,
          -0.9095477386934674,
          -0.8994974874371859,
          -0.8894472361809045,
          -0.8793969849246231,
          -0.8693467336683417,
          -0.8592964824120604,
          -0.8492462311557789,
          -0.8391959798994975,
          -0.8291457286432161,
          -0.8190954773869347,
          -0.8090452261306533,
          -0.7989949748743719,
          -0.7889447236180904,
          -0.778894472361809,
          -0.7688442211055276,
          -0.7587939698492463,
          -0.7487437185929648,
          -0.7386934673366834,
          -0.728643216080402,
          -0.7185929648241206,
          -0.7085427135678393,
          -0.6984924623115578,
          -0.6884422110552764,
          -0.6783919597989949,
          -0.6683417085427136,
          -0.6582914572864322,
          -0.6482412060301508,
          -0.6381909547738693,
          -0.6281407035175879,
          -0.6180904522613065,
          -0.6080402010050251,
          -0.5979899497487438,
          -0.5879396984924623,
          -0.5778894472361809,
          -0.5678391959798995,
          -0.5577889447236181,
          -0.5477386934673367,
          -0.5376884422110553,
          -0.5276381909547738,
          -0.5175879396984925,
          -0.507537688442211,
          -0.4974874371859297,
          -0.48743718592964824,
          -0.4773869346733668,
          -0.46733668341708545,
          -0.457286432160804,
          -0.44723618090452255,
          -0.4371859296482412,
          -0.42713567839195976,
          -0.4170854271356784,
          -0.40703517587939697,
          -0.3969849246231155,
          -0.3869346733668342,
          -0.37688442211055273,
          -0.3668341708542714,
          -0.35678391959798994,
          -0.3467336683417085,
          -0.33668341708542715,
          -0.3266331658291457,
          -0.31658291457286436,
          -0.3065326633165829,
          -0.29648241206030146,
          -0.2864321608040201,
          -0.27638190954773867,
          -0.26633165829145733,
          -0.2562814070351759,
          -0.24623115577889443,
          -0.2361809045226131,
          -0.22613065326633164,
          -0.2160804020100502,
          -0.20603015075376885,
          -0.1959798994974874,
          -0.18592964824120606,
          -0.1758793969849246,
          -0.16582914572864316,
          -0.15577889447236182,
          -0.14572864321608037,
          -0.13567839195979903,
          -0.12562814070351758,
          -0.11557788944723613,
          -0.10552763819095479,
          -0.09547738693467334,
          -0.085427135678392,
          -0.07537688442211055,
          -0.0653266331658291,
          -0.055276381909547756,
          -0.045226130653266305,
          -0.035175879396984966,
          -0.025125628140703515,
          -0.015075376884422065,
          -0.005025125628140725,
          0.005025125628140614,
          0.015075376884422065,
          0.025125628140703515,
          0.035175879396984966,
          0.045226130653266416,
          0.055276381909547645,
          0.0653266331658291,
          0.07537688442211055,
          0.085427135678392,
          0.09547738693467345,
          0.1055276381909549,
          0.11557788944723613,
          0.12562814070351758,
          0.13567839195979903,
          0.14572864321608048,
          0.15577889447236193,
          0.16582914572864316,
          0.1758793969849246,
          0.18592964824120606,
          0.1959798994974875,
          0.20603015075376896,
          0.2160804020100502,
          0.22613065326633164,
          0.2361809045226131,
          0.24623115577889454,
          0.256281407035176,
          0.2663316582914572,
          0.27638190954773867,
          0.2864321608040201,
          0.29648241206030157,
          0.306532663316583,
          0.31658291457286425,
          0.3266331658291457,
          0.33668341708542715,
          0.3467336683417086,
          0.35678391959799005,
          0.3668341708542713,
          0.37688442211055273,
          0.3869346733668342,
          0.39698492462311563,
          0.4070351758793971,
          0.4170854271356783,
          0.42713567839195976,
          0.4371859296482412,
          0.44723618090452266,
          0.4572864321608041,
          0.46733668341708534,
          0.4773869346733668,
          0.48743718592964824,
          0.4974874371859297,
          0.5075376884422111,
          0.5175879396984926,
          0.5276381909547738,
          0.5376884422110553,
          0.5477386934673367,
          0.5577889447236182,
          0.5678391959798996,
          0.5778894472361809,
          0.5879396984924623,
          0.5979899497487438,
          0.6080402010050252,
          0.6180904522613067,
          0.6281407035175879,
          0.6381909547738693,
          0.6482412060301508,
          0.6582914572864322,
          0.6683417085427137,
          0.6783919597989949,
          0.6884422110552764,
          0.6984924623115578,
          0.7085427135678393,
          0.7185929648241207,
          0.728643216080402,
          0.7386934673366834,
          0.7487437185929648,
          0.7587939698492463,
          0.7688442211055277,
          0.778894472361809,
          0.7889447236180904,
          0.7989949748743719,
          0.8090452261306533,
          0.8190954773869348,
          0.829145728643216,
          0.8391959798994975,
          0.8492462311557789,
          0.8592964824120604,
          0.8693467336683418,
          0.879396984924623,
          0.8894472361809045,
          0.8994974874371859,
          0.9095477386934674,
          0.9195979899497488,
          0.9296482412060301,
          0.9396984924623115,
          0.949748743718593,
          0.9597989949748744,
          0.9698492462311559,
          0.9798994974874373,
          0.9899497487437185,
          1
         ],
         "y": [
          1,
          1.0201512052791002,
          1.0404044103458587,
          1.0607606371543117,
          1.0812210023765494,
          1.1017865194603738,
          1.1224582512627737,
          1.1432372692614439,
          1.1641246574188675,
          1.1851215103452668,
          1.2062289331618288,
          1.2274480432702868,
          1.2487799677983904,
          1.2702258466419736,
          1.2917868335238725,
          1.313464090827415,
          1.3352587918383758,
          1.357172122466629,
          1.3792052811499447,
          1.4013594784972576,
          1.4236359364811952,
          1.4460358908390312,
          1.4685605886752415,
          1.491211289790358,
          1.5139892676413031,
          1.5368958088672056,
          1.5599322118294305,
          1.5830997877536157,
          1.606399860878811,
          1.6298337686066238,
          1.6534028616503593,
          1.6771085053099226,
          1.7009520800177915,
          1.7249349790635238,
          1.7490586099748675,
          1.7733243947123825,
          1.7977337698462095,
          1.8222881867328435,
          1.8469891107804637,
          1.8718380202793496,
          1.8968364099489634,
          1.9219857896949157,
          1.9472876846595506,
          1.9727436353664851,
          1.9983551978651501,
          2.024123943954492,
          2.0500514615895153,
          2.076139354550022,
          2.102389242744076,
          2.12880276238591,
          2.1553815661447953,
          2.1821273232939165,
          2.2090417199828853,
          2.2361264602157034,
          2.2633832647818397,
          2.2908138716733912,
          2.3184200363844423,
          2.34620353207161,
          2.3741661497145823,
          2.40230969856278,
          2.43063600611187,
          2.459146919086992,
          2.4878443021167334,
          2.516730038626531,
          2.5458060310038326,
          2.575074200764879,
          2.6045364887715032,
          2.634194857301968,
          2.6640512879835563,
          2.6941077815590324,
          2.724366358898032,
          2.754829061184057,
          2.785497950103437,
          2.8163751080362616,
          2.847462638249276,
          2.8787626650907474,
          2.9102773341873007,
          2.9420088126427206,
          2.9739592892387177,
          3.0061309746376694,
          3.0385261015874954,
          3.0711469281173267,
          3.103995736183843,
          3.1370748286219214,
          3.170386531647898,
          3.203933195117567,
          3.237717192787912,
          3.2717409225825813,
          3.3060068068611055,
          3.3405172926918523,
          3.375274852128726,
          3.4102819824914286,
          3.4455412034616333,
          3.4810550590354894,
          3.5168261212951037,
          3.5528569882595433,
          3.5891502841376237,
          3.625708659582549,
          3.662534791948398,
          3.699631385548461,
          3.737001171915429,
          3.7746469100634275,
          3.8125713867519697,
          3.8507774180159062,
          3.8892678487735983,
          3.92804555171531,
          3.967113428544295,
          4.006474410268317,
          4.046131457493764,
          4.086087560722371,
          4.126345740650534,
          4.166909048471228,
          4.207780566178525,
          4.2489634068747195,
          4.290460715347355,
          4.332275668242259,
          4.374411474086207,
          4.416871373809606,
          4.459658641070485,
          4.502776582581263,
          4.546228538438266,
          4.590017882454004,
          4.63414802249221,
          4.67862240080563,
          4.723444494376599,
          4.768617815655206,
          4.814145912699841,
          4.860032369093974,
          4.9062808046009465,
          4.952894875524053,
          4.999878275069628,
          5.047234733713122,
          5.094968019568165,
          5.143081938758628,
          5.1915803357936765,
          5.24046709394585,
          5.289746136352798,
          5.339421426026576,
          5.389496965451469,
          5.439976797527674,
          5.490865005974802,
          5.542165715738799,
          5.593883093402284,
          5.646021347598307,
          5.698584729427534,
          5.751577532878845,
          5.8050040951231585,
          5.858868798151823,
          5.913176067881761,
          5.9679303746830525,
          6.023136234060229,
          6.078798207103749,
          6.13492090094499,
          6.191508969214811,
          6.248567112505692,
          6.3061000788375,
          6.364112664126921,
          6.422609712660611,
          6.481596118450053,
          6.541076825203028,
          6.601056825856995,
          6.661541163762722,
          6.7225349331880855,
          6.784043279826474,
          6.846071401309824,
          6.908624547726366,
          6.971708022143116,
          7.0353271811331695,
          7.099487435307856,
          7.164194249853793,
          7.229453145074909,
          7.29526969698756,
          7.361649539369782,
          7.428598362544397,
          7.49612191372268,
          7.5642259981738595,
          7.632916479813824,
          7.7021992818001,
          7.772080387133173,
          7.842565839264219,
          7.913661742709339,
          7.9853742636703755,
          8.057709630662364,
          8.130674135147736,
          8.204274132177297,
          8.278516040954834,
          8.353406344843751,
          8.428951593079178,
          8.505158401199296,
          8.582033451571473,
          8.659583494068716,
          8.737815346753045,
          8.816735896565874,
          8.896352100025462,
          8.976670983931491,
          9.057699646076852,
          9.139445255966693,
          9.221915055544812,
          9.305116359927425,
          9.389056558037092
         ]
        }
       ],
       "layout": {
        "autosize": true,
        "template": {
         "data": {
          "bar": [
           {
            "error_x": {
             "color": "#2a3f5f"
            },
            "error_y": {
             "color": "#2a3f5f"
            },
            "marker": {
             "line": {
              "color": "#E5ECF6",
              "width": 0.5
             },
             "pattern": {
              "fillmode": "overlay",
              "size": 10,
              "solidity": 0.2
             }
            },
            "type": "bar"
           }
          ],
          "barpolar": [
           {
            "marker": {
             "line": {
              "color": "#E5ECF6",
              "width": 0.5
             },
             "pattern": {
              "fillmode": "overlay",
              "size": 10,
              "solidity": 0.2
             }
            },
            "type": "barpolar"
           }
          ],
          "carpet": [
           {
            "aaxis": {
             "endlinecolor": "#2a3f5f",
             "gridcolor": "white",
             "linecolor": "white",
             "minorgridcolor": "white",
             "startlinecolor": "#2a3f5f"
            },
            "baxis": {
             "endlinecolor": "#2a3f5f",
             "gridcolor": "white",
             "linecolor": "white",
             "minorgridcolor": "white",
             "startlinecolor": "#2a3f5f"
            },
            "type": "carpet"
           }
          ],
          "choropleth": [
           {
            "colorbar": {
             "outlinewidth": 0,
             "ticks": ""
            },
            "type": "choropleth"
           }
          ],
          "contour": [
           {
            "colorbar": {
             "outlinewidth": 0,
             "ticks": ""
            },
            "colorscale": [
             [
              0,
              "#0d0887"
             ],
             [
              0.1111111111111111,
              "#46039f"
             ],
             [
              0.2222222222222222,
              "#7201a8"
             ],
             [
              0.3333333333333333,
              "#9c179e"
             ],
             [
              0.4444444444444444,
              "#bd3786"
             ],
             [
              0.5555555555555556,
              "#d8576b"
             ],
             [
              0.6666666666666666,
              "#ed7953"
             ],
             [
              0.7777777777777778,
              "#fb9f3a"
             ],
             [
              0.8888888888888888,
              "#fdca26"
             ],
             [
              1,
              "#f0f921"
             ]
            ],
            "type": "contour"
           }
          ],
          "contourcarpet": [
           {
            "colorbar": {
             "outlinewidth": 0,
             "ticks": ""
            },
            "type": "contourcarpet"
           }
          ],
          "heatmap": [
           {
            "colorbar": {
             "outlinewidth": 0,
             "ticks": ""
            },
            "colorscale": [
             [
              0,
              "#0d0887"
             ],
             [
              0.1111111111111111,
              "#46039f"
             ],
             [
              0.2222222222222222,
              "#7201a8"
             ],
             [
              0.3333333333333333,
              "#9c179e"
             ],
             [
              0.4444444444444444,
              "#bd3786"
             ],
             [
              0.5555555555555556,
              "#d8576b"
             ],
             [
              0.6666666666666666,
              "#ed7953"
             ],
             [
              0.7777777777777778,
              "#fb9f3a"
             ],
             [
              0.8888888888888888,
              "#fdca26"
             ],
             [
              1,
              "#f0f921"
             ]
            ],
            "type": "heatmap"
           }
          ],
          "heatmapgl": [
           {
            "colorbar": {
             "outlinewidth": 0,
             "ticks": ""
            },
            "colorscale": [
             [
              0,
              "#0d0887"
             ],
             [
              0.1111111111111111,
              "#46039f"
             ],
             [
              0.2222222222222222,
              "#7201a8"
             ],
             [
              0.3333333333333333,
              "#9c179e"
             ],
             [
              0.4444444444444444,
              "#bd3786"
             ],
             [
              0.5555555555555556,
              "#d8576b"
             ],
             [
              0.6666666666666666,
              "#ed7953"
             ],
             [
              0.7777777777777778,
              "#fb9f3a"
             ],
             [
              0.8888888888888888,
              "#fdca26"
             ],
             [
              1,
              "#f0f921"
             ]
            ],
            "type": "heatmapgl"
           }
          ],
          "histogram": [
           {
            "marker": {
             "pattern": {
              "fillmode": "overlay",
              "size": 10,
              "solidity": 0.2
             }
            },
            "type": "histogram"
           }
          ],
          "histogram2d": [
           {
            "colorbar": {
             "outlinewidth": 0,
             "ticks": ""
            },
            "colorscale": [
             [
              0,
              "#0d0887"
             ],
             [
              0.1111111111111111,
              "#46039f"
             ],
             [
              0.2222222222222222,
              "#7201a8"
             ],
             [
              0.3333333333333333,
              "#9c179e"
             ],
             [
              0.4444444444444444,
              "#bd3786"
             ],
             [
              0.5555555555555556,
              "#d8576b"
             ],
             [
              0.6666666666666666,
              "#ed7953"
             ],
             [
              0.7777777777777778,
              "#fb9f3a"
             ],
             [
              0.8888888888888888,
              "#fdca26"
             ],
             [
              1,
              "#f0f921"
             ]
            ],
            "type": "histogram2d"
           }
          ],
          "histogram2dcontour": [
           {
            "colorbar": {
             "outlinewidth": 0,
             "ticks": ""
            },
            "colorscale": [
             [
              0,
              "#0d0887"
             ],
             [
              0.1111111111111111,
              "#46039f"
             ],
             [
              0.2222222222222222,
              "#7201a8"
             ],
             [
              0.3333333333333333,
              "#9c179e"
             ],
             [
              0.4444444444444444,
              "#bd3786"
             ],
             [
              0.5555555555555556,
              "#d8576b"
             ],
             [
              0.6666666666666666,
              "#ed7953"
             ],
             [
              0.7777777777777778,
              "#fb9f3a"
             ],
             [
              0.8888888888888888,
              "#fdca26"
             ],
             [
              1,
              "#f0f921"
             ]
            ],
            "type": "histogram2dcontour"
           }
          ],
          "mesh3d": [
           {
            "colorbar": {
             "outlinewidth": 0,
             "ticks": ""
            },
            "type": "mesh3d"
           }
          ],
          "parcoords": [
           {
            "line": {
             "colorbar": {
              "outlinewidth": 0,
              "ticks": ""
             }
            },
            "type": "parcoords"
           }
          ],
          "pie": [
           {
            "automargin": true,
            "type": "pie"
           }
          ],
          "scatter": [
           {
            "fillpattern": {
             "fillmode": "overlay",
             "size": 10,
             "solidity": 0.2
            },
            "type": "scatter"
           }
          ],
          "scatter3d": [
           {
            "line": {
             "colorbar": {
              "outlinewidth": 0,
              "ticks": ""
             }
            },
            "marker": {
             "colorbar": {
              "outlinewidth": 0,
              "ticks": ""
             }
            },
            "type": "scatter3d"
           }
          ],
          "scattercarpet": [
           {
            "marker": {
             "colorbar": {
              "outlinewidth": 0,
              "ticks": ""
             }
            },
            "type": "scattercarpet"
           }
          ],
          "scattergeo": [
           {
            "marker": {
             "colorbar": {
              "outlinewidth": 0,
              "ticks": ""
             }
            },
            "type": "scattergeo"
           }
          ],
          "scattergl": [
           {
            "marker": {
             "colorbar": {
              "outlinewidth": 0,
              "ticks": ""
             }
            },
            "type": "scattergl"
           }
          ],
          "scattermapbox": [
           {
            "marker": {
             "colorbar": {
              "outlinewidth": 0,
              "ticks": ""
             }
            },
            "type": "scattermapbox"
           }
          ],
          "scatterpolar": [
           {
            "marker": {
             "colorbar": {
              "outlinewidth": 0,
              "ticks": ""
             }
            },
            "type": "scatterpolar"
           }
          ],
          "scatterpolargl": [
           {
            "marker": {
             "colorbar": {
              "outlinewidth": 0,
              "ticks": ""
             }
            },
            "type": "scatterpolargl"
           }
          ],
          "scatterternary": [
           {
            "marker": {
             "colorbar": {
              "outlinewidth": 0,
              "ticks": ""
             }
            },
            "type": "scatterternary"
           }
          ],
          "surface": [
           {
            "colorbar": {
             "outlinewidth": 0,
             "ticks": ""
            },
            "colorscale": [
             [
              0,
              "#0d0887"
             ],
             [
              0.1111111111111111,
              "#46039f"
             ],
             [
              0.2222222222222222,
              "#7201a8"
             ],
             [
              0.3333333333333333,
              "#9c179e"
             ],
             [
              0.4444444444444444,
              "#bd3786"
             ],
             [
              0.5555555555555556,
              "#d8576b"
             ],
             [
              0.6666666666666666,
              "#ed7953"
             ],
             [
              0.7777777777777778,
              "#fb9f3a"
             ],
             [
              0.8888888888888888,
              "#fdca26"
             ],
             [
              1,
              "#f0f921"
             ]
            ],
            "type": "surface"
           }
          ],
          "table": [
           {
            "cells": {
             "fill": {
              "color": "#EBF0F8"
             },
             "line": {
              "color": "white"
             }
            },
            "header": {
             "fill": {
              "color": "#C8D4E3"
             },
             "line": {
              "color": "white"
             }
            },
            "type": "table"
           }
          ]
         },
         "layout": {
          "annotationdefaults": {
           "arrowcolor": "#2a3f5f",
           "arrowhead": 0,
           "arrowwidth": 1
          },
          "autotypenumbers": "strict",
          "coloraxis": {
           "colorbar": {
            "outlinewidth": 0,
            "ticks": ""
           }
          },
          "colorscale": {
           "diverging": [
            [
             0,
             "#8e0152"
            ],
            [
             0.1,
             "#c51b7d"
            ],
            [
             0.2,
             "#de77ae"
            ],
            [
             0.3,
             "#f1b6da"
            ],
            [
             0.4,
             "#fde0ef"
            ],
            [
             0.5,
             "#f7f7f7"
            ],
            [
             0.6,
             "#e6f5d0"
            ],
            [
             0.7,
             "#b8e186"
            ],
            [
             0.8,
             "#7fbc41"
            ],
            [
             0.9,
             "#4d9221"
            ],
            [
             1,
             "#276419"
            ]
           ],
           "sequential": [
            [
             0,
             "#0d0887"
            ],
            [
             0.1111111111111111,
             "#46039f"
            ],
            [
             0.2222222222222222,
             "#7201a8"
            ],
            [
             0.3333333333333333,
             "#9c179e"
            ],
            [
             0.4444444444444444,
             "#bd3786"
            ],
            [
             0.5555555555555556,
             "#d8576b"
            ],
            [
             0.6666666666666666,
             "#ed7953"
            ],
            [
             0.7777777777777778,
             "#fb9f3a"
            ],
            [
             0.8888888888888888,
             "#fdca26"
            ],
            [
             1,
             "#f0f921"
            ]
           ],
           "sequentialminus": [
            [
             0,
             "#0d0887"
            ],
            [
             0.1111111111111111,
             "#46039f"
            ],
            [
             0.2222222222222222,
             "#7201a8"
            ],
            [
             0.3333333333333333,
             "#9c179e"
            ],
            [
             0.4444444444444444,
             "#bd3786"
            ],
            [
             0.5555555555555556,
             "#d8576b"
            ],
            [
             0.6666666666666666,
             "#ed7953"
            ],
            [
             0.7777777777777778,
             "#fb9f3a"
            ],
            [
             0.8888888888888888,
             "#fdca26"
            ],
            [
             1,
             "#f0f921"
            ]
           ]
          },
          "colorway": [
           "#636efa",
           "#EF553B",
           "#00cc96",
           "#ab63fa",
           "#FFA15A",
           "#19d3f3",
           "#FF6692",
           "#B6E880",
           "#FF97FF",
           "#FECB52"
          ],
          "font": {
           "color": "#2a3f5f"
          },
          "geo": {
           "bgcolor": "white",
           "lakecolor": "white",
           "landcolor": "#E5ECF6",
           "showlakes": true,
           "showland": true,
           "subunitcolor": "white"
          },
          "hoverlabel": {
           "align": "left"
          },
          "hovermode": "closest",
          "mapbox": {
           "style": "light"
          },
          "paper_bgcolor": "white",
          "plot_bgcolor": "#E5ECF6",
          "polar": {
           "angularaxis": {
            "gridcolor": "white",
            "linecolor": "white",
            "ticks": ""
           },
           "bgcolor": "#E5ECF6",
           "radialaxis": {
            "gridcolor": "white",
            "linecolor": "white",
            "ticks": ""
           }
          },
          "scene": {
           "xaxis": {
            "backgroundcolor": "#E5ECF6",
            "gridcolor": "white",
            "gridwidth": 2,
            "linecolor": "white",
            "showbackground": true,
            "ticks": "",
            "zerolinecolor": "white"
           },
           "yaxis": {
            "backgroundcolor": "#E5ECF6",
            "gridcolor": "white",
            "gridwidth": 2,
            "linecolor": "white",
            "showbackground": true,
            "ticks": "",
            "zerolinecolor": "white"
           },
           "zaxis": {
            "backgroundcolor": "#E5ECF6",
            "gridcolor": "white",
            "gridwidth": 2,
            "linecolor": "white",
            "showbackground": true,
            "ticks": "",
            "zerolinecolor": "white"
           }
          },
          "shapedefaults": {
           "line": {
            "color": "#2a3f5f"
           }
          },
          "ternary": {
           "aaxis": {
            "gridcolor": "white",
            "linecolor": "white",
            "ticks": ""
           },
           "baxis": {
            "gridcolor": "white",
            "linecolor": "white",
            "ticks": ""
           },
           "bgcolor": "#E5ECF6",
           "caxis": {
            "gridcolor": "white",
            "linecolor": "white",
            "ticks": ""
           }
          },
          "title": {
           "x": 0.05
          },
          "xaxis": {
           "automargin": true,
           "gridcolor": "white",
           "linecolor": "white",
           "ticks": "",
           "title": {
            "standoff": 15
           },
           "zerolinecolor": "white",
           "zerolinewidth": 2
          },
          "yaxis": {
           "automargin": true,
           "gridcolor": "white",
           "linecolor": "white",
           "ticks": "",
           "title": {
            "standoff": 15
           },
           "zerolinecolor": "white",
           "zerolinewidth": 2
          }
         }
        },
        "xaxis": {
         "autorange": true,
         "range": [
          -1,
          1
         ],
         "type": "linear"
        },
        "yaxis": {
         "autorange": true,
         "range": [
          0.5339413023312727,
          9.855115255705819
         ],
         "type": "linear"
        }
       }
      },
      "image/png": "[encoded data removed]",
      "text/html": [
       "<div>                            <div id=\"0ba0c002-879a-4c99-8020-2473c0811257\" class=\"plotly-graph-div\" style=\"height:525px; width:100%;\"></div>            <script type=\"text/javascript\">                require([\"plotly\"], function(Plotly) {                    window.PLOTLYENV=window.PLOTLYENV || {};                                    if (document.getElementById(\"0ba0c002-879a-4c99-8020-2473c0811257\")) {                    Plotly.newPlot(                        \"0ba0c002-879a-4c99-8020-2473c0811257\",                        [{\"x\":[-1.0,-0.9899497487437185,-0.9798994974874372,-0.9698492462311558,-0.9597989949748744,-0.949748743718593,-0.9396984924623115,-0.9296482412060302,-0.9195979899497487,-0.9095477386934674,-0.8994974874371859,-0.8894472361809045,-0.8793969849246231,-0.8693467336683417,-0.8592964824120604,-0.8492462311557789,-0.8391959798994975,-0.8291457286432161,-0.8190954773869347,-0.8090452261306533,-0.7989949748743719,-0.7889447236180904,-0.778894472361809,-0.7688442211055276,-0.7587939698492463,-0.7487437185929648,-0.7386934673366834,-0.728643216080402,-0.7185929648241206,-0.7085427135678393,-0.6984924623115578,-0.6884422110552764,-0.6783919597989949,-0.6683417085427136,-0.6582914572864322,-0.6482412060301508,-0.6381909547738693,-0.6281407035175879,-0.6180904522613065,-0.6080402010050251,-0.5979899497487438,-0.5879396984924623,-0.5778894472361809,-0.5678391959798995,-0.5577889447236181,-0.5477386934673367,-0.5376884422110553,-0.5276381909547738,-0.5175879396984925,-0.507537688442211,-0.4974874371859297,-0.48743718592964824,-0.4773869346733668,-0.46733668341708545,-0.457286432160804,-0.44723618090452255,-0.4371859296482412,-0.42713567839195976,-0.4170854271356784,-0.40703517587939697,-0.3969849246231155,-0.3869346733668342,-0.37688442211055273,-0.3668341708542714,-0.35678391959798994,-0.3467336683417085,-0.33668341708542715,-0.3266331658291457,-0.31658291457286436,-0.3065326633165829,-0.29648241206030146,-0.2864321608040201,-0.27638190954773867,-0.26633165829145733,-0.2562814070351759,-0.24623115577889443,-0.2361809045226131,-0.22613065326633164,-0.2160804020100502,-0.20603015075376885,-0.1959798994974874,-0.18592964824120606,-0.1758793969849246,-0.16582914572864316,-0.15577889447236182,-0.14572864321608037,-0.13567839195979903,-0.12562814070351758,-0.11557788944723613,-0.10552763819095479,-0.09547738693467334,-0.085427135678392,-0.07537688442211055,-0.0653266331658291,-0.055276381909547756,-0.045226130653266305,-0.035175879396984966,-0.025125628140703515,-0.015075376884422065,-0.005025125628140725,0.005025125628140614,0.015075376884422065,0.025125628140703515,0.035175879396984966,0.045226130653266416,0.055276381909547645,0.0653266331658291,0.07537688442211055,0.085427135678392,0.09547738693467345,0.1055276381909549,0.11557788944723613,0.12562814070351758,0.13567839195979903,0.14572864321608048,0.15577889447236193,0.16582914572864316,0.1758793969849246,0.18592964824120606,0.1959798994974875,0.20603015075376896,0.2160804020100502,0.22613065326633164,0.2361809045226131,0.24623115577889454,0.256281407035176,0.2663316582914572,0.27638190954773867,0.2864321608040201,0.29648241206030157,0.306532663316583,0.31658291457286425,0.3266331658291457,0.33668341708542715,0.3467336683417086,0.35678391959799005,0.3668341708542713,0.37688442211055273,0.3869346733668342,0.39698492462311563,0.4070351758793971,0.4170854271356783,0.42713567839195976,0.4371859296482412,0.44723618090452266,0.4572864321608041,0.46733668341708534,0.4773869346733668,0.48743718592964824,0.4974874371859297,0.5075376884422111,0.5175879396984926,0.5276381909547738,0.5376884422110553,0.5477386934673367,0.5577889447236182,0.5678391959798996,0.5778894472361809,0.5879396984924623,0.5979899497487438,0.6080402010050252,0.6180904522613067,0.6281407035175879,0.6381909547738693,0.6482412060301508,0.6582914572864322,0.6683417085427137,0.6783919597989949,0.6884422110552764,0.6984924623115578,0.7085427135678393,0.7185929648241207,0.728643216080402,0.7386934673366834,0.7487437185929648,0.7587939698492463,0.7688442211055277,0.778894472361809,0.7889447236180904,0.7989949748743719,0.8090452261306533,0.8190954773869348,0.829145728643216,0.8391959798994975,0.8492462311557789,0.8592964824120604,0.8693467336683418,0.879396984924623,0.8894472361809045,0.8994974874371859,0.9095477386934674,0.9195979899497488,0.9296482412060301,0.9396984924623115,0.949748743718593,0.9597989949748744,0.9698492462311559,0.9798994974874373,0.9899497487437185,1.0],\"y\":[1.0,1.0201512052791002,1.0404044103458587,1.0607606371543117,1.0812210023765494,1.1017865194603738,1.1224582512627737,1.1432372692614439,1.1641246574188675,1.1851215103452668,1.2062289331618288,1.2274480432702868,1.2487799677983904,1.2702258466419736,1.2917868335238725,1.313464090827415,1.3352587918383758,1.357172122466629,1.3792052811499447,1.4013594784972576,1.4236359364811952,1.4460358908390312,1.4685605886752415,1.491211289790358,1.5139892676413031,1.5368958088672056,1.5599322118294305,1.5830997877536157,1.606399860878811,1.6298337686066238,1.6534028616503593,1.6771085053099226,1.7009520800177915,1.7249349790635238,1.7490586099748675,1.7733243947123825,1.7977337698462095,1.8222881867328435,1.8469891107804637,1.8718380202793496,1.8968364099489634,1.9219857896949157,1.9472876846595506,1.9727436353664851,1.9983551978651501,2.024123943954492,2.0500514615895153,2.076139354550022,2.102389242744076,2.12880276238591,2.1553815661447953,2.1821273232939165,2.2090417199828853,2.2361264602157034,2.2633832647818397,2.2908138716733912,2.3184200363844423,2.34620353207161,2.3741661497145823,2.40230969856278,2.43063600611187,2.459146919086992,2.4878443021167334,2.516730038626531,2.5458060310038326,2.575074200764879,2.6045364887715032,2.634194857301968,2.6640512879835563,2.6941077815590324,2.724366358898032,2.754829061184057,2.785497950103437,2.8163751080362616,2.847462638249276,2.8787626650907474,2.9102773341873007,2.9420088126427206,2.9739592892387177,3.0061309746376694,3.0385261015874954,3.0711469281173267,3.103995736183843,3.1370748286219214,3.170386531647898,3.203933195117567,3.237717192787912,3.2717409225825813,3.3060068068611055,3.3405172926918523,3.375274852128726,3.4102819824914286,3.4455412034616333,3.4810550590354894,3.5168261212951037,3.5528569882595433,3.5891502841376237,3.625708659582549,3.662534791948398,3.699631385548461,3.737001171915429,3.7746469100634275,3.8125713867519697,3.8507774180159062,3.8892678487735983,3.92804555171531,3.967113428544295,4.006474410268317,4.046131457493764,4.086087560722371,4.126345740650534,4.166909048471228,4.207780566178525,4.2489634068747195,4.290460715347355,4.332275668242259,4.374411474086207,4.416871373809606,4.459658641070485,4.502776582581263,4.546228538438266,4.590017882454004,4.63414802249221,4.67862240080563,4.723444494376599,4.768617815655206,4.814145912699841,4.860032369093974,4.9062808046009465,4.952894875524053,4.999878275069628,5.047234733713122,5.094968019568165,5.143081938758628,5.1915803357936765,5.24046709394585,5.289746136352798,5.339421426026576,5.389496965451469,5.439976797527674,5.490865005974802,5.542165715738799,5.593883093402284,5.646021347598307,5.698584729427534,5.751577532878845,5.8050040951231585,5.858868798151823,5.913176067881761,5.9679303746830525,6.023136234060229,6.078798207103749,6.13492090094499,6.191508969214811,6.248567112505692,6.3061000788375,6.364112664126921,6.422609712660611,6.481596118450053,6.541076825203028,6.601056825856995,6.661541163762722,6.7225349331880855,6.784043279826474,6.846071401309824,6.908624547726366,6.971708022143116,7.0353271811331695,7.099487435307856,7.164194249853793,7.229453145074909,7.29526969698756,7.361649539369782,7.428598362544397,7.49612191372268,7.5642259981738595,7.632916479813824,7.7021992818001,7.772080387133173,7.842565839264219,7.913661742709339,7.9853742636703755,8.057709630662364,8.130674135147736,8.204274132177297,8.278516040954834,8.353406344843751,8.428951593079178,8.505158401199296,8.582033451571473,8.659583494068716,8.737815346753045,8.816735896565874,8.896352100025462,8.976670983931491,9.057699646076852,9.139445255966693,9.221915055544812,9.305116359927425,9.389056558037092],\"type\":\"scatter\"}],                        {\"template\":{\"data\":{\"histogram2dcontour\":[{\"type\":\"histogram2dcontour\",\"colorbar\":{\"outlinewidth\":0,\"ticks\":\"\"},\"colorscale\":[[0.0,\"#0d0887\"],[0.1111111111111111,\"#46039f\"],[0.2222222222222222,\"#7201a8\"],[0.3333333333333333,\"#9c179e\"],[0.4444444444444444,\"#bd3786\"],[0.5555555555555556,\"#d8576b\"],[0.6666666666666666,\"#ed7953\"],[0.7777777777777778,\"#fb9f3a\"],[0.8888888888888888,\"#fdca26\"],[1.0,\"#f0f921\"]]}],\"choropleth\":[{\"type\":\"choropleth\",\"colorbar\":{\"outlinewidth\":0,\"ticks\":\"\"}}],\"histogram2d\":[{\"type\":\"histogram2d\",\"colorbar\":{\"outlinewidth\":0,\"ticks\":\"\"},\"colorscale\":[[0.0,\"#0d0887\"],[0.1111111111111111,\"#46039f\"],[0.2222222222222222,\"#7201a8\"],[0.3333333333333333,\"#9c179e\"],[0.4444444444444444,\"#bd3786\"],[0.5555555555555556,\"#d8576b\"],[0.6666666666666666,\"#ed7953\"],[0.7777777777777778,\"#fb9f3a\"],[0.8888888888888888,\"#fdca26\"],[1.0,\"#f0f921\"]]}],\"heatmap\":[{\"type\":\"heatmap\",\"colorbar\":{\"outlinewidth\":0,\"ticks\":\"\"},\"colorscale\":[[0.0,\"#0d0887\"],[0.1111111111111111,\"#46039f\"],[0.2222222222222222,\"#7201a8\"],[0.3333333333333333,\"#9c179e\"],[0.4444444444444444,\"#bd3786\"],[0.5555555555555556,\"#d8576b\"],[0.6666666666666666,\"#ed7953\"],[0.7777777777777778,\"#fb9f3a\"],[0.8888888888888888,\"#fdca26\"],[1.0,\"#f0f921\"]]}],\"heatmapgl\":[{\"type\":\"heatmapgl\",\"colorbar\":{\"outlinewidth\":0,\"ticks\":\"\"},\"colorscale\":[[0.0,\"#0d0887\"],[0.1111111111111111,\"#46039f\"],[0.2222222222222222,\"#7201a8\"],[0.3333333333333333,\"#9c179e\"],[0.4444444444444444,\"#bd3786\"],[0.5555555555555556,\"#d8576b\"],[0.6666666666666666,\"#ed7953\"],[0.7777777777777778,\"#fb9f3a\"],[0.8888888888888888,\"#fdca26\"],[1.0,\"#f0f921\"]]}],\"contourcarpet\":[{\"type\":\"contourcarpet\",\"colorbar\":{\"outlinewidth\":0,\"ticks\":\"\"}}],\"contour\":[{\"type\":\"contour\",\"colorbar\":{\"outlinewidth\":0,\"ticks\":\"\"},\"colorscale\":[[0.0,\"#0d0887\"],[0.1111111111111111,\"#46039f\"],[0.2222222222222222,\"#7201a8\"],[0.3333333333333333,\"#9c179e\"],[0.4444444444444444,\"#bd3786\"],[0.5555555555555556,\"#d8576b\"],[0.6666666666666666,\"#ed7953\"],[0.7777777777777778,\"#fb9f3a\"],[0.8888888888888888,\"#fdca26\"],[1.0,\"#f0f921\"]]}],\"surface\":[{\"type\":\"surface\",\"colorbar\":{\"outlinewidth\":0,\"ticks\":\"\"},\"colorscale\":[[0.0,\"#0d0887\"],[0.1111111111111111,\"#46039f\"],[0.2222222222222222,\"#7201a8\"],[0.3333333333333333,\"#9c179e\"],[0.4444444444444444,\"#bd3786\"],[0.5555555555555556,\"#d8576b\"],[0.6666666666666666,\"#ed7953\"],[0.7777777777777778,\"#fb9f3a\"],[0.8888888888888888,\"#fdca26\"],[1.0,\"#f0f921\"]]}],\"mesh3d\":[{\"type\":\"mesh3d\",\"colorbar\":{\"outlinewidth\":0,\"ticks\":\"\"}}],\"scatter\":[{\"fillpattern\":{\"fillmode\":\"overlay\",\"size\":10,\"solidity\":0.2},\"type\":\"scatter\"}],\"parcoords\":[{\"type\":\"parcoords\",\"line\":{\"colorbar\":{\"outlinewidth\":0,\"ticks\":\"\"}}}],\"scatterpolargl\":[{\"type\":\"scatterpolargl\",\"marker\":{\"colorbar\":{\"outlinewidth\":0,\"ticks\":\"\"}}}],\"bar\":[{\"error_x\":{\"color\":\"#2a3f5f\"},\"error_y\":{\"color\":\"#2a3f5f\"},\"marker\":{\"line\":{\"color\":\"#E5ECF6\",\"width\":0.5},\"pattern\":{\"fillmode\":\"overlay\",\"size\":10,\"solidity\":0.2}},\"type\":\"bar\"}],\"scattergeo\":[{\"type\":\"scattergeo\",\"marker\":{\"colorbar\":{\"outlinewidth\":0,\"ticks\":\"\"}}}],\"scatterpolar\":[{\"type\":\"scatterpolar\",\"marker\":{\"colorbar\":{\"outlinewidth\":0,\"ticks\":\"\"}}}],\"histogram\":[{\"marker\":{\"pattern\":{\"fillmode\":\"overlay\",\"size\":10,\"solidity\":0.2}},\"type\":\"histogram\"}],\"scattergl\":[{\"type\":\"scattergl\",\"marker\":{\"colorbar\":{\"outlinewidth\":0,\"ticks\":\"\"}}}],\"scatter3d\":[{\"type\":\"scatter3d\",\"line\":{\"colorbar\":{\"outlinewidth\":0,\"ticks\":\"\"}},\"marker\":{\"colorbar\":{\"outlinewidth\":0,\"ticks\":\"\"}}}],\"scattermapbox\":[{\"type\":\"scattermapbox\",\"marker\":{\"colorbar\":{\"outlinewidth\":0,\"ticks\":\"\"}}}],\"scatterternary\":[{\"type\":\"scatterternary\",\"marker\":{\"colorbar\":{\"outlinewidth\":0,\"ticks\":\"\"}}}],\"scattercarpet\":[{\"type\":\"scattercarpet\",\"marker\":{\"colorbar\":{\"outlinewidth\":0,\"ticks\":\"\"}}}],\"carpet\":[{\"aaxis\":{\"endlinecolor\":\"#2a3f5f\",\"gridcolor\":\"white\",\"linecolor\":\"white\",\"minorgridcolor\":\"white\",\"startlinecolor\":\"#2a3f5f\"},\"baxis\":{\"endlinecolor\":\"#2a3f5f\",\"gridcolor\":\"white\",\"linecolor\":\"white\",\"minorgridcolor\":\"white\",\"startlinecolor\":\"#2a3f5f\"},\"type\":\"carpet\"}],\"table\":[{\"cells\":{\"fill\":{\"color\":\"#EBF0F8\"},\"line\":{\"color\":\"white\"}},\"header\":{\"fill\":{\"color\":\"#C8D4E3\"},\"line\":{\"color\":\"white\"}},\"type\":\"table\"}],\"barpolar\":[{\"marker\":{\"line\":{\"color\":\"#E5ECF6\",\"width\":0.5},\"pattern\":{\"fillmode\":\"overlay\",\"size\":10,\"solidity\":0.2}},\"type\":\"barpolar\"}],\"pie\":[{\"automargin\":true,\"type\":\"pie\"}]},\"layout\":{\"autotypenumbers\":\"strict\",\"colorway\":[\"#636efa\",\"#EF553B\",\"#00cc96\",\"#ab63fa\",\"#FFA15A\",\"#19d3f3\",\"#FF6692\",\"#B6E880\",\"#FF97FF\",\"#FECB52\"],\"font\":{\"color\":\"#2a3f5f\"},\"hovermode\":\"closest\",\"hoverlabel\":{\"align\":\"left\"},\"paper_bgcolor\":\"white\",\"plot_bgcolor\":\"#E5ECF6\",\"polar\":{\"bgcolor\":\"#E5ECF6\",\"angularaxis\":{\"gridcolor\":\"white\",\"linecolor\":\"white\",\"ticks\":\"\"},\"radialaxis\":{\"gridcolor\":\"white\",\"linecolor\":\"white\",\"ticks\":\"\"}},\"ternary\":{\"bgcolor\":\"#E5ECF6\",\"aaxis\":{\"gridcolor\":\"white\",\"linecolor\":\"white\",\"ticks\":\"\"},\"baxis\":{\"gridcolor\":\"white\",\"linecolor\":\"white\",\"ticks\":\"\"},\"caxis\":{\"gridcolor\":\"white\",\"linecolor\":\"white\",\"ticks\":\"\"}},\"coloraxis\":{\"colorbar\":{\"outlinewidth\":0,\"ticks\":\"\"}},\"colorscale\":{\"sequential\":[[0.0,\"#0d0887\"],[0.1111111111111111,\"#46039f\"],[0.2222222222222222,\"#7201a8\"],[0.3333333333333333,\"#9c179e\"],[0.4444444444444444,\"#bd3786\"],[0.5555555555555556,\"#d8576b\"],[0.6666666666666666,\"#ed7953\"],[0.7777777777777778,\"#fb9f3a\"],[0.8888888888888888,\"#fdca26\"],[1.0,\"#f0f921\"]],\"sequentialminus\":[[0.0,\"#0d0887\"],[0.1111111111111111,\"#46039f\"],[0.2222222222222222,\"#7201a8\"],[0.3333333333333333,\"#9c179e\"],[0.4444444444444444,\"#bd3786\"],[0.5555555555555556,\"#d8576b\"],[0.6666666666666666,\"#ed7953\"],[0.7777777777777778,\"#fb9f3a\"],[0.8888888888888888,\"#fdca26\"],[1.0,\"#f0f921\"]],\"diverging\":[[0,\"#8e0152\"],[0.1,\"#c51b7d\"],[0.2,\"#de77ae\"],[0.3,\"#f1b6da\"],[0.4,\"#fde0ef\"],[0.5,\"#f7f7f7\"],[0.6,\"#e6f5d0\"],[0.7,\"#b8e186\"],[0.8,\"#7fbc41\"],[0.9,\"#4d9221\"],[1,\"#276419\"]]},\"xaxis\":{\"gridcolor\":\"white\",\"linecolor\":\"white\",\"ticks\":\"\",\"title\":{\"standoff\":15},\"zerolinecolor\":\"white\",\"automargin\":true,\"zerolinewidth\":2},\"yaxis\":{\"gridcolor\":\"white\",\"linecolor\":\"white\",\"ticks\":\"\",\"title\":{\"standoff\":15},\"zerolinecolor\":\"white\",\"automargin\":true,\"zerolinewidth\":2},\"scene\":{\"xaxis\":{\"backgroundcolor\":\"#E5ECF6\",\"gridcolor\":\"white\",\"linecolor\":\"white\",\"showbackground\":true,\"ticks\":\"\",\"zerolinecolor\":\"white\",\"gridwidth\":2},\"yaxis\":{\"backgroundcolor\":\"#E5ECF6\",\"gridcolor\":\"white\",\"linecolor\":\"white\",\"showbackground\":true,\"ticks\":\"\",\"zerolinecolor\":\"white\",\"gridwidth\":2},\"zaxis\":{\"backgroundcolor\":\"#E5ECF6\",\"gridcolor\":\"white\",\"linecolor\":\"white\",\"showbackground\":true,\"ticks\":\"\",\"zerolinecolor\":\"white\",\"gridwidth\":2}},\"shapedefaults\":{\"line\":{\"color\":\"#2a3f5f\"}},\"annotationdefaults\":{\"arrowcolor\":\"#2a3f5f\",\"arrowhead\":0,\"arrowwidth\":1},\"geo\":{\"bgcolor\":\"white\",\"landcolor\":\"#E5ECF6\",\"subunitcolor\":\"white\",\"showland\":true,\"showlakes\":true,\"lakecolor\":\"white\"},\"title\":{\"x\":0.05},\"mapbox\":{\"style\":\"light\"}}}},                        {\"responsive\": true}                    ).then(function(){\n",
       "                            \n",
       "var gd = document.getElementById('0ba0c002-879a-4c99-8020-2473c0811257');\n",
       "var x = new MutationObserver(function (mutations, observer) {{\n",
       "        var display = window.getComputedStyle(gd).display;\n",
       "        if (!display || display === 'none') {{\n",
       "            console.log([gd, 'removed!']);\n",
       "            Plotly.purge(gd);\n",
       "            observer.disconnect();\n",
       "        }}\n",
       "}});\n",
       "\n",
       "// Listen for the removal of the full notebook cells\n",
       "var notebookContainer = gd.closest('#notebook-container');\n",
       "if (notebookContainer) {{\n",
       "    x.observe(notebookContainer, {childList: true});\n",
       "}}\n",
       "\n",
       "// Listen for the clearing of the current output cell\n",
       "var outputEl = gd.closest('.output');\n",
       "if (outputEl) {{\n",
       "    x.observe(outputEl, {childList: true});\n",
       "}}\n",
       "\n",
       "                        })                };                });            </script>        </div>"
      ]
     },
     "metadata": {},
     "output_type": "display_data"
    }
   ],
   "source": [
    "fig = go.Figure()\n",
    "\n",
    "fig.add_trace(go.Scatter(x=x,y=z[:,0]))\n",
    "\n",
    "fig.show()"
   ]
  },
  {
   "cell_type": "code",
   "execution_count": null,
   "id": "610f740e-cb60-4d34-9e84-28f5c4b6a7b3",
   "metadata": {},
   "outputs": [],
   "source": []
  }
 ],
 "metadata": {
  "kernelspec": {
   "display_name": "Python 3 (ipykernel)",
   "language": "python",
   "name": "python3"
  },
  "language_info": {
   "codemirror_mode": {
    "name": "ipython",
    "version": 3
   },
   "file_extension": ".py",
   "mimetype": "text/x-python",
   "name": "python",
   "nbconvert_exporter": "python",
   "pygments_lexer": "ipython3",
   "version": "3.10.8"
  }
 },
 "nbformat": 4,
 "nbformat_minor": 5
}
